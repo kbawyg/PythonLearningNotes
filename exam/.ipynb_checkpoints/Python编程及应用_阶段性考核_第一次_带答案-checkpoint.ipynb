{
 "cells": [
  {
   "cell_type": "markdown",
   "metadata": {},
   "source": [
    "# 《Python编程及应用》阶段性考核（一）\n",
    "\n",
    "|学号|姓名|班级|\n",
    "|:-:|:-:|:-:|\n",
    "|XXX|XXX|XXX|\n",
    "\n",
    "**1. 如何实现将`1`、`2`和`john`同时复制给变量`a`、`b`和`c`，要求只编写一行代码。**"
   ]
  },
  {
   "cell_type": "code",
   "execution_count": 3,
   "metadata": {},
   "outputs": [
    {
     "name": "stdout",
     "output_type": "stream",
     "text": [
      "1 2 john\n"
     ]
    }
   ],
   "source": [
    "a, b, c = 1, 2, \"john\"\n",
    "print(a, b, c)"
   ]
  },
  {
   "cell_type": "markdown",
   "metadata": {},
   "source": [
    "**2. 请将`\"1Hell_o world!\"`中的第二个字符`\"H\"`更改为`\"J\"`并输出。**"
   ]
  },
  {
   "cell_type": "code",
   "execution_count": 6,
   "metadata": {},
   "outputs": [
    {
     "name": "stdout",
     "output_type": "stream",
     "text": [
      "1Jell_o world!\n"
     ]
    }
   ],
   "source": [
    "s = \"1Hell_o world!\"\n",
    "s1 = s[:1] + \"J\" + s[2:]\n",
    "print(s1)"
   ]
  },
  {
   "cell_type": "markdown",
   "metadata": {},
   "source": [
    "**3. 请编写程序，将字符串\"pininig for the fjords\"分解成单词，并按照字母序打印。**"
   ]
  },
  {
   "cell_type": "code",
   "execution_count": 11,
   "metadata": {},
   "outputs": [
    {
     "name": "stdout",
     "output_type": "stream",
     "text": [
      "['fjords', 'for', 'pininig', 'the']\n"
     ]
    }
   ],
   "source": [
    "s = \"pininig for the fjords\"\n",
    "print(sorted(s.split(\" \")))"
   ]
  },
  {
   "cell_type": "markdown",
   "metadata": {},
   "source": [
    "**4. 请创建元组a，a中的元素分别为\"runoob\"、786、2.23、\"john\"和70.2；创建元组b，b中的元素分别为123和\"john\"；将b连接到a的后面，并将连接后的元组第一个元素替换为\"Python\"，最后输出替换后的元组。**"
   ]
  },
  {
   "cell_type": "code",
   "execution_count": 14,
   "metadata": {},
   "outputs": [
    {
     "name": "stdout",
     "output_type": "stream",
     "text": [
      "('Python', 786, 2.23, 'john', 70.2, 123, 'john')\n"
     ]
    }
   ],
   "source": [
    "a = (\"runoob\", 786, 2.23, \"john\", 70.2)\n",
    "b = (123, \"john\")\n",
    "c = a + b\n",
    "d = (\"Python\", ) + c[1:]\n",
    "print(d)"
   ]
  },
  {
   "cell_type": "markdown",
   "metadata": {},
   "source": [
    "**5. 给定字符串`s = \"ajldjlajfdljfddd\"`，编写程序去掉字符串`s`中的重复字符，并按照字母序输出`\"adfjl\"`。**"
   ]
  },
  {
   "cell_type": "code",
   "execution_count": 16,
   "metadata": {},
   "outputs": [
    {
     "name": "stdout",
     "output_type": "stream",
     "text": [
      "['a', 'd', 'f', 'j', 'l']\n"
     ]
    }
   ],
   "source": [
    "s = \"ajldjlajfdljfddd\"\n",
    "print(sorted(list(set(s))))"
   ]
  },
  {
   "cell_type": "markdown",
   "metadata": {},
   "source": [
    "**6. 已知字典`d = {\"a\":1, \"b\":2, \"c\":3}`，编写程序移除字典`d`中值大于1的所有项，操作完成后再输出字典`d`。**"
   ]
  },
  {
   "cell_type": "code",
   "execution_count": 22,
   "metadata": {},
   "outputs": [
    {
     "name": "stdout",
     "output_type": "stream",
     "text": [
      "a 1\n"
     ]
    }
   ],
   "source": [
    "d = {\"a\":1, \"b\":2, \"c\":3}\n",
    "d2 = {}\n",
    "for k in d:\n",
    "    if d[k] <= 1:\n",
    "        d2[k] = d[k]\n",
    "for k in d2:\n",
    "    print(k, d2[k])"
   ]
  },
  {
   "cell_type": "markdown",
   "metadata": {},
   "source": [
    "**7. 构建一个字典`d`，键分别是`\"a\"`、`\"b\"`和`\"c\"`，值分别是`1-10`、`11-20`和`21-30`的整数序列，输出字典`d`中`key=\"b\"`的第三个元素。**"
   ]
  },
  {
   "cell_type": "code",
   "execution_count": 23,
   "metadata": {},
   "outputs": [
    {
     "name": "stdout",
     "output_type": "stream",
     "text": [
      "13\n"
     ]
    }
   ],
   "source": [
    "d = {}\n",
    "d[\"a\"] = list(range(1, 11))\n",
    "d[\"b\"] = list(range(11, 21))\n",
    "d[\"c\"] = list(range(21, 31))\n",
    "print(d[\"b\"][2])"
   ]
  },
  {
   "cell_type": "markdown",
   "metadata": {},
   "source": [
    "**8. 编写一个函数`duichen(a)`，实现判断列表a中的元素是否对称，如果对称输出`True`，否则输出`False`。**"
   ]
  },
  {
   "cell_type": "code",
   "execution_count": 24,
   "metadata": {},
   "outputs": [
    {
     "name": "stdout",
     "output_type": "stream",
     "text": [
      "True\n",
      "True\n",
      "False\n"
     ]
    }
   ],
   "source": [
    "def duichen(a):\n",
    "    if a == a[::-1]:\n",
    "        return True\n",
    "    else:\n",
    "        return False\n",
    "\n",
    "ls1 = [1, 2, 0, 2, 1]\n",
    "ls2 = [1, 2, 3, 3, 2, 1]\n",
    "ls3 = [\"a\", \"b\", \"c\", \"b\", \"d\"]\n",
    "print(duichen(ls1))\n",
    "print(duichen(ls2))\n",
    "print(duichen(ls3))"
   ]
  },
  {
   "cell_type": "markdown",
   "metadata": {},
   "source": [
    "**9. 假设有如下列表，**\n",
    "```python\n",
    "people = [\n",
    "    {\n",
    "        \"name\":\"yoyo\",\n",
    "        \"age\":20\n",
    "    },\n",
    "    {\n",
    "        \"name\":\"admin\",\n",
    "        \"age\":28\n",
    "    },\n",
    "    {\n",
    "        \"name\":\"zhangsan\",\n",
    "        \"age\":25\n",
    "    }\n",
    "]\n",
    "```\n",
    "**请编写程序按照`age`从小到大排序，并输出排序后的列表。**"
   ]
  },
  {
   "cell_type": "code",
   "execution_count": 30,
   "metadata": {
    "scrolled": true
   },
   "outputs": [
    {
     "name": "stdout",
     "output_type": "stream",
     "text": [
      "[{'name': 'yoyo', 'age': 20}, {'name': 'zhangsan', 'age': 25}, {'name': 'admin', 'age': 28}]\n"
     ]
    }
   ],
   "source": [
    "people = [{\"name\":\"yoyo\", \"age\":20}, {\"name\":\"admin\", \"age\":28}, {\"name\":\"zhangsan\", \"age\":25}]\n",
    "people.sort(key = lambda x:x[\"age\"])\n",
    "print(people)"
   ]
  },
  {
   "cell_type": "markdown",
   "metadata": {},
   "source": [
    "**10. 假设`a = [2, 3, 8, 4, 9, 5, 6]`，`b = [2, 5, 6, 10, 17, 11]`，请编写程序分别输出`a`和`b`中都包含的元素，`a`或`b`中包含的所有元素，以及`a`中包含而`b`中不包含的元素。**"
   ]
  },
  {
   "cell_type": "code",
   "execution_count": 1,
   "metadata": {},
   "outputs": [
    {
     "name": "stdout",
     "output_type": "stream",
     "text": [
      "[2, 5, 6]\n",
      "[2, 3, 4, 5, 6, 8, 9, 10, 11, 17]\n",
      "[8, 9, 3, 4]\n"
     ]
    }
   ],
   "source": [
    "a = [2, 3, 8, 4, 9, 5, 6]\n",
    "b = [2, 5, 6, 10, 17, 11]\n",
    "print(list(set(a) & set(b)))\n",
    "print(list(set(a) | set(b)))\n",
    "print(list(set(a) - set(b)))"
   ]
  },
  {
   "cell_type": "markdown",
   "metadata": {},
   "source": [
    "**11. 假设`a = 1`和`b = 2`，再不引入第三方变量的前提下，如何交换两个变量的值。**"
   ]
  },
  {
   "cell_type": "code",
   "execution_count": 27,
   "metadata": {},
   "outputs": [
    {
     "name": "stdout",
     "output_type": "stream",
     "text": [
      "a的值为：2\n",
      "b的值为：1\n"
     ]
    }
   ],
   "source": [
    "a = 1\n",
    "b = 2\n",
    "b, a = a, b\n",
    "print(\"a的值为：{}\".format(a))\n",
    "print(\"b的值为：{}\".format(b))"
   ]
  },
  {
   "cell_type": "markdown",
   "metadata": {},
   "source": [
    "**12. 请将已给定的字符串s分割成单词，并统计s中出现的每个单词的词频，要求采用字典存储。最后按照词频由大到小的顺序输出前10个字典元素。**"
   ]
  },
  {
   "cell_type": "code",
   "execution_count": 46,
   "metadata": {},
   "outputs": [
    {
     "name": "stdout",
     "output_type": "stream",
     "text": [
      "('is', 10)\n",
      "('better', 8)\n",
      "('than', 8)\n",
      "('the', 6)\n",
      "('to', 5)\n",
      "('of', 3)\n",
      "('although', 3)\n",
      "('never', 3)\n",
      "('be', 3)\n",
      "('one', 3)\n"
     ]
    }
   ],
   "source": [
    "s = \"\"\"\n",
    "The Zen of Python, by Tim Peters\n",
    "Beautiful is better than ugly.\n",
    "Explicit is better than implicit.\n",
    "Simple is better than complex.\n",
    "Complex is better than complicated.\n",
    "Flat is better than nested.\n",
    "Sparse is better than dense.\n",
    "Readability counts.\n",
    "Special cases aren't special enough to break the rules.\n",
    "Although practicality beats purity.\n",
    "Errors should never pass silently.\n",
    "Unless explicitly silenced.\n",
    "In the face of ambiguity, refuse the temptation to guess.\n",
    "There should be one-- and preferably only one -- obvious way to do it.\n",
    "Although that way may not be obvious at first unless you're Dutch.\n",
    "Now is better than never.\n",
    "Although never is often better than right now.\n",
    "If the implementation is hard to explain, it's a bad idea.\n",
    "If the implementation is easy to explain, it may be a good idea.\n",
    "Namespaces are one honking great idea -- let's do more of those!\n",
    "\"\"\"\n",
    "\n",
    "s = s.lower()\n",
    "for i in [\".\", \",\", \"-\", \"\\n\"]:\n",
    "    s = s.replace(i, \" \")\n",
    "ls = s.split(\" \")\n",
    "ls1 = []\n",
    "for i in range(len(ls)):\n",
    "    if ls[i] != \"\":\n",
    "        ls1.append(ls[i])\n",
    "words = {}\n",
    "for s in ls1:\n",
    "    words[s] = words.get(s, 0) + 1\n",
    "\n",
    "items = list(words.items())\n",
    "items.sort(key=lambda x:x[1], reverse=True)\n",
    "for i in range(10):\n",
    "    print(items[i])"
   ]
  },
  {
   "cell_type": "markdown",
   "metadata": {},
   "source": [
    "**13. 小明参加校园扔铅球比赛，现在给你小明的身高`a`（浮点数），球落地点与小明头部的连线与水平线的夹角`b`（弧度），请编写程序计算小明扔铅球的水平距离。注意`a`、`b`都是浮点数，`b`是弧度数，输出水平距离时保留小数点后三位。假设`a = 165.5`，`b = 1.1`，则输出`84.234`。**"
   ]
  },
  {
   "cell_type": "code",
   "execution_count": 48,
   "metadata": {},
   "outputs": [
    {
     "name": "stdout",
     "output_type": "stream",
     "text": [
      "84.234\n"
     ]
    }
   ],
   "source": [
    "import math\n",
    "a = 165.5\n",
    "b = 1.1\n",
    "print(round(a/math.tan(b), 3))"
   ]
  }
 ],
 "metadata": {
  "kernelspec": {
   "display_name": "Python 3",
   "language": "python",
   "name": "python3"
  },
  "language_info": {
   "codemirror_mode": {
    "name": "ipython",
    "version": 3
   },
   "file_extension": ".py",
   "mimetype": "text/x-python",
   "name": "python",
   "nbconvert_exporter": "python",
   "pygments_lexer": "ipython3",
   "version": "3.7.0"
  }
 },
 "nbformat": 4,
 "nbformat_minor": 2
}
