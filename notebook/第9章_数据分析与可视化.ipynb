{
 "cells": [
  {
   "cell_type": "markdown",
   "metadata": {},
   "source": [
    "# 第9章 数据分析与可视化\n",
    "## 9.1 Numpy\n",
    "* NumPy是Python的一种开源的数值计算扩展。\n",
    "    * 可以用来存储和处理大型矩阵，比Python自身的嵌套列表（Nested List Structure）结构要高效的多。\n",
    "    * Numpy（Numeric Python）提供了许多高级的数值编程工具。\n",
    "    * Numpy的一个重要特性是它的数组计算，是我们做数据分析必不可少的一个包。\n",
    "* 使用NumPy前要先导入NumPy包，当然Anaconda全家桶已经安排好了，不需要自己用conda或者pip安装，导入的方法如下：\n",
    "\n",
    "```python\n",
    "import numpy\n",
    "import numpy as np   #推荐使用这种方式\n",
    "from numpy import *\n",
    "```\n",
    "\n",
    "### 9.1.1 Numpy的数组对象及其索引\n",
    "\n",
    "* 列表数据类型不适合数学操作\n",
    "\n",
    "**假如我们想将列表中的每个元素增加1，但列表不支持这样的操作**\n"
   ]
  },
  {
   "cell_type": "code",
   "execution_count": 1,
   "metadata": {},
   "outputs": [
    {
     "ename": "TypeError",
     "evalue": "can only concatenate list (not \"int\") to list",
     "output_type": "error",
     "traceback": [
      "\u001b[1;31m---------------------------------------------------------------------------\u001b[0m",
      "\u001b[1;31mTypeError\u001b[0m                                 Traceback (most recent call last)",
      "\u001b[1;32m<ipython-input-1-9a4ef4a17493>\u001b[0m in \u001b[0;36m<module>\u001b[1;34m()\u001b[0m\n\u001b[0;32m      1\u001b[0m \u001b[0ma\u001b[0m \u001b[1;33m=\u001b[0m \u001b[1;33m[\u001b[0m\u001b[1;36m1\u001b[0m\u001b[1;33m,\u001b[0m \u001b[1;36m2\u001b[0m\u001b[1;33m,\u001b[0m \u001b[1;36m3\u001b[0m\u001b[1;33m,\u001b[0m \u001b[1;36m4\u001b[0m\u001b[1;33m]\u001b[0m\u001b[1;33m\u001b[0m\u001b[0m\n\u001b[1;32m----> 2\u001b[1;33m \u001b[0mprint\u001b[0m\u001b[1;33m(\u001b[0m\u001b[0ma\u001b[0m \u001b[1;33m+\u001b[0m \u001b[1;36m1\u001b[0m\u001b[1;33m)\u001b[0m\u001b[1;33m\u001b[0m\u001b[0m\n\u001b[0m",
      "\u001b[1;31mTypeError\u001b[0m: can only concatenate list (not \"int\") to list"
     ]
    }
   ],
   "source": [
    "a = [1, 2, 3, 4]\n",
    "print(a + 1)"
   ]
  },
  {
   "cell_type": "markdown",
   "metadata": {},
   "source": [
    "正确的写法如下"
   ]
  },
  {
   "cell_type": "code",
   "execution_count": 2,
   "metadata": {},
   "outputs": [
    {
     "name": "stdout",
     "output_type": "stream",
     "text": [
      "[2, 3, 4, 5]\n"
     ]
    }
   ],
   "source": [
    "a = [1, 2, 3, 4]\n",
    "for i in range(len(a)):\n",
    "    a[i] = a[i] + 1\n",
    "print(a)"
   ]
  },
  {
   "cell_type": "markdown",
   "metadata": {},
   "source": [
    "还可以使用列表生成式"
   ]
  },
  {
   "cell_type": "code",
   "execution_count": 5,
   "metadata": {},
   "outputs": [
    {
     "name": "stdout",
     "output_type": "stream",
     "text": [
      "[2, 3, 4, 5]\n"
     ]
    }
   ],
   "source": [
    "a = [1, 2, 3, 4]\n",
    "x = [i + 1 for i in a]\n",
    "print(x)"
   ]
  },
  {
   "cell_type": "markdown",
   "metadata": {},
   "source": [
    "**假如现在有两个长度相同的列表a和b，我想让两个列表对应元素相加。**"
   ]
  },
  {
   "cell_type": "code",
   "execution_count": 13,
   "metadata": {},
   "outputs": [
    {
     "name": "stdout",
     "output_type": "stream",
     "text": [
      "[1, 2, 3, 4, 2, 3, 4, 5]\n"
     ]
    }
   ],
   "source": [
    "a = [1, 2, 3, 4]\n",
    "b = [2, 3, 4, 5]\n",
    "print(a + b)"
   ]
  },
  {
   "cell_type": "markdown",
   "metadata": {},
   "source": [
    "然而这并不是我们想要的结果，这里实现的是对两个列表进行拼接，而不是对应元素的相加，正确写法如下。"
   ]
  },
  {
   "cell_type": "code",
   "execution_count": 10,
   "metadata": {},
   "outputs": [
    {
     "name": "stdout",
     "output_type": "stream",
     "text": [
      "[3, 5, 7, 9]\n"
     ]
    }
   ],
   "source": [
    "a = [1, 2, 3, 4]\n",
    "b = [2, 3, 4, 5]\n",
    "c = []\n",
    "for i in range(len(a)):\n",
    "    c.append(a[i] + b[i])\n",
    "print(c)"
   ]
  },
  {
   "cell_type": "markdown",
   "metadata": {},
   "source": [
    "还可以使用列表生成式"
   ]
  },
  {
   "cell_type": "code",
   "execution_count": 12,
   "metadata": {},
   "outputs": [
    {
     "name": "stdout",
     "output_type": "stream",
     "text": [
      "[3, 5, 7, 9]\n"
     ]
    }
   ],
   "source": [
    "a = [1, 2, 3, 4]\n",
    "b = [2, 3, 4, 5]\n",
    "c = [x + y for (x, y) in zip(a, b)]\n",
    "print(c)"
   ]
  },
  {
   "cell_type": "markdown",
   "metadata": {},
   "source": [
    "**通过上面的例子我们发现，Python自带的列表在一些涉及到数学操作的时候，会比较麻烦，而且如果数据量特别大的话会非常耗时。**"
   ]
  },
  {
   "cell_type": "markdown",
   "metadata": {},
   "source": [
    "* 如果我们使用Numpy，就会变得特别简单。"
   ]
  },
  {
   "cell_type": "code",
   "execution_count": 18,
   "metadata": {},
   "outputs": [
    {
     "name": "stdout",
     "output_type": "stream",
     "text": [
      "[1 2 3 4]\n",
      "[2 3 4 5]\n",
      "[2 4 6 8]\n",
      "[3 5 7 9]\n"
     ]
    }
   ],
   "source": [
    "import numpy as np\n",
    "a = np.array([1, 2, 3, 4])\n",
    "print(a)\n",
    "print(a + 1)\n",
    "print(a * 2)\n",
    "b = np.array([2, 3, 4, 5])\n",
    "print(a + b)"
   ]
  },
  {
   "cell_type": "markdown",
   "metadata": {},
   "source": [
    "* 使用Numpy产生数组\n",
    "\n",
    "**从列表产生数组**"
   ]
  },
  {
   "cell_type": "code",
   "execution_count": 23,
   "metadata": {},
   "outputs": [
    {
     "name": "stdout",
     "output_type": "stream",
     "text": [
      "[0 1 2 3]\n"
     ]
    }
   ],
   "source": [
    "import numpy as np\n",
    "l = [0, 1, 2, 3]\n",
    "a = np.array(l)\n",
    "print(a)"
   ]
  },
  {
   "cell_type": "markdown",
   "metadata": {},
   "source": [
    "**从列表传入**"
   ]
  },
  {
   "cell_type": "code",
   "execution_count": 25,
   "metadata": {},
   "outputs": [
    {
     "name": "stdout",
     "output_type": "stream",
     "text": [
      "[1 2 3 4]\n"
     ]
    }
   ],
   "source": [
    "import numpy as np\n",
    "a = np.array([1, 2, 3, 4])\n",
    "print(a)"
   ]
  },
  {
   "cell_type": "markdown",
   "metadata": {},
   "source": [
    "**生成全0数组**"
   ]
  },
  {
   "cell_type": "code",
   "execution_count": 26,
   "metadata": {},
   "outputs": [
    {
     "name": "stdout",
     "output_type": "stream",
     "text": [
      "[0. 0. 0. 0. 0.]\n"
     ]
    }
   ],
   "source": [
    "import numpy as np\n",
    "a = np.zeros(5)\n",
    "print(a)"
   ]
  },
  {
   "cell_type": "markdown",
   "metadata": {},
   "source": [
    "**生成全1的数组**"
   ]
  },
  {
   "cell_type": "code",
   "execution_count": 28,
   "metadata": {},
   "outputs": [
    {
     "name": "stdout",
     "output_type": "stream",
     "text": [
      "[1. 1. 1. 1. 1.]\n"
     ]
    }
   ],
   "source": [
    "import numpy as np\n",
    "a = np.ones(5)\n",
    "print(a)"
   ]
  },
  {
   "cell_type": "markdown",
   "metadata": {},
   "source": [
    "可以使用`dtype`参数指定填入的类型"
   ]
  },
  {
   "cell_type": "code",
   "execution_count": 30,
   "metadata": {},
   "outputs": [
    {
     "name": "stdout",
     "output_type": "stream",
     "text": [
      "[1 1 1 1 1]\n"
     ]
    }
   ],
   "source": [
    "import numpy as np\n",
    "a = np.ones(5, dtype=\"int\")\n",
    "print(a)"
   ]
  },
  {
   "cell_type": "code",
   "execution_count": 31,
   "metadata": {},
   "outputs": [
    {
     "name": "stdout",
     "output_type": "stream",
     "text": [
      "[ True  True  True  True  True]\n"
     ]
    }
   ],
   "source": [
    "import numpy as np\n",
    "a = np.ones(5, dtype=\"bool\")\n",
    "print(a)"
   ]
  },
  {
   "cell_type": "markdown",
   "metadata": {},
   "source": [
    "**可以使用fill方法将数组设为指定值**"
   ]
  },
  {
   "cell_type": "code",
   "execution_count": 32,
   "metadata": {},
   "outputs": [
    {
     "name": "stdout",
     "output_type": "stream",
     "text": [
      "[1 2 3 4]\n",
      "[5 5 5 5]\n"
     ]
    }
   ],
   "source": [
    "import numpy as np\n",
    "a = np.array([1, 2, 3, 4])\n",
    "print(a)\n",
    "a.fill(5)\n",
    "print(a)"
   ]
  },
  {
   "cell_type": "markdown",
   "metadata": {},
   "source": [
    "**注意**：与列表不同，数组中要求所有元素的dtype是一样的，如果传入参数的类型与数组类型不一样，需要按照已有的类型进行转换。\n",
    "\n",
    "假设现在我们要填充的数是2.5，那么a中的2.5会自动取整。"
   ]
  },
  {
   "cell_type": "code",
   "execution_count": 33,
   "metadata": {},
   "outputs": [
    {
     "name": "stdout",
     "output_type": "stream",
     "text": [
      "[2 2 2 2]\n"
     ]
    }
   ],
   "source": [
    "import numpy as np\n",
    "a = np.array([1, 2, 3, 4])\n",
    "a.fill(2.5)\n",
    "print(a)"
   ]
  },
  {
   "cell_type": "markdown",
   "metadata": {},
   "source": [
    "如果需要将a中填充的元素都是2.5，那么需要先进行数据格式的转换。"
   ]
  },
  {
   "cell_type": "code",
   "execution_count": 34,
   "metadata": {},
   "outputs": [
    {
     "name": "stdout",
     "output_type": "stream",
     "text": [
      "[2.5 2.5 2.5 2.5]\n"
     ]
    }
   ],
   "source": [
    "import numpy as np\n",
    "a = np.array([1, 2, 3, 4])\n",
    "a = a.astype(\"float\") # 对a中存储的数据类型更改为float型\n",
    "a.fill(2.5)\n",
    "print(a)"
   ]
  },
  {
   "cell_type": "markdown",
   "metadata": {},
   "source": [
    "* 可以使用一些特定的方法生成特殊的数组"
   ]
  },
  {
   "cell_type": "markdown",
   "metadata": {},
   "source": [
    "**生成整数序列**"
   ]
  },
  {
   "cell_type": "code",
   "execution_count": 39,
   "metadata": {},
   "outputs": [
    {
     "name": "stdout",
     "output_type": "stream",
     "text": [
      "[1 2 3 4 5 6 7 8 9]\n",
      "[1 3 5 7 9]\n"
     ]
    }
   ],
   "source": [
    "import numpy as np\n",
    "# arange函数的第一个参数是起点，第二参数是终点（不包含），第三个参数是步长\n",
    "a = np.arange(1, 10)\n",
    "print(a)\n",
    "\n",
    "a = np.arange(1, 10, 2)\n",
    "print(a)"
   ]
  },
  {
   "cell_type": "markdown",
   "metadata": {},
   "source": [
    "**生成等差数列**"
   ]
  },
  {
   "cell_type": "code",
   "execution_count": 42,
   "metadata": {},
   "outputs": [
    {
     "name": "stdout",
     "output_type": "stream",
     "text": [
      "[ 1.    1.45  1.9   2.35  2.8   3.25  3.7   4.15  4.6   5.05  5.5   5.95\n",
      "  6.4   6.85  7.3   7.75  8.2   8.65  9.1   9.55 10.  ]\n"
     ]
    }
   ],
   "source": [
    "import numpy as np\n",
    "# arange函数的第一个参数是起点，第二参数是终点（包含），第三个参数是等差数列共有多少个数\n",
    "a = np.linspace(1, 10, 21)\n",
    "print(a)"
   ]
  },
  {
   "cell_type": "markdown",
   "metadata": {},
   "source": [
    "**生成随机数**\n",
    "\n",
    "生成普通的随机数"
   ]
  },
  {
   "cell_type": "code",
   "execution_count": 43,
   "metadata": {},
   "outputs": [
    {
     "name": "stdout",
     "output_type": "stream",
     "text": [
      "[0.58729145 0.23478578 0.09268566 0.30722072 0.57801    0.62655126\n",
      " 0.51953054 0.82981402 0.68959863 0.42103112]\n"
     ]
    }
   ],
   "source": [
    "import numpy as np\n",
    "# np.random.rand函数中的参数表示随机数的个数\n",
    "a = np.random.rand(10)\n",
    "print(a)"
   ]
  },
  {
   "cell_type": "markdown",
   "metadata": {},
   "source": [
    "生成满足正态分布的随机数"
   ]
  },
  {
   "cell_type": "code",
   "execution_count": 44,
   "metadata": {},
   "outputs": [
    {
     "name": "stdout",
     "output_type": "stream",
     "text": [
      "[ 1.19541021  0.58253944 -0.74518648  0.18946375  0.36845583  0.79899316\n",
      "  1.94554582 -0.28499364  1.13889267  0.02071941]\n"
     ]
    }
   ],
   "source": [
    "import numpy as np\n",
    "# np.random.randn函数中的参数表示随机数的个数\n",
    "a = np.random.randn(10)\n",
    "print(a)"
   ]
  },
  {
   "cell_type": "markdown",
   "metadata": {},
   "source": [
    "生成随机整数"
   ]
  },
  {
   "cell_type": "code",
   "execution_count": 46,
   "metadata": {},
   "outputs": [
    {
     "name": "stdout",
     "output_type": "stream",
     "text": [
      "[3 2 1 9 7 6 6 1 5 1]\n"
     ]
    }
   ],
   "source": [
    "import numpy as np\n",
    "# np.random.randint函数中的第一个参数表示起点，第二个参数表示终点，第三个参数表示随机整数的个数\n",
    "a = np.random.randint(1, 10, 10)\n",
    "print(a)"
   ]
  },
  {
   "cell_type": "markdown",
   "metadata": {},
   "source": [
    "* 数组属性\n",
    "\n",
    "查看类型"
   ]
  },
  {
   "cell_type": "code",
   "execution_count": 52,
   "metadata": {},
   "outputs": [
    {
     "name": "stdout",
     "output_type": "stream",
     "text": [
      "<class 'numpy.ndarray'>\n"
     ]
    }
   ],
   "source": [
    "import numpy as np\n",
    "a = np.linspace(1, 10, 21)\n",
    "print(type(a))"
   ]
  },
  {
   "cell_type": "markdown",
   "metadata": {},
   "source": [
    "查看数组中元素的数据类型"
   ]
  },
  {
   "cell_type": "code",
   "execution_count": 53,
   "metadata": {},
   "outputs": [
    {
     "name": "stdout",
     "output_type": "stream",
     "text": [
      "float64\n"
     ]
    }
   ],
   "source": [
    "import numpy as np\n",
    "a = np.linspace(1, 10, 21)\n",
    "print(a.dtype)"
   ]
  },
  {
   "cell_type": "markdown",
   "metadata": {},
   "source": [
    "查看形状，会返回一个元组，每个元素代表这一维的元素数目。"
   ]
  },
  {
   "cell_type": "code",
   "execution_count": 54,
   "metadata": {},
   "outputs": [
    {
     "name": "stdout",
     "output_type": "stream",
     "text": [
      "(21,)\n"
     ]
    }
   ],
   "source": [
    "import numpy as np\n",
    "a = np.linspace(1, 10, 21)\n",
    "print(a.shape)"
   ]
  },
  {
   "cell_type": "markdown",
   "metadata": {},
   "source": [
    "查看数组里面元素的数目"
   ]
  },
  {
   "cell_type": "code",
   "execution_count": 55,
   "metadata": {},
   "outputs": [
    {
     "name": "stdout",
     "output_type": "stream",
     "text": [
      "21\n"
     ]
    }
   ],
   "source": [
    "import numpy as np\n",
    "a = np.linspace(1, 10, 21)\n",
    "print(a.size)"
   ]
  },
  {
   "cell_type": "markdown",
   "metadata": {},
   "source": [
    "查看数组的维度"
   ]
  },
  {
   "cell_type": "code",
   "execution_count": 57,
   "metadata": {},
   "outputs": [
    {
     "name": "stdout",
     "output_type": "stream",
     "text": [
      "1\n"
     ]
    }
   ],
   "source": [
    "import numpy as np\n",
    "a = np.linspace(1, 10, 21)\n",
    "print(a.ndim)"
   ]
  },
  {
   "cell_type": "markdown",
   "metadata": {},
   "source": [
    "* 索引与切片"
   ]
  },
  {
   "cell_type": "markdown",
   "metadata": {},
   "source": [
    "和列表相似，数组也支持索引和切片操作。\n",
    "\n",
    "索引第一个元素"
   ]
  },
  {
   "cell_type": "code",
   "execution_count": 60,
   "metadata": {},
   "outputs": [
    {
     "name": "stdout",
     "output_type": "stream",
     "text": [
      "0\n"
     ]
    }
   ],
   "source": [
    "import numpy as np\n",
    "a = np.array([0, 1, 2, 3])\n",
    "print(a[0])"
   ]
  },
  {
   "cell_type": "markdown",
   "metadata": {},
   "source": [
    "修改第一个元素的值"
   ]
  },
  {
   "cell_type": "code",
   "execution_count": 61,
   "metadata": {},
   "outputs": [
    {
     "name": "stdout",
     "output_type": "stream",
     "text": [
      "[10  1  2  3]\n"
     ]
    }
   ],
   "source": [
    "import numpy as np\n",
    "a = np.array([0, 1, 2, 3])\n",
    "a[0] = 10\n",
    "print(a)"
   ]
  },
  {
   "cell_type": "markdown",
   "metadata": {},
   "source": [
    "切片，支持负索引"
   ]
  },
  {
   "cell_type": "code",
   "execution_count": 65,
   "metadata": {},
   "outputs": [
    {
     "name": "stdout",
     "output_type": "stream",
     "text": [
      "[12 13]\n",
      "[12 13]\n"
     ]
    }
   ],
   "source": [
    "import numpy as np\n",
    "a = np.array([11, 12, 13, 14, 15])\n",
    "print(a[1:3]) # 注意这里区间是[1,3)，左闭右开\n",
    "print(a[1:-2])"
   ]
  },
  {
   "cell_type": "markdown",
   "metadata": {},
   "source": [
    "省略参数"
   ]
  },
  {
   "cell_type": "code",
   "execution_count": 67,
   "metadata": {},
   "outputs": [
    {
     "name": "stdout",
     "output_type": "stream",
     "text": [
      "[14 15]\n",
      "[11 13 15]\n"
     ]
    }
   ],
   "source": [
    "import numpy as np\n",
    "a = np.array([11, 12, 13, 14, 15])\n",
    "print(a[-2:])\n",
    "print(a[::2])"
   ]
  },
  {
   "cell_type": "markdown",
   "metadata": {},
   "source": [
    "假设我们要记录一部电影的累计票房，那么如何计算每天的票房。"
   ]
  },
  {
   "cell_type": "code",
   "execution_count": 70,
   "metadata": {},
   "outputs": [
    {
     "name": "stdout",
     "output_type": "stream",
     "text": [
      "[21000 21800 22240 23450 25000]\n",
      "[ 800  440 1210 1550]\n"
     ]
    }
   ],
   "source": [
    "import numpy as np\n",
    "ob = np.array([21000, 21800, 22240, 23450, 25000])\n",
    "print(ob)\n",
    "\n",
    "# 21800, 22240, 23450, 25000\n",
    "# 21000, 21800, 22240, 23450\n",
    "# 我们的目标就是上面的数组减去下面的数据\n",
    "ob2 = ob[1:] - ob[:-1]\n",
    "print(ob2)"
   ]
  },
  {
   "cell_type": "markdown",
   "metadata": {},
   "source": [
    "* 多维数组及其属性"
   ]
  },
  {
   "cell_type": "markdown",
   "metadata": {},
   "source": [
    "array还可以用来生成多维数组"
   ]
  },
  {
   "cell_type": "code",
   "execution_count": 71,
   "metadata": {},
   "outputs": [
    {
     "name": "stdout",
     "output_type": "stream",
     "text": [
      "[[ 0  1  2  3]\n",
      " [10 11 12 13]]\n"
     ]
    }
   ],
   "source": [
    "import numpy as np\n",
    "a = np.array([[0, 1, 2, 3],[10, 11, 12, 13]])\n",
    "print(a)"
   ]
  },
  {
   "cell_type": "markdown",
   "metadata": {},
   "source": [
    "**注意**：事实上我们传入的是一个以列表为元素的列表，最终得到一个二位数组。\n",
    "\n",
    "查看形状"
   ]
  },
  {
   "cell_type": "code",
   "execution_count": 73,
   "metadata": {},
   "outputs": [
    {
     "name": "stdout",
     "output_type": "stream",
     "text": [
      "(2, 4)\n"
     ]
    }
   ],
   "source": [
    "import numpy as np\n",
    "a = np.array([[0, 1, 2, 3],[10, 11, 12, 13]])\n",
    "print(a.shape)"
   ]
  },
  {
   "cell_type": "markdown",
   "metadata": {},
   "source": [
    "查看总的元素个数"
   ]
  },
  {
   "cell_type": "code",
   "execution_count": 74,
   "metadata": {},
   "outputs": [
    {
     "name": "stdout",
     "output_type": "stream",
     "text": [
      "8\n"
     ]
    }
   ],
   "source": [
    "import numpy as np\n",
    "a = np.array([[0, 1, 2, 3],[10, 11, 12, 13]])\n",
    "print(a.size)"
   ]
  },
  {
   "cell_type": "markdown",
   "metadata": {},
   "source": [
    "查看维数"
   ]
  },
  {
   "cell_type": "code",
   "execution_count": 75,
   "metadata": {},
   "outputs": [
    {
     "name": "stdout",
     "output_type": "stream",
     "text": [
      "2\n"
     ]
    }
   ],
   "source": [
    "import numpy as np\n",
    "a = np.array([[0, 1, 2, 3],[10, 11, 12, 13]])\n",
    "print(a.ndim)"
   ]
  },
  {
   "cell_type": "markdown",
   "metadata": {},
   "source": [
    "* 多维数组索引\n",
    "\n",
    "对于二维数组，可以传入两个数字来索引。"
   ]
  },
  {
   "cell_type": "code",
   "execution_count": 77,
   "metadata": {},
   "outputs": [
    {
     "name": "stdout",
     "output_type": "stream",
     "text": [
      "13\n"
     ]
    }
   ],
   "source": [
    "import numpy as np\n",
    "a = np.array([[0, 1, 2, 3],[10, 11, 12, 13]])\n",
    "print(a[1, 3])"
   ]
  },
  {
   "cell_type": "markdown",
   "metadata": {},
   "source": [
    "**其中，1是行索引，3是列索引，中间用逗号隔开，事实上，Python会将他们看成一个元组(1, 3)，然后按照顺序进行对应。**"
   ]
  },
  {
   "cell_type": "markdown",
   "metadata": {},
   "source": [
    "可以利用索引给它赋值"
   ]
  },
  {
   "cell_type": "code",
   "execution_count": 78,
   "metadata": {},
   "outputs": [
    {
     "name": "stdout",
     "output_type": "stream",
     "text": [
      "[[ 0  1  2  3]\n",
      " [10 11 12 13]]\n",
      "[[ 0  1  2  3]\n",
      " [10 11 12 -1]]\n"
     ]
    }
   ],
   "source": [
    "import numpy as np\n",
    "a = np.array([[0, 1, 2, 3],[10, 11, 12, 13]])\n",
    "print(a)\n",
    "a[1, 3] = -1\n",
    "print(a)"
   ]
  },
  {
   "cell_type": "markdown",
   "metadata": {},
   "source": [
    "事实上，我们还可以使用单个索引来索引一整行的内容"
   ]
  },
  {
   "cell_type": "code",
   "execution_count": 86,
   "metadata": {},
   "outputs": [
    {
     "name": "stdout",
     "output_type": "stream",
     "text": [
      "[[ 0  1  2  3]\n",
      " [10 11 12 13]]\n",
      "[10 11 12 13]\n",
      "[10 11 12 13]\n"
     ]
    }
   ],
   "source": [
    "import numpy as np\n",
    "a = np.array([[0, 1, 2, 3],[10, 11, 12, 13]])\n",
    "print(a)\n",
    "print(a[1])\n",
    "print(a[1,:])"
   ]
  },
  {
   "cell_type": "markdown",
   "metadata": {},
   "source": [
    "**注意**：Python会将这个单个元组当成对第一维的索引，然后返回对应的内容。"
   ]
  },
  {
   "cell_type": "markdown",
   "metadata": {},
   "source": [
    "取某一列的值"
   ]
  },
  {
   "cell_type": "code",
   "execution_count": 87,
   "metadata": {},
   "outputs": [
    {
     "name": "stdout",
     "output_type": "stream",
     "text": [
      "[[ 0  1  2  3]\n",
      " [10 11 12 13]]\n",
      "[ 1 11]\n"
     ]
    }
   ],
   "source": [
    "import numpy as np\n",
    "a = np.array([[0, 1, 2, 3],[10, 11, 12, 13]])\n",
    "print(a)\n",
    "print(a[:, 1])"
   ]
  },
  {
   "cell_type": "markdown",
   "metadata": {},
   "source": [
    "* 多维数组切片"
   ]
  },
  {
   "cell_type": "markdown",
   "metadata": {},
   "source": [
    "多维数组，也支持切片操作。"
   ]
  },
  {
   "cell_type": "code",
   "execution_count": 88,
   "metadata": {},
   "outputs": [
    {
     "name": "stdout",
     "output_type": "stream",
     "text": [
      "[[ 0  1  2  3  4  5]\n",
      " [10 11 12 13 14 15]\n",
      " [20 21 22 23 24 25]\n",
      " [30 31 32 33 34 35]\n",
      " [40 41 42 43 44 45]\n",
      " [50 51 52 53 54 55]]\n"
     ]
    }
   ],
   "source": [
    "import numpy as np\n",
    "a = np.array([[0, 1, 2, 3, 4, 5],\n",
    "              [10, 11, 12, 13, 14, 15],\n",
    "              [20, 21, 22, 23, 24, 25],\n",
    "              [30, 31, 32, 33, 34, 35],\n",
    "              [40, 41, 42, 43, 44, 45],\n",
    "              [50, 51, 52, 53, 54, 55]])\n",
    "print(a)"
   ]
  },
  {
   "cell_type": "markdown",
   "metadata": {},
   "source": [
    "想得到第一行的第4和第5两个元素"
   ]
  },
  {
   "cell_type": "code",
   "execution_count": 90,
   "metadata": {},
   "outputs": [
    {
     "name": "stdout",
     "output_type": "stream",
     "text": [
      "[[ 0  1  2  3  4  5]\n",
      " [10 11 12 13 14 15]\n",
      " [20 21 22 23 24 25]\n",
      " [30 31 32 33 34 35]\n",
      " [40 41 42 43 44 45]\n",
      " [50 51 52 53 54 55]]\n",
      "[3 4]\n"
     ]
    }
   ],
   "source": [
    "import numpy as np\n",
    "a = np.array([[0, 1, 2, 3, 4, 5],\n",
    "              [10, 11, 12, 13, 14, 15],\n",
    "              [20, 21, 22, 23, 24, 25],\n",
    "              [30, 31, 32, 33, 34, 35],\n",
    "              [40, 41, 42, 43, 44, 45],\n",
    "              [50, 51, 52, 53, 54, 55]])\n",
    "print(a)\n",
    "print(a[0, 3:5])"
   ]
  },
  {
   "cell_type": "markdown",
   "metadata": {},
   "source": [
    "得到最后两行的最后两列"
   ]
  },
  {
   "cell_type": "code",
   "execution_count": 92,
   "metadata": {},
   "outputs": [
    {
     "name": "stdout",
     "output_type": "stream",
     "text": [
      "[[ 0  1  2  3  4  5]\n",
      " [10 11 12 13 14 15]\n",
      " [20 21 22 23 24 25]\n",
      " [30 31 32 33 34 35]\n",
      " [40 41 42 43 44 45]\n",
      " [50 51 52 53 54 55]]\n",
      "[[44 45]\n",
      " [54 55]]\n"
     ]
    }
   ],
   "source": [
    "import numpy as np\n",
    "a = np.array([[0, 1, 2, 3, 4, 5],\n",
    "              [10, 11, 12, 13, 14, 15],\n",
    "              [20, 21, 22, 23, 24, 25],\n",
    "              [30, 31, 32, 33, 34, 35],\n",
    "              [40, 41, 42, 43, 44, 45],\n",
    "              [50, 51, 52, 53, 54, 55]])\n",
    "print(a)\n",
    "print(a[4:,4:])"
   ]
  },
  {
   "cell_type": "markdown",
   "metadata": {},
   "source": [
    "得到第三列"
   ]
  },
  {
   "cell_type": "code",
   "execution_count": 93,
   "metadata": {},
   "outputs": [
    {
     "name": "stdout",
     "output_type": "stream",
     "text": [
      "[[ 0  1  2  3  4  5]\n",
      " [10 11 12 13 14 15]\n",
      " [20 21 22 23 24 25]\n",
      " [30 31 32 33 34 35]\n",
      " [40 41 42 43 44 45]\n",
      " [50 51 52 53 54 55]]\n",
      "[ 2 12 22 32 42 52]\n"
     ]
    }
   ],
   "source": [
    "import numpy as np\n",
    "a = np.array([[0, 1, 2, 3, 4, 5],\n",
    "              [10, 11, 12, 13, 14, 15],\n",
    "              [20, 21, 22, 23, 24, 25],\n",
    "              [30, 31, 32, 33, 34, 35],\n",
    "              [40, 41, 42, 43, 44, 45],\n",
    "              [50, 51, 52, 53, 54, 55]])\n",
    "print(a)\n",
    "print(a[:,2])"
   ]
  },
  {
   "cell_type": "markdown",
   "metadata": {},
   "source": [
    "每一维都支持切片的规则，包括负索引和省略。\n",
    "```python\n",
    "[lower:upper:step]\n",
    "```\n",
    "例如，取出3，5行的奇数列"
   ]
  },
  {
   "cell_type": "code",
   "execution_count": 94,
   "metadata": {},
   "outputs": [
    {
     "name": "stdout",
     "output_type": "stream",
     "text": [
      "[[ 0  1  2  3  4  5]\n",
      " [10 11 12 13 14 15]\n",
      " [20 21 22 23 24 25]\n",
      " [30 31 32 33 34 35]\n",
      " [40 41 42 43 44 45]\n",
      " [50 51 52 53 54 55]]\n",
      "[[20 22 24]\n",
      " [40 42 44]]\n"
     ]
    }
   ],
   "source": [
    "import numpy as np\n",
    "a = np.array([[0, 1, 2, 3, 4, 5],\n",
    "              [10, 11, 12, 13, 14, 15],\n",
    "              [20, 21, 22, 23, 24, 25],\n",
    "              [30, 31, 32, 33, 34, 35],\n",
    "              [40, 41, 42, 43, 44, 45],\n",
    "              [50, 51, 52, 53, 54, 55]])\n",
    "print(a)\n",
    "print(a[2::2,::2])"
   ]
  },
  {
   "cell_type": "markdown",
   "metadata": {},
   "source": [
    "* 切片是引用"
   ]
  },
  {
   "cell_type": "code",
   "execution_count": 98,
   "metadata": {},
   "outputs": [
    {
     "name": "stdout",
     "output_type": "stream",
     "text": [
      "[0 1 2 3 4]\n",
      "[2 3]\n",
      "[ 0  1 10  3  4]\n"
     ]
    }
   ],
   "source": [
    "import numpy as np\n",
    "a = np.array([0, 1, 2, 3, 4])\n",
    "print(a)\n",
    "b = a[2:4]\n",
    "print(b)\n",
    "b[0] = 10\n",
    "print(a)"
   ]
  },
  {
   "cell_type": "markdown",
   "metadata": {},
   "source": [
    "**注意**：引用机制意味着，Python并没有为b分配新的空间来存储它的值，而是让b指向了a所分配的内存空间，因此改变b也会改变a的值。\n",
    "\n",
    "而这种现象在列表中并不会出现。"
   ]
  },
  {
   "cell_type": "code",
   "execution_count": 99,
   "metadata": {},
   "outputs": [
    {
     "name": "stdout",
     "output_type": "stream",
     "text": [
      "[1, 2, 3, 4, 5]\n"
     ]
    }
   ],
   "source": [
    "a = [1, 2, 3, 4, 5]\n",
    "b = a[2:4]\n",
    "b[0] = 10\n",
    "print(a)"
   ]
  },
  {
   "cell_type": "markdown",
   "metadata": {},
   "source": [
    "**优点**：对于很大的数组，不用大量复制多余的值，节约了空间。\n",
    "\n",
    "**缺点**：可能出现改变一个值的时候又改变另一个值的情况。\n",
    "\n",
    "一个解决方法是使用copy()方法产生一个赋值，这个赋值会申请新的内存空间。"
   ]
  },
  {
   "cell_type": "code",
   "execution_count": 101,
   "metadata": {},
   "outputs": [
    {
     "name": "stdout",
     "output_type": "stream",
     "text": [
      "[0 1 2 3 4]\n",
      "[0 1 2 3 4]\n"
     ]
    }
   ],
   "source": [
    "import numpy as np\n",
    "a = np.array([0, 1, 2, 3, 4])\n",
    "print(a)\n",
    "b = a[2:4].copy()\n",
    "b[0] = 10\n",
    "print(a)"
   ]
  },
  {
   "cell_type": "markdown",
   "metadata": {},
   "source": [
    "* 花式索引\n",
    "\n",
    "切片只能支持连续或者等间隔的切片操作，要想实现任意位置的操作，需要使用花式索引（Fancy Slicing）。\n",
    "\n",
    "* 一维花式索引\n",
    "\n",
    "与range函数类似，我们可以使用arange函数来生成等差数组。"
   ]
  },
  {
   "cell_type": "code",
   "execution_count": 102,
   "metadata": {},
   "outputs": [
    {
     "name": "stdout",
     "output_type": "stream",
     "text": [
      "[ 0 10 20 30 40 50 60 70 80 90]\n"
     ]
    }
   ],
   "source": [
    "import numpy as np\n",
    "a = np.arange(0, 100, 10)\n",
    "print(a)"
   ]
  },
  {
   "cell_type": "markdown",
   "metadata": {},
   "source": [
    "花式索引需要指定索引位置"
   ]
  },
  {
   "cell_type": "code",
   "execution_count": 103,
   "metadata": {},
   "outputs": [
    {
     "name": "stdout",
     "output_type": "stream",
     "text": [
      "[10 20 70]\n"
     ]
    }
   ],
   "source": [
    "import numpy as np\n",
    "a = np.arange(0, 100, 10)\n",
    "index = [1, 2, -3]\n",
    "b = a[index]\n",
    "print(b)"
   ]
  },
  {
   "cell_type": "markdown",
   "metadata": {},
   "source": [
    "还可以使用布尔数组来花式索引"
   ]
  },
  {
   "cell_type": "code",
   "execution_count": 107,
   "metadata": {},
   "outputs": [
    {
     "name": "stdout",
     "output_type": "stream",
     "text": [
      "[False  True  True False False  True False False  True False]\n",
      "[10 20 50 80]\n"
     ]
    }
   ],
   "source": [
    "import numpy as np\n",
    "a = np.arange(0, 100, 10)\n",
    "mask = np.array([0, 1, 1, 0, 0, 1, 0, 0, 1, 0], dtype = \"bool\")\n",
    "print(mask)\n",
    "print(a[mask])"
   ]
  },
  {
   "cell_type": "markdown",
   "metadata": {},
   "source": [
    "* 二维花式索引\n",
    "\n",
    "对于二维花式索引，我们需要给定行和列的值。\n",
    "\n",
    "返回的是一条次对角线上的5个值。"
   ]
  },
  {
   "cell_type": "code",
   "execution_count": 108,
   "metadata": {},
   "outputs": [
    {
     "name": "stdout",
     "output_type": "stream",
     "text": [
      "[ 1 12 23 34 45]\n"
     ]
    }
   ],
   "source": [
    "import numpy as np\n",
    "a = np.array([[0, 1, 2, 3, 4, 5],\n",
    "              [10, 11, 12, 13, 14, 15],\n",
    "              [20, 21, 22, 23, 24, 25],\n",
    "              [30, 31, 32, 33, 34, 35],\n",
    "              [40, 41, 42, 43, 44, 45],\n",
    "              [50, 51, 52, 53, 54, 55]])\n",
    "print(a[(0, 1, 2, 3, 4), (1, 2, 3, 4, 5)])"
   ]
  },
  {
   "cell_type": "markdown",
   "metadata": {},
   "source": [
    "返回的是最后三行的第1，3，5列。"
   ]
  },
  {
   "cell_type": "code",
   "execution_count": 109,
   "metadata": {},
   "outputs": [
    {
     "name": "stdout",
     "output_type": "stream",
     "text": [
      "[[30 32 34]\n",
      " [40 42 44]\n",
      " [50 52 54]]\n"
     ]
    }
   ],
   "source": [
    "import numpy as np\n",
    "a = np.array([[0, 1, 2, 3, 4, 5],\n",
    "              [10, 11, 12, 13, 14, 15],\n",
    "              [20, 21, 22, 23, 24, 25],\n",
    "              [30, 31, 32, 33, 34, 35],\n",
    "              [40, 41, 42, 43, 44, 45],\n",
    "              [50, 51, 52, 53, 54, 55]])\n",
    "print(a[3:,[0, 2, 4]])"
   ]
  },
  {
   "cell_type": "markdown",
   "metadata": {},
   "source": [
    "也可以使用mask进行索引"
   ]
  },
  {
   "cell_type": "code",
   "execution_count": 110,
   "metadata": {},
   "outputs": [
    {
     "name": "stdout",
     "output_type": "stream",
     "text": [
      "[ 2 22 52]\n"
     ]
    }
   ],
   "source": [
    "import numpy as np\n",
    "a = np.array([[0, 1, 2, 3, 4, 5],\n",
    "              [10, 11, 12, 13, 14, 15],\n",
    "              [20, 21, 22, 23, 24, 25],\n",
    "              [30, 31, 32, 33, 34, 35],\n",
    "              [40, 41, 42, 43, 44, 45],\n",
    "              [50, 51, 52, 53, 54, 55]])\n",
    "mask = np.array([1, 0, 1, 0, 0, 1], dtype = \"bool\")\n",
    "print(a[mask, 2])"
   ]
  },
  {
   "cell_type": "markdown",
   "metadata": {},
   "source": [
    "**注意**：与切片不同，花式索引返回的是原对象的一个复制，而不是引用，他是会创建新的内存地址。\n",
    "\n",
    "* “不完全”索引\n",
    "\n",
    "只给定行索引的时候，返回整行。"
   ]
  },
  {
   "cell_type": "code",
   "execution_count": 111,
   "metadata": {},
   "outputs": [
    {
     "name": "stdout",
     "output_type": "stream",
     "text": [
      "[[ 0  1  2  3  4  5]\n",
      " [10 11 12 13 14 15]\n",
      " [20 21 22 23 24 25]]\n"
     ]
    }
   ],
   "source": [
    "import numpy as np\n",
    "a = np.array([[0, 1, 2, 3, 4, 5],\n",
    "              [10, 11, 12, 13, 14, 15],\n",
    "              [20, 21, 22, 23, 24, 25],\n",
    "              [30, 31, 32, 33, 34, 35],\n",
    "              [40, 41, 42, 43, 44, 45],\n",
    "              [50, 51, 52, 53, 54, 55]])\n",
    "b = a[:3]\n",
    "print(b)"
   ]
  },
  {
   "cell_type": "markdown",
   "metadata": {},
   "source": [
    "这时候也可以使用花式索引取出第2，3，5行。"
   ]
  },
  {
   "cell_type": "code",
   "execution_count": 113,
   "metadata": {},
   "outputs": [
    {
     "name": "stdout",
     "output_type": "stream",
     "text": [
      "[[10 11 12 13 14 15]\n",
      " [20 21 22 23 24 25]\n",
      " [40 41 42 43 44 45]]\n"
     ]
    }
   ],
   "source": [
    "import numpy as np\n",
    "a = np.array([[0, 1, 2, 3, 4, 5],\n",
    "              [10, 11, 12, 13, 14, 15],\n",
    "              [20, 21, 22, 23, 24, 25],\n",
    "              [30, 31, 32, 33, 34, 35],\n",
    "              [40, 41, 42, 43, 44, 45],\n",
    "              [50, 51, 52, 53, 54, 55]])\n",
    "con = np.array([0, 1, 1, 0, 1, 0], dtype = \"bool\")\n",
    "print(a[con])"
   ]
  },
  {
   "cell_type": "markdown",
   "metadata": {},
   "source": [
    "* where语句\n",
    "\n",
    "```python\n",
    "where(array)\n",
    "```\n",
    "\n",
    "where函数会返回所有非零元素的索引\n",
    "\n",
    "* 一维数组\n",
    "\n",
    "先看一维的例子"
   ]
  },
  {
   "cell_type": "code",
   "execution_count": 115,
   "metadata": {},
   "outputs": [
    {
     "name": "stdout",
     "output_type": "stream",
     "text": [
      "[False  True False  True]\n"
     ]
    }
   ],
   "source": [
    "import numpy as np\n",
    "a = np.array([0, 12, 5, 20])\n",
    "print(a > 10)"
   ]
  },
  {
   "cell_type": "markdown",
   "metadata": {},
   "source": [
    "数组中所有大于10的元素的索引位置"
   ]
  },
  {
   "cell_type": "code",
   "execution_count": 116,
   "metadata": {},
   "outputs": [
    {
     "name": "stdout",
     "output_type": "stream",
     "text": [
      "(array([1, 3], dtype=int64),)\n"
     ]
    }
   ],
   "source": [
    "import numpy as np\n",
    "a = np.array([0, 12, 5, 20])\n",
    "print(np.where(a > 10))"
   ]
  },
  {
   "cell_type": "markdown",
   "metadata": {},
   "source": [
    "**注意**：where的返回值是一个元组。返回的是索引位置，索引[1,3]大于10的数。\n",
    "\n",
    "也可以直接用数组操作。"
   ]
  },
  {
   "cell_type": "code",
   "execution_count": 118,
   "metadata": {},
   "outputs": [
    {
     "name": "stdout",
     "output_type": "stream",
     "text": [
      "[12 20]\n",
      "[12 20]\n"
     ]
    }
   ],
   "source": [
    "import numpy as np\n",
    "a = np.array([0, 12, 5, 20])\n",
    "print(a[a>10])\n",
    "print(a[np.where(a > 10)])"
   ]
  },
  {
   "cell_type": "markdown",
   "metadata": {},
   "source": [
    "### 9.1.2 数组类型\n",
    "|基本类型|可用的Numpy类型|备注|\n",
    "|:-:|:-:|:-:|\n",
    "|布尔型|bool|占1个字节|\n",
    "|整型|int8,int16,int32,int64,int128,int|int跟C语言中的long一样大|\n",
    "|无符号整型|uint8,uint16,uint32,uint64,uint128,uint|uint跟C语言中的unsigned long一样大|\n",
    "|浮点数|float16,float32,float64,float,longfloat|默认为双精度float64，longfloat精度大小与系统有关|\n",
    "|复数|complex64,complex128,complex,longcomplex|默认为complex128，即实部虚部都为双精度|\n",
    "|字符串|string,unicode|可以使用dtype=64表示一个4字节字符串的数组|\n",
    "|对象|object|数组中可以使用任意值|\n",
    "|时间|datetime64,timedelta64|无|"
   ]
  },
  {
   "cell_type": "markdown",
   "metadata": {},
   "source": [
    "* 类型转换\n",
    "\n",
    "可以在创建numpy数组的时候指定数据类型"
   ]
  },
  {
   "cell_type": "code",
   "execution_count": 121,
   "metadata": {},
   "outputs": [
    {
     "name": "stdout",
     "output_type": "stream",
     "text": [
      "[ 1.5 -3. ]\n"
     ]
    }
   ],
   "source": [
    "import numpy as np\n",
    "a = np.array([1.5, -3], dtype = \"float\")\n",
    "print(a)"
   ]
  },
  {
   "cell_type": "markdown",
   "metadata": {},
   "source": [
    "可以使用asarray函数对已经创建的numpy数组进行类型转换"
   ]
  },
  {
   "cell_type": "code",
   "execution_count": 122,
   "metadata": {},
   "outputs": [
    {
     "data": {
      "text/plain": [
       "array([1., 2., 3.])"
      ]
     },
     "execution_count": 122,
     "metadata": {},
     "output_type": "execute_result"
    }
   ],
   "source": [
    "import numpy as np\n",
    "a = np.array([1, 2, 3])\n",
    "np.asarray(a, dtype=\"float\")"
   ]
  },
  {
   "cell_type": "markdown",
   "metadata": {},
   "source": [
    "可以通过astype返回一个你需要数据类型的新数组。"
   ]
  },
  {
   "cell_type": "code",
   "execution_count": 125,
   "metadata": {},
   "outputs": [
    {
     "name": "stdout",
     "output_type": "stream",
     "text": [
      "[1 2 3]\n",
      "[1. 2. 3.]\n",
      "[0.5 2.  3. ]\n",
      "[1 2 3]\n"
     ]
    }
   ],
   "source": [
    "import numpy as np\n",
    "a = np.array([1, 2, 3])\n",
    "print(a)\n",
    "b = a.astype(\"float\")\n",
    "print(b)\n",
    "b[0] = 0.5\n",
    "print(b)\n",
    "print(a)"
   ]
  },
  {
   "cell_type": "markdown",
   "metadata": {},
   "source": [
    "### 9.1.3 数组操作\n",
    "这里我们以豆瓣10部高分电影为例来讲解数组的操作。"
   ]
  },
  {
   "cell_type": "code",
   "execution_count": 126,
   "metadata": {},
   "outputs": [],
   "source": [
    "import numpy as np\n",
    "# 电影名称\n",
    "mv_name = [\"肖申克的救赎\",\"控方证人\",\"美丽人生\",\"阿甘正传\",\"霸王别姬\",\"泰坦尼克号\",\"辛德勒的名单\",\"这个杀手不太冷\",\"疯狂动物城\",\"海豚湾\"]\n",
    "\n",
    "# 评分人数\n",
    "mv_num = np.array([692795,42995,327855,580897,478523,157074,306904,662552,284652,159302])\n",
    "\n",
    "# 评分\n",
    "mv_score = np.array([9.6,9.5,9.5,9.4,9.4,9.4,9.4,9.3,9.3,9.3])\n",
    "\n",
    "#电影时长（分钟）\n",
    "mv_length = np.array([142,116,116,142,171,194,195,133,109,92])"
   ]
  },
  {
   "cell_type": "markdown",
   "metadata": {},
   "source": [
    "* 数组排序\n",
    "\n",
    "**sort函数**\n",
    "\n",
    "使用sort函数对电影评分进行从小到大排序"
   ]
  },
  {
   "cell_type": "code",
   "execution_count": 130,
   "metadata": {},
   "outputs": [
    {
     "name": "stdout",
     "output_type": "stream",
     "text": [
      "[ 42995 157074 159302 284652 306904 327855 478523 580897 662552 692795]\n",
      "[692795  42995 327855 580897 478523 157074 306904 662552 284652 159302]\n"
     ]
    }
   ],
   "source": [
    "import numpy as np\n",
    "mv_num = np.array([692795,42995,327855,580897,478523,157074,306904,662552,284652,159302])\n",
    "b = np.sort(mv_num)\n",
    "print(b)\n",
    "print(mv_num)"
   ]
  },
  {
   "cell_type": "markdown",
   "metadata": {},
   "source": [
    "**注意**：sort函数并没有改变原变量mv_num的顺序\n",
    "\n",
    "使用sort函数对电影评分进行从大到小排序"
   ]
  },
  {
   "cell_type": "code",
   "execution_count": 128,
   "metadata": {},
   "outputs": [
    {
     "name": "stdout",
     "output_type": "stream",
     "text": [
      "[692795 662552 580897 478523 327855 306904 284652 159302 157074  42995]\n"
     ]
    }
   ],
   "source": [
    "import numpy as np\n",
    "mv_num = np.array([692795,42995,327855,580897,478523,157074,306904,662552,284652,159302])\n",
    "print(-np.sort(-mv_num))"
   ]
  },
  {
   "cell_type": "markdown",
   "metadata": {},
   "source": [
    "**argsort函数**\n",
    "\n",
    "argsort返回从小到达的排列在数组中的索引位置"
   ]
  },
  {
   "cell_type": "code",
   "execution_count": 134,
   "metadata": {},
   "outputs": [
    {
     "name": "stdout",
     "output_type": "stream",
     "text": [
      "肖申克的救赎\n"
     ]
    }
   ],
   "source": [
    "import numpy as np\n",
    "mv_num = np.array([692795,42995,327855,580897,478523,157074,306904,662552,284652,159302])\n",
    "mv_name = [\"肖申克的救赎\",\"控方证人\",\"美丽人生\",\"阿甘正传\",\"霸王别姬\",\"泰坦尼克号\",\"辛德勒的名单\",\"这个杀手不太冷\",\"疯狂动物城\",\"海豚湾\"]\n",
    "order = np.argsort(mv_num)\n",
    "# 评分最高的电影\n",
    "print(mv_name[order[-1]])"
   ]
  },
  {
   "cell_type": "markdown",
   "metadata": {},
   "source": [
    "**求和**\n",
    "\n",
    "对所有电影进行过评分的人数进行求和"
   ]
  },
  {
   "cell_type": "code",
   "execution_count": 135,
   "metadata": {},
   "outputs": [
    {
     "name": "stdout",
     "output_type": "stream",
     "text": [
      "3693549\n",
      "3693549\n"
     ]
    }
   ],
   "source": [
    "import numpy as np\n",
    "mv_num = np.array([692795,42995,327855,580897,478523,157074,306904,662552,284652,159302])\n",
    "\n",
    "# 第一种写法\n",
    "print(np.sum(mv_num))\n",
    "\n",
    "# 第二种写法\n",
    "print(mv_num.sum())"
   ]
  },
  {
   "cell_type": "markdown",
   "metadata": {},
   "source": [
    "**最大值**\n",
    "\n",
    "求所有电影时长的最大值"
   ]
  },
  {
   "cell_type": "code",
   "execution_count": 138,
   "metadata": {},
   "outputs": [
    {
     "name": "stdout",
     "output_type": "stream",
     "text": [
      "195\n",
      "195\n"
     ]
    }
   ],
   "source": [
    "import numpy as np\n",
    "mv_length = np.array([142,116,116,142,171,194,195,133,109,92])\n",
    "\n",
    "# 第一种写法\n",
    "print(np.max(mv_length))\n",
    "\n",
    "# 第二种写法\n",
    "print(mv_length.max())"
   ]
  },
  {
   "cell_type": "markdown",
   "metadata": {},
   "source": [
    "**最小值**\n",
    "\n",
    "求所有电影评分的最小值"
   ]
  },
  {
   "cell_type": "code",
   "execution_count": 139,
   "metadata": {},
   "outputs": [
    {
     "name": "stdout",
     "output_type": "stream",
     "text": [
      "9.3\n",
      "9.3\n"
     ]
    }
   ],
   "source": [
    "import numpy as np\n",
    "mv_score = np.array([9.6,9.5,9.5,9.4,9.4,9.4,9.4,9.3,9.3,9.3])\n",
    "\n",
    "# 第一种写法\n",
    "print(np.min(mv_score))\n",
    "\n",
    "# 第二种写法\n",
    "print(mv_score.min())"
   ]
  },
  {
   "cell_type": "markdown",
   "metadata": {},
   "source": [
    "**均值**\n",
    "\n",
    "求所有电影时长的均值"
   ]
  },
  {
   "cell_type": "code",
   "execution_count": 141,
   "metadata": {},
   "outputs": [
    {
     "name": "stdout",
     "output_type": "stream",
     "text": [
      "141.0\n",
      "141.0\n"
     ]
    }
   ],
   "source": [
    "import numpy as np\n",
    "mv_length = np.array([142,116,116,142,171,194,195,133,109,92])\n",
    "\n",
    "# 第一种写法\n",
    "print(np.mean(mv_length))\n",
    "\n",
    "# 第二种写法\n",
    "print(mv_length.mean())"
   ]
  },
  {
   "cell_type": "markdown",
   "metadata": {},
   "source": [
    "**标准差**\n",
    "\n",
    "求所有电影时长的标准差"
   ]
  },
  {
   "cell_type": "code",
   "execution_count": 143,
   "metadata": {},
   "outputs": [
    {
     "name": "stdout",
     "output_type": "stream",
     "text": [
      "33.713498780162226\n",
      "33.713498780162226\n"
     ]
    }
   ],
   "source": [
    "import numpy as np\n",
    "mv_length = np.array([142,116,116,142,171,194,195,133,109,92])\n",
    "\n",
    "# 第一种写法\n",
    "print(np.std(mv_length))\n",
    "\n",
    "# 第二种写法\n",
    "print(mv_length.std())"
   ]
  },
  {
   "cell_type": "markdown",
   "metadata": {},
   "source": [
    "**协方差矩阵**\n",
    "\n",
    "求电影评分和电影长度之间的相关性"
   ]
  },
  {
   "cell_type": "code",
   "execution_count": 145,
   "metadata": {},
   "outputs": [
    {
     "name": "stdout",
     "output_type": "stream",
     "text": [
      "[[9.88888889e-03 4.55555556e-01]\n",
      " [4.55555556e-01 1.26288889e+03]]\n"
     ]
    }
   ],
   "source": [
    "import numpy as np\n",
    "\n",
    "mv_length = np.array([142,116,116,142,171,194,195,133,109,92])\n",
    "mv_score = np.array([9.6,9.5,9.5,9.4,9.4,9.4,9.4,9.3,9.3,9.3])\n",
    "\n",
    "print(np.cov(mv_score, mv_length))"
   ]
  },
  {
   "cell_type": "markdown",
   "metadata": {},
   "source": [
    "* 多维数组操作\n",
    "\n",
    "**数组形状**\n",
    "\n",
    "使用shape属性修改数组形状"
   ]
  },
  {
   "cell_type": "code",
   "execution_count": 149,
   "metadata": {},
   "outputs": [
    {
     "name": "stdout",
     "output_type": "stream",
     "text": [
      "[0 1 2 3 4 5]\n",
      "[[0 1 2]\n",
      " [3 4 5]]\n"
     ]
    }
   ],
   "source": [
    "import numpy as np\n",
    "a = np.arange(6)\n",
    "print(a)\n",
    "a.shape = 2,3\n",
    "print(a)"
   ]
  },
  {
   "cell_type": "markdown",
   "metadata": {},
   "source": [
    "与之对应的方法是reshape，但是它不会修改原来数组的值，而是返回一个新的数组。"
   ]
  },
  {
   "cell_type": "code",
   "execution_count": 150,
   "metadata": {},
   "outputs": [
    {
     "name": "stdout",
     "output_type": "stream",
     "text": [
      "[0 1 2 3 4 5]\n",
      "[[0 1 2]\n",
      " [3 4 5]]\n",
      "[0 1 2 3 4 5]\n"
     ]
    }
   ],
   "source": [
    "import numpy as np\n",
    "a = np.arange(6)\n",
    "print(a)\n",
    "b = a.reshape(2, 3)\n",
    "print(b)\n",
    "print(a)"
   ]
  },
  {
   "cell_type": "markdown",
   "metadata": {},
   "source": [
    "**转置**"
   ]
  },
  {
   "cell_type": "code",
   "execution_count": 154,
   "metadata": {},
   "outputs": [
    {
     "name": "stdout",
     "output_type": "stream",
     "text": [
      "[[0 1 2]\n",
      " [3 4 5]]\n",
      "[[0 3]\n",
      " [1 4]\n",
      " [2 5]]\n",
      "[[0 3]\n",
      " [1 4]\n",
      " [2 5]]\n",
      "[[0 1 2]\n",
      " [3 4 5]]\n"
     ]
    }
   ],
   "source": [
    "import numpy as np\n",
    "a = np.arange(6)\n",
    "# 做一个2行3列的数组\n",
    "a = a.reshape(2,3)\n",
    "print(a)\n",
    "print(a.T)\n",
    "print(a.transpose())\n",
    "print(a)"
   ]
  },
  {
   "cell_type": "markdown",
   "metadata": {},
   "source": [
    "**注意**：这里注意a.T和a.transpose()不会改变a的值。"
   ]
  },
  {
   "cell_type": "markdown",
   "metadata": {},
   "source": [
    "**数组连接**\n",
    "\n",
    "有时我们需要将不同的数组按照一定的顺序连接起来\n",
    "\n",
    "```python\n",
    "concatenate((a0,a1,...,aN),axis=0)\n",
    "```\n",
    "\n",
    "**注意**：这些数组要用()包括到一个元组中去。除了给定的轴外，这些数组其他轴的长度必须是一样的。\n",
    "\n",
    "我们先创建两个数组"
   ]
  },
  {
   "cell_type": "code",
   "execution_count": 161,
   "metadata": {},
   "outputs": [
    {
     "name": "stdout",
     "output_type": "stream",
     "text": [
      "[[ 0  1  2]\n",
      " [10 11 12]]\n",
      "(2, 3)\n",
      "[[50 51 52]\n",
      " [60 61 62]]\n",
      "(2, 3)\n"
     ]
    }
   ],
   "source": [
    "import numpy as np\n",
    "a = np.array([[0,1,2],[10,11,12]])\n",
    "b = np.array([[50,51,52],[60,61,62]])\n",
    "print(a)\n",
    "print(a.shape)\n",
    "print(b)\n",
    "print(b.shape)"
   ]
  },
  {
   "cell_type": "markdown",
   "metadata": {},
   "source": [
    "默认沿着第一维进行连接"
   ]
  },
  {
   "cell_type": "code",
   "execution_count": 156,
   "metadata": {},
   "outputs": [
    {
     "name": "stdout",
     "output_type": "stream",
     "text": [
      "[[ 0  1  2]\n",
      " [10 11 12]\n",
      " [50 51 52]\n",
      " [60 61 62]]\n"
     ]
    }
   ],
   "source": [
    "import numpy as np\n",
    "a = np.array([[0,1,2],[10,11,12]])\n",
    "b = np.array([[50,51,52],[60,61,62]])\n",
    "c = np.concatenate((a,b))\n",
    "print(c)"
   ]
  },
  {
   "cell_type": "markdown",
   "metadata": {},
   "source": [
    "沿着第二维进行连接"
   ]
  },
  {
   "cell_type": "code",
   "execution_count": 159,
   "metadata": {},
   "outputs": [
    {
     "name": "stdout",
     "output_type": "stream",
     "text": [
      "[[ 0  1  2 50 51 52]\n",
      " [10 11 12 60 61 62]]\n"
     ]
    }
   ],
   "source": [
    "import numpy as np\n",
    "a = np.array([[0,1,2],[10,11,12]])\n",
    "b = np.array([[50,51,52],[60,61,62]])\n",
    "c = np.concatenate((a,b), axis = 1)\n",
    "print(c)"
   ]
  },
  {
   "cell_type": "markdown",
   "metadata": {},
   "source": [
    "上面的例子，我们是举了一个特例，a和b的行数与列数是相同的，如果不相同的话就需要确认除了要连接的维度以外，其他维度的长度必须相同。"
   ]
  },
  {
   "cell_type": "code",
   "execution_count": 162,
   "metadata": {},
   "outputs": [
    {
     "name": "stdout",
     "output_type": "stream",
     "text": [
      "[[ 0  1  2]\n",
      " [10 11 12]\n",
      " [50 51 52]\n",
      " [60 61 62]\n",
      " [70 71 72]]\n"
     ]
    },
    {
     "ename": "ValueError",
     "evalue": "all the input array dimensions except for the concatenation axis must match exactly",
     "output_type": "error",
     "traceback": [
      "\u001b[1;31m---------------------------------------------------------------------------\u001b[0m",
      "\u001b[1;31mValueError\u001b[0m                                Traceback (most recent call last)",
      "\u001b[1;32m<ipython-input-162-6cfe04f666ec>\u001b[0m in \u001b[0;36m<module>\u001b[1;34m()\u001b[0m\n\u001b[0;32m     11\u001b[0m \u001b[1;33m\u001b[0m\u001b[0m\n\u001b[0;32m     12\u001b[0m \u001b[1;31m# 在第二个维度上就不可以连接\u001b[0m\u001b[1;33m\u001b[0m\u001b[1;33m\u001b[0m\u001b[0m\n\u001b[1;32m---> 13\u001b[1;33m \u001b[0mc\u001b[0m \u001b[1;33m=\u001b[0m \u001b[0mnp\u001b[0m\u001b[1;33m.\u001b[0m\u001b[0mconcatenate\u001b[0m\u001b[1;33m(\u001b[0m\u001b[1;33m(\u001b[0m\u001b[0ma\u001b[0m\u001b[1;33m,\u001b[0m\u001b[0mb\u001b[0m\u001b[1;33m)\u001b[0m\u001b[1;33m,\u001b[0m \u001b[0maxis\u001b[0m \u001b[1;33m=\u001b[0m \u001b[1;36m1\u001b[0m\u001b[1;33m)\u001b[0m\u001b[1;33m\u001b[0m\u001b[0m\n\u001b[0m\u001b[0;32m     14\u001b[0m \u001b[0mprint\u001b[0m\u001b[1;33m(\u001b[0m\u001b[0mc\u001b[0m\u001b[1;33m)\u001b[0m\u001b[1;33m\u001b[0m\u001b[0m\n",
      "\u001b[1;31mValueError\u001b[0m: all the input array dimensions except for the concatenation axis must match exactly"
     ]
    }
   ],
   "source": [
    "import numpy as np\n",
    "# a是2*3\n",
    "a = np.array([[0,1,2],[10,11,12]])\n",
    "\n",
    "# b是3*3\n",
    "b = np.array([[50,51,52],[60,61,62],[70,71,72]])\n",
    "\n",
    "# 在第一个维度上可以连接\n",
    "c = np.concatenate((a,b))\n",
    "print(c)\n",
    "\n",
    "# 在第二个维度上就不可以连接\n",
    "c = np.concatenate((a,b), axis = 1)\n",
    "print(c)"
   ]
  },
  {
   "cell_type": "markdown",
   "metadata": {},
   "source": [
    "如果a和b在所有维度上的长度都相同，还可以将它们连接成三维数组，但是concatenate不能提供这样的功能，但是可以使用array方法实现。"
   ]
  },
  {
   "cell_type": "code",
   "execution_count": 170,
   "metadata": {},
   "outputs": [
    {
     "name": "stdout",
     "output_type": "stream",
     "text": [
      "[[[ 0  1  2]\n",
      "  [10 11 12]]\n",
      "\n",
      " [[50 51 52]\n",
      "  [60 61 62]]]\n",
      "[[ 0  1  2]\n",
      " [10 11 12]]\n",
      "[0 1 2]\n",
      "0\n"
     ]
    }
   ],
   "source": [
    "import numpy as np\n",
    "a = np.array([[0,1,2],[10,11,12]])\n",
    "b = np.array([[50,51,52],[60,61,62]])\n",
    "c = np.array((a,b))\n",
    "print(c)\n",
    "print(c[0])\n",
    "print(c[0,0])\n",
    "print(c[0,0,0])"
   ]
  },
  {
   "cell_type": "markdown",
   "metadata": {},
   "source": [
    "事实上，Numpy提供了分别对应这三种情况的函数。\n",
    "\n",
    "vstack实现纵向堆叠"
   ]
  },
  {
   "cell_type": "code",
   "execution_count": 172,
   "metadata": {},
   "outputs": [
    {
     "name": "stdout",
     "output_type": "stream",
     "text": [
      "[[ 0  1  2]\n",
      " [10 11 12]\n",
      " [50 51 52]\n",
      " [60 61 62]]\n"
     ]
    }
   ],
   "source": [
    "import numpy as np\n",
    "a = np.array([[0,1,2],[10,11,12]])\n",
    "b = np.array([[50,51,52],[60,61,62]])\n",
    "c = np.vstack((a, b))\n",
    "print(c)"
   ]
  },
  {
   "cell_type": "markdown",
   "metadata": {},
   "source": [
    "hstack实现横向堆叠"
   ]
  },
  {
   "cell_type": "code",
   "execution_count": 173,
   "metadata": {},
   "outputs": [
    {
     "name": "stdout",
     "output_type": "stream",
     "text": [
      "[[ 0  1  2 50 51 52]\n",
      " [10 11 12 60 61 62]]\n"
     ]
    }
   ],
   "source": [
    "import numpy as np\n",
    "a = np.array([[0,1,2],[10,11,12]])\n",
    "b = np.array([[50,51,52],[60,61,62]])\n",
    "c = np.hstack((a, b))\n",
    "print(c)"
   ]
  },
  {
   "cell_type": "markdown",
   "metadata": {},
   "source": [
    "dstack实现维度上堆叠"
   ]
  },
  {
   "cell_type": "markdown",
   "metadata": {},
   "source": [
    "* Numpy内置函数\n",
    "\n",
    "Numpy的内置函数非常多，不需要死记硬背，要懂得查资料。\n",
    "\n",
    "### 9.1.2 数组属性方法的总结\n",
    "\n",
    "|**调用方法**|**作用**|\n",
    "|-:|-:|\n",
    "|**1**|**基本属性**|\n",
    "|a.dtype|数组元素类型float32,uint8,...|\n",
    "|a.shape|数组形状(m,n,o,...)|\n",
    "|a.size|数组元素数|\n",
    "|a.itemsize|每个元素占字节数|\n",
    "|a.nbytes|所有元素占的字节|\n",
    "|a.ndim|数组维度|\n",
    "|-|-|\n",
    "|**2**|**形状相关**|\n",
    "|a.flat|所有元素的迭代器|\n",
    "|a.flatten()|返回一个1维数组的复制|\n",
    "|a.ravel()|返回一个一维数组，高效|\n",
    "|a.resize(new_size)|改变形状|\n",
    "|a.swapaxes(axis1,axis2)|交换两个维度的位置|\n",
    "|a.transpose(* axex)|交换所有维度的位置|\n",
    "|a.T|转置，a.transpose()|\n",
    "|a.squeeze()|去除所有长度为1的维度|\n",
    "|-|-|\n",
    "|**3**|**填充复制**|\n",
    "|a.copy()|返回数组的一个复制|\n",
    "|a.fill(value)|将数组的元组设置为特定值|\n",
    "|-|-|\n",
    "|**4**|**转化**|\n",
    "|a.tolist()|将数组转化为列表|\n",
    "|a.tostring()|转换为字符串|\n",
    "|a.astype(dtype)|转换为指定类型|\n",
    "|a.byteswap(False)|转换大小字节序|\n",
    "|a.view(type_or_dtype)|生成一个使用相同内存，但使用不同的表示方法的数组|\n",
    "|-|-|\n",
    "|**5**|**查找排序**|\n",
    "|a.nonzero()|返回所有非零元素的索引|\n",
    "|a.sort(axis=-1)|沿某个轴排序|\n",
    "|a.argsort(axis=-1)|沿某个轴，返回按排序的索引|\n",
    "|a.searchsorted(b)|返回将b中元素插入a后能保持有序的索引值|\n",
    "|-|-|\n",
    "|**6**|**元素数学操作**|\n",
    "|a.clip(low,high)|将数值限制在一定范围内|\n",
    "|a.round(decimals=0)|近似到指定精度|\n",
    "|a.cumsum(axis=None)|累加和|\n",
    "|a.cumprod(axis=None)|累乘积|\n",
    "|-|-|\n",
    "|**7**|**约简操作**|\n",
    "|a.sum(axis=None)|求和|\n",
    "|a.prod(axis=None)|求积|\n",
    "|a.min(axis=None)|最小值|\n",
    "|a.max(axis=None)|最大值|\n",
    "|a.argmin(axis=None)|最小值索引|\n",
    "|a.argmax(axis=None)|最大值索引|\n",
    "|a.ptp(axis=None)|最大值减最小值|\n",
    "|a.mean(axis=None)|平均值|\n",
    "|a.std(axis=None)|标准差|\n",
    "|a.var(axis=None)|方差|\n",
    "|a.any(axis=None)|只要有一个不为0，返回真，逻辑或|\n",
    "|a.all(axis=None)|所有都不为0，返回真，逻辑与|\n",
    "\n",
    "Numpy的内容实在是太多，而且特别灵活，课上所讲内容有限，大家可以参考Numpy的文档。\n",
    "\n",
    "* [Numpy中文网](https://www.numpy.org.cn/)\n",
    "* [Numpy官方文档](https://numpy.org/doc/stable/reference/index.html)"
   ]
  },
  {
   "cell_type": "markdown",
   "metadata": {},
   "source": [
    "## 9.2 Pandas"
   ]
  },
  {
   "cell_type": "markdown",
   "metadata": {},
   "source": [
    "Python Data Analysis Library 或 Pandas是基于Numpy的一种工具，该工具是为了解决数据分析任务而创建的。Pandas纳入了大量库和一些标准的数据模型，提供了高效地操作大型数据集所需的工具。pandas提供了大量能使我们快速便捷地处理数据的函数和方法。\n",
    "```python\n",
    "import pandas as pd\n",
    "import numpy as np\n",
    "```\n",
    "\n",
    "Pandas基本数据结构\n",
    "+ `Series`\n",
    "    + 一维数组，与Numpy中的一维array类似。二者与Python基本的数据结构List也很接近。Series**能保存不同种数据类型**，字符串、boolean值、数字等都能保存在Series中。\n",
    "+ `DataFrame`\n",
    "    + 二维的表格型数据结构。很多功能与R中的data.frame类似。可以将DataFrame理解为Series的容器。以下的内容主要以DataFrame为主。\n",
    "    \n",
    "### 9.2.1 Pandas库的series类型 "
   ]
  },
  {
   "cell_type": "markdown",
   "metadata": {},
   "source": [
    "一维`Series`可以用一维列表初始化："
   ]
  },
  {
   "cell_type": "code",
   "execution_count": 1,
   "metadata": {},
   "outputs": [
    {
     "name": "stdout",
     "output_type": "stream",
     "text": [
      "0    1.0\n",
      "1    3.0\n",
      "2    5.0\n",
      "3    NaN\n",
      "4    6.0\n",
      "5    8.0\n",
      "dtype: float64\n"
     ]
    }
   ],
   "source": [
    "import pandas as pd\n",
    "import numpy as np\n",
    "s = pd.Series([1,3,5,np.nan,6,8])\n",
    "print(s)"
   ]
  },
  {
   "cell_type": "markdown",
   "metadata": {},
   "source": [
    "默认情况下，`Series`的下标都是数字，可以使用额外参数指定，类型是统一的。"
   ]
  },
  {
   "cell_type": "code",
   "execution_count": 2,
   "metadata": {},
   "outputs": [
    {
     "name": "stdout",
     "output_type": "stream",
     "text": [
      "a    1.0\n",
      "b    3.0\n",
      "c    5.0\n",
      "d    NaN\n",
      "x    6.0\n",
      "y    8.0\n",
      "dtype: float64\n"
     ]
    }
   ],
   "source": [
    "import pandas as pd\n",
    "import numpy as np\n",
    "s = pd.Series([1,3,5,np.nan,6,8], index = ['a','b','c','d','x','y'])\n",
    "print(s)"
   ]
  },
  {
   "cell_type": "markdown",
   "metadata": {},
   "source": [
    "索引：数据的行标签 "
   ]
  },
  {
   "cell_type": "code",
   "execution_count": 4,
   "metadata": {},
   "outputs": [
    {
     "name": "stdout",
     "output_type": "stream",
     "text": [
      "RangeIndex(start=0, stop=6, step=1)\n"
     ]
    }
   ],
   "source": [
    "import pandas as pd\n",
    "import numpy as np\n",
    "s = pd.Series([1,3,5,np.nan,6,8])\n",
    "print(s.index)"
   ]
  },
  {
   "cell_type": "markdown",
   "metadata": {},
   "source": [
    "值"
   ]
  },
  {
   "cell_type": "code",
   "execution_count": 7,
   "metadata": {},
   "outputs": [
    {
     "name": "stdout",
     "output_type": "stream",
     "text": [
      "[ 1.  3.  5. nan  6.  8.]\n"
     ]
    }
   ],
   "source": [
    "import pandas as pd\n",
    "import numpy as np\n",
    "s = pd.Series([1,3,5,np.nan,6,8])\n",
    "print(s.values)"
   ]
  },
  {
   "cell_type": "markdown",
   "metadata": {},
   "source": [
    "切片操作"
   ]
  },
  {
   "cell_type": "code",
   "execution_count": 9,
   "metadata": {},
   "outputs": [
    {
     "name": "stdout",
     "output_type": "stream",
     "text": [
      "2    5.0\n",
      "3    NaN\n",
      "4    6.0\n",
      "dtype: float64\n",
      "0    1.0\n",
      "2    5.0\n",
      "4    6.0\n",
      "dtype: float64\n"
     ]
    }
   ],
   "source": [
    "import pandas as pd\n",
    "import numpy as np\n",
    "s = pd.Series([1,3,5,np.nan,6,8])\n",
    "print(s[2:5]) # 左闭右开\n",
    "print(s[::2])"
   ]
  },
  {
   "cell_type": "markdown",
   "metadata": {},
   "source": [
    "索引赋值"
   ]
  },
  {
   "cell_type": "code",
   "execution_count": 13,
   "metadata": {},
   "outputs": [
    {
     "name": "stdout",
     "output_type": "stream",
     "text": [
      "索引\n",
      "0    1.0\n",
      "1    3.0\n",
      "2    5.0\n",
      "3    NaN\n",
      "4    6.0\n",
      "5    8.0\n",
      "dtype: float64\n"
     ]
    }
   ],
   "source": [
    "import pandas as pd\n",
    "import numpy as np\n",
    "s = pd.Series([1,3,5,np.nan,6,8])\n",
    "s.index.name = '索引'\n",
    "print(s)"
   ]
  },
  {
   "cell_type": "code",
   "execution_count": 14,
   "metadata": {},
   "outputs": [
    {
     "name": "stdout",
     "output_type": "stream",
     "text": [
      "a    1.0\n",
      "b    3.0\n",
      "c    5.0\n",
      "d    NaN\n",
      "e    6.0\n",
      "f    8.0\n",
      "dtype: float64\n"
     ]
    }
   ],
   "source": [
    "import pandas as pd\n",
    "import numpy as np\n",
    "s = pd.Series([1,3,5,np.nan,6,8])\n",
    "s.index = list(\"abcdef\")\n",
    "print(s)"
   ]
  },
  {
   "cell_type": "code",
   "execution_count": 15,
   "metadata": {},
   "outputs": [
    {
     "name": "stdout",
     "output_type": "stream",
     "text": [
      "a    1.0\n",
      "c    5.0\n",
      "dtype: float64\n"
     ]
    }
   ],
   "source": [
    "import pandas as pd\n",
    "import numpy as np\n",
    "s = pd.Series([1,3,5,np.nan,6,8])\n",
    "s.index = list(\"abcdef\")\n",
    "print(s['a':'c':2])"
   ]
  },
  {
   "cell_type": "markdown",
   "metadata": {},
   "source": [
    "**注意**：这里索引不再是数值，也不再遵守左闭右开的原则。"
   ]
  },
  {
   "cell_type": "markdown",
   "metadata": {},
   "source": [
    "### 9.2.2 Pandas库的DataFrame类型\n",
    "`DataFrame`则是个二维结构，这里首先构造一组时间序列，作为我们第一维的下标："
   ]
  },
  {
   "cell_type": "code",
   "execution_count": 16,
   "metadata": {},
   "outputs": [
    {
     "name": "stdout",
     "output_type": "stream",
     "text": [
      "DatetimeIndex(['2018-01-01', '2018-01-02', '2018-01-03', '2018-01-04',\n",
      "               '2018-01-05', '2018-01-06'],\n",
      "              dtype='datetime64[ns]', freq='D')\n"
     ]
    }
   ],
   "source": [
    "import pandas as pd\n",
    "import numpy as np\n",
    "date = pd.date_range(\"20180101\", periods = 6)\n",
    "print(date)"
   ]
  },
  {
   "cell_type": "markdown",
   "metadata": {},
   "source": [
    "然后创建一个`DataFrame`结构："
   ]
  },
  {
   "cell_type": "code",
   "execution_count": 2,
   "metadata": {},
   "outputs": [
    {
     "name": "stdout",
     "output_type": "stream",
     "text": [
      "DatetimeIndex(['2018-01-01', '2018-01-02', '2018-01-03', '2018-01-04',\n",
      "               '2018-01-05', '2018-01-06'],\n",
      "              dtype='datetime64[ns]', freq='D')\n"
     ]
    },
    {
     "data": {
      "text/html": [
       "<div>\n",
       "<style scoped>\n",
       "    .dataframe tbody tr th:only-of-type {\n",
       "        vertical-align: middle;\n",
       "    }\n",
       "\n",
       "    .dataframe tbody tr th {\n",
       "        vertical-align: top;\n",
       "    }\n",
       "\n",
       "    .dataframe thead th {\n",
       "        text-align: right;\n",
       "    }\n",
       "</style>\n",
       "<table border=\"1\" class=\"dataframe\">\n",
       "  <thead>\n",
       "    <tr style=\"text-align: right;\">\n",
       "      <th></th>\n",
       "      <th>A</th>\n",
       "      <th>B</th>\n",
       "      <th>C</th>\n",
       "      <th>D</th>\n",
       "    </tr>\n",
       "  </thead>\n",
       "  <tbody>\n",
       "    <tr>\n",
       "      <th>2018-01-01</th>\n",
       "      <td>-1.521197</td>\n",
       "      <td>0.917602</td>\n",
       "      <td>0.874045</td>\n",
       "      <td>0.704967</td>\n",
       "    </tr>\n",
       "    <tr>\n",
       "      <th>2018-01-02</th>\n",
       "      <td>-0.827472</td>\n",
       "      <td>-0.765161</td>\n",
       "      <td>0.653234</td>\n",
       "      <td>0.773203</td>\n",
       "    </tr>\n",
       "    <tr>\n",
       "      <th>2018-01-03</th>\n",
       "      <td>0.015737</td>\n",
       "      <td>-0.713135</td>\n",
       "      <td>0.136650</td>\n",
       "      <td>-1.006354</td>\n",
       "    </tr>\n",
       "    <tr>\n",
       "      <th>2018-01-04</th>\n",
       "      <td>-1.499645</td>\n",
       "      <td>-0.826832</td>\n",
       "      <td>-0.002459</td>\n",
       "      <td>0.586245</td>\n",
       "    </tr>\n",
       "    <tr>\n",
       "      <th>2018-01-05</th>\n",
       "      <td>-0.044501</td>\n",
       "      <td>0.660490</td>\n",
       "      <td>0.259101</td>\n",
       "      <td>-0.038983</td>\n",
       "    </tr>\n",
       "    <tr>\n",
       "      <th>2018-01-06</th>\n",
       "      <td>0.145179</td>\n",
       "      <td>2.378894</td>\n",
       "      <td>0.637116</td>\n",
       "      <td>1.103418</td>\n",
       "    </tr>\n",
       "  </tbody>\n",
       "</table>\n",
       "</div>"
      ],
      "text/plain": [
       "                   A         B         C         D\n",
       "2018-01-01 -1.521197  0.917602  0.874045  0.704967\n",
       "2018-01-02 -0.827472 -0.765161  0.653234  0.773203\n",
       "2018-01-03  0.015737 -0.713135  0.136650 -1.006354\n",
       "2018-01-04 -1.499645 -0.826832 -0.002459  0.586245\n",
       "2018-01-05 -0.044501  0.660490  0.259101 -0.038983\n",
       "2018-01-06  0.145179  2.378894  0.637116  1.103418"
      ]
     },
     "execution_count": 2,
     "metadata": {},
     "output_type": "execute_result"
    }
   ],
   "source": [
    "import pandas as pd\n",
    "import numpy as np\n",
    "date = pd.date_range(\"20180101\", periods = 6)\n",
    "print(date)\n",
    "df = pd.DataFrame(np.random.randn(6,4), index = date, columns = list(\"ABCD\"))\n",
    "df"
   ]
  },
  {
   "cell_type": "markdown",
   "metadata": {},
   "source": [
    "默认情况下，如果不指定`index`参数和`columns`，那么它们的值将从用0开始的数字替代。"
   ]
  },
  {
   "cell_type": "code",
   "execution_count": 48,
   "metadata": {},
   "outputs": [
    {
     "name": "stdout",
     "output_type": "stream",
     "text": [
      "DatetimeIndex(['2018-01-01', '2018-01-02', '2018-01-03', '2018-01-04',\n",
      "               '2018-01-05', '2018-01-06'],\n",
      "              dtype='datetime64[ns]', freq='D')\n"
     ]
    },
    {
     "data": {
      "text/html": [
       "<div>\n",
       "<style scoped>\n",
       "    .dataframe tbody tr th:only-of-type {\n",
       "        vertical-align: middle;\n",
       "    }\n",
       "\n",
       "    .dataframe tbody tr th {\n",
       "        vertical-align: top;\n",
       "    }\n",
       "\n",
       "    .dataframe thead th {\n",
       "        text-align: right;\n",
       "    }\n",
       "</style>\n",
       "<table border=\"1\" class=\"dataframe\">\n",
       "  <thead>\n",
       "    <tr style=\"text-align: right;\">\n",
       "      <th></th>\n",
       "      <th>0</th>\n",
       "      <th>1</th>\n",
       "      <th>2</th>\n",
       "      <th>3</th>\n",
       "    </tr>\n",
       "  </thead>\n",
       "  <tbody>\n",
       "    <tr>\n",
       "      <th>0</th>\n",
       "      <td>0.612476</td>\n",
       "      <td>0.631021</td>\n",
       "      <td>2.351589</td>\n",
       "      <td>0.884317</td>\n",
       "    </tr>\n",
       "    <tr>\n",
       "      <th>1</th>\n",
       "      <td>1.436861</td>\n",
       "      <td>0.197359</td>\n",
       "      <td>0.684687</td>\n",
       "      <td>-0.371590</td>\n",
       "    </tr>\n",
       "    <tr>\n",
       "      <th>2</th>\n",
       "      <td>1.118205</td>\n",
       "      <td>-0.990750</td>\n",
       "      <td>0.502693</td>\n",
       "      <td>0.633902</td>\n",
       "    </tr>\n",
       "    <tr>\n",
       "      <th>3</th>\n",
       "      <td>-0.059023</td>\n",
       "      <td>1.189993</td>\n",
       "      <td>-0.350823</td>\n",
       "      <td>-0.829407</td>\n",
       "    </tr>\n",
       "    <tr>\n",
       "      <th>4</th>\n",
       "      <td>-1.071734</td>\n",
       "      <td>-0.749699</td>\n",
       "      <td>0.251985</td>\n",
       "      <td>-0.819888</td>\n",
       "    </tr>\n",
       "    <tr>\n",
       "      <th>5</th>\n",
       "      <td>1.500889</td>\n",
       "      <td>1.001440</td>\n",
       "      <td>0.047792</td>\n",
       "      <td>0.444110</td>\n",
       "    </tr>\n",
       "  </tbody>\n",
       "</table>\n",
       "</div>"
      ],
      "text/plain": [
       "          0         1         2         3\n",
       "0  0.612476  0.631021  2.351589  0.884317\n",
       "1  1.436861  0.197359  0.684687 -0.371590\n",
       "2  1.118205 -0.990750  0.502693  0.633902\n",
       "3 -0.059023  1.189993 -0.350823 -0.829407\n",
       "4 -1.071734 -0.749699  0.251985 -0.819888\n",
       "5  1.500889  1.001440  0.047792  0.444110"
      ]
     },
     "execution_count": 48,
     "metadata": {},
     "output_type": "execute_result"
    }
   ],
   "source": [
    "import pandas as pd\n",
    "import numpy as np\n",
    "date = pd.date_range(\"20180101\", periods = 6)\n",
    "print(date)\n",
    "df = pd.DataFrame(np.random.randn(6,4))\n",
    "df"
   ]
  },
  {
   "cell_type": "markdown",
   "metadata": {},
   "source": [
    "除了向`DataFrame`中传入二维数组，我们也可以使用字典传入数据："
   ]
  },
  {
   "cell_type": "code",
   "execution_count": 53,
   "metadata": {},
   "outputs": [
    {
     "name": "stdout",
     "output_type": "stream",
     "text": [
      "A           float64\n",
      "B    datetime64[ns]\n",
      "C           float64\n",
      "D             int32\n",
      "E          category\n",
      "F            object\n",
      "dtype: object\n"
     ]
    },
    {
     "data": {
      "text/html": [
       "<div>\n",
       "<style scoped>\n",
       "    .dataframe tbody tr th:only-of-type {\n",
       "        vertical-align: middle;\n",
       "    }\n",
       "\n",
       "    .dataframe tbody tr th {\n",
       "        vertical-align: top;\n",
       "    }\n",
       "\n",
       "    .dataframe thead th {\n",
       "        text-align: right;\n",
       "    }\n",
       "</style>\n",
       "<table border=\"1\" class=\"dataframe\">\n",
       "  <thead>\n",
       "    <tr style=\"text-align: right;\">\n",
       "      <th></th>\n",
       "      <th>A</th>\n",
       "      <th>B</th>\n",
       "      <th>C</th>\n",
       "      <th>D</th>\n",
       "      <th>E</th>\n",
       "      <th>F</th>\n",
       "    </tr>\n",
       "  </thead>\n",
       "  <tbody>\n",
       "    <tr>\n",
       "      <th>0</th>\n",
       "      <td>1.0</td>\n",
       "      <td>2018-10-01</td>\n",
       "      <td>1.0</td>\n",
       "      <td>3</td>\n",
       "      <td>test</td>\n",
       "      <td>abc</td>\n",
       "    </tr>\n",
       "    <tr>\n",
       "      <th>1</th>\n",
       "      <td>1.0</td>\n",
       "      <td>2018-10-01</td>\n",
       "      <td>1.0</td>\n",
       "      <td>3</td>\n",
       "      <td>train</td>\n",
       "      <td>abc</td>\n",
       "    </tr>\n",
       "    <tr>\n",
       "      <th>2</th>\n",
       "      <td>1.0</td>\n",
       "      <td>2018-10-01</td>\n",
       "      <td>1.0</td>\n",
       "      <td>3</td>\n",
       "      <td>test</td>\n",
       "      <td>abc</td>\n",
       "    </tr>\n",
       "    <tr>\n",
       "      <th>3</th>\n",
       "      <td>1.0</td>\n",
       "      <td>2018-10-01</td>\n",
       "      <td>1.0</td>\n",
       "      <td>3</td>\n",
       "      <td>train</td>\n",
       "      <td>abc</td>\n",
       "    </tr>\n",
       "  </tbody>\n",
       "</table>\n",
       "</div>"
      ],
      "text/plain": [
       "     A          B    C  D      E    F\n",
       "0  1.0 2018-10-01  1.0  3   test  abc\n",
       "1  1.0 2018-10-01  1.0  3  train  abc\n",
       "2  1.0 2018-10-01  1.0  3   test  abc\n",
       "3  1.0 2018-10-01  1.0  3  train  abc"
      ]
     },
     "execution_count": 53,
     "metadata": {},
     "output_type": "execute_result"
    }
   ],
   "source": [
    "import pandas as pd\n",
    "import numpy as np\n",
    "#B:时间戳,E分类类型\n",
    "df2 = pd.DataFrame({'A':1.,\n",
    "                    'B':pd.Timestamp(\"20181001\"),\n",
    "                    'C':pd.Series(1,index = list(range(4)),dtype = float),\n",
    "                    'D':np.array([3]*4, dtype = int),\n",
    "                    'E':pd.Categorical([\"test\",\"train\",\"test\",\"train\"]),\n",
    "                    'F':\"abc\"})\n",
    "print(df2.dtypes)\n",
    "df2"
   ]
  },
  {
   "cell_type": "markdown",
   "metadata": {},
   "source": [
    "字典的每个`key`代表一列，其`value`可以是各种能够转化为`Series`的对象。与`Series`要求所有的类型都一致不同，`DataFrame`只要求每一列数据的格式相同。"
   ]
  },
  {
   "cell_type": "markdown",
   "metadata": {},
   "source": [
    "**查看数据**\n",
    "\n",
    "头尾数据：`head`和`tail`方法可以分别查看最前面几行和最后面几行的数据（默认为5）。"
   ]
  },
  {
   "cell_type": "code",
   "execution_count": 54,
   "metadata": {},
   "outputs": [
    {
     "data": {
      "text/html": [
       "<div>\n",
       "<style scoped>\n",
       "    .dataframe tbody tr th:only-of-type {\n",
       "        vertical-align: middle;\n",
       "    }\n",
       "\n",
       "    .dataframe tbody tr th {\n",
       "        vertical-align: top;\n",
       "    }\n",
       "\n",
       "    .dataframe thead th {\n",
       "        text-align: right;\n",
       "    }\n",
       "</style>\n",
       "<table border=\"1\" class=\"dataframe\">\n",
       "  <thead>\n",
       "    <tr style=\"text-align: right;\">\n",
       "      <th></th>\n",
       "      <th>A</th>\n",
       "      <th>B</th>\n",
       "      <th>C</th>\n",
       "      <th>D</th>\n",
       "    </tr>\n",
       "  </thead>\n",
       "  <tbody>\n",
       "    <tr>\n",
       "      <th>2018-01-01</th>\n",
       "      <td>1.824459</td>\n",
       "      <td>-1.207617</td>\n",
       "      <td>0.239773</td>\n",
       "      <td>-1.324003</td>\n",
       "    </tr>\n",
       "    <tr>\n",
       "      <th>2018-01-02</th>\n",
       "      <td>-0.379129</td>\n",
       "      <td>0.421142</td>\n",
       "      <td>0.531803</td>\n",
       "      <td>-0.179014</td>\n",
       "    </tr>\n",
       "    <tr>\n",
       "      <th>2018-01-03</th>\n",
       "      <td>1.879301</td>\n",
       "      <td>-1.005879</td>\n",
       "      <td>0.393336</td>\n",
       "      <td>-1.389884</td>\n",
       "    </tr>\n",
       "    <tr>\n",
       "      <th>2018-01-04</th>\n",
       "      <td>1.357715</td>\n",
       "      <td>0.152350</td>\n",
       "      <td>-1.258932</td>\n",
       "      <td>-0.556222</td>\n",
       "    </tr>\n",
       "    <tr>\n",
       "      <th>2018-01-05</th>\n",
       "      <td>0.224679</td>\n",
       "      <td>1.856082</td>\n",
       "      <td>0.443796</td>\n",
       "      <td>-0.570199</td>\n",
       "    </tr>\n",
       "  </tbody>\n",
       "</table>\n",
       "</div>"
      ],
      "text/plain": [
       "                   A         B         C         D\n",
       "2018-01-01  1.824459 -1.207617  0.239773 -1.324003\n",
       "2018-01-02 -0.379129  0.421142  0.531803 -0.179014\n",
       "2018-01-03  1.879301 -1.005879  0.393336 -1.389884\n",
       "2018-01-04  1.357715  0.152350 -1.258932 -0.556222\n",
       "2018-01-05  0.224679  1.856082  0.443796 -0.570199"
      ]
     },
     "execution_count": 54,
     "metadata": {},
     "output_type": "execute_result"
    }
   ],
   "source": [
    "import pandas as pd\n",
    "import numpy as np\n",
    "date = pd.date_range(\"20180101\", periods = 6)\n",
    "df = pd.DataFrame(np.random.randn(6,4), index = date, columns = list(\"ABCD\"))\n",
    "df.head()"
   ]
  },
  {
   "cell_type": "markdown",
   "metadata": {},
   "source": [
    "最后3行"
   ]
  },
  {
   "cell_type": "code",
   "execution_count": 55,
   "metadata": {},
   "outputs": [
    {
     "data": {
      "text/html": [
       "<div>\n",
       "<style scoped>\n",
       "    .dataframe tbody tr th:only-of-type {\n",
       "        vertical-align: middle;\n",
       "    }\n",
       "\n",
       "    .dataframe tbody tr th {\n",
       "        vertical-align: top;\n",
       "    }\n",
       "\n",
       "    .dataframe thead th {\n",
       "        text-align: right;\n",
       "    }\n",
       "</style>\n",
       "<table border=\"1\" class=\"dataframe\">\n",
       "  <thead>\n",
       "    <tr style=\"text-align: right;\">\n",
       "      <th></th>\n",
       "      <th>A</th>\n",
       "      <th>B</th>\n",
       "      <th>C</th>\n",
       "      <th>D</th>\n",
       "    </tr>\n",
       "  </thead>\n",
       "  <tbody>\n",
       "    <tr>\n",
       "      <th>2018-01-04</th>\n",
       "      <td>0.823872</td>\n",
       "      <td>-0.193263</td>\n",
       "      <td>1.742783</td>\n",
       "      <td>1.416937</td>\n",
       "    </tr>\n",
       "    <tr>\n",
       "      <th>2018-01-05</th>\n",
       "      <td>-0.007054</td>\n",
       "      <td>-0.770719</td>\n",
       "      <td>0.062220</td>\n",
       "      <td>0.852900</td>\n",
       "    </tr>\n",
       "    <tr>\n",
       "      <th>2018-01-06</th>\n",
       "      <td>-0.318077</td>\n",
       "      <td>-0.046952</td>\n",
       "      <td>-0.937460</td>\n",
       "      <td>0.601917</td>\n",
       "    </tr>\n",
       "  </tbody>\n",
       "</table>\n",
       "</div>"
      ],
      "text/plain": [
       "                   A         B         C         D\n",
       "2018-01-04  0.823872 -0.193263  1.742783  1.416937\n",
       "2018-01-05 -0.007054 -0.770719  0.062220  0.852900\n",
       "2018-01-06 -0.318077 -0.046952 -0.937460  0.601917"
      ]
     },
     "execution_count": 55,
     "metadata": {},
     "output_type": "execute_result"
    }
   ],
   "source": [
    "import pandas as pd\n",
    "import numpy as np\n",
    "date = pd.date_range(\"20180101\", periods = 6)\n",
    "df = pd.DataFrame(np.random.randn(6,4), index = date, columns = list(\"ABCD\"))\n",
    "df.tail(3)"
   ]
  },
  {
   "cell_type": "markdown",
   "metadata": {},
   "source": [
    "行标使用`index`属性查看"
   ]
  },
  {
   "cell_type": "code",
   "execution_count": 25,
   "metadata": {},
   "outputs": [
    {
     "name": "stdout",
     "output_type": "stream",
     "text": [
      "DatetimeIndex(['2018-01-01', '2018-01-02', '2018-01-03', '2018-01-04',\n",
      "               '2018-01-05', '2018-01-06'],\n",
      "              dtype='datetime64[ns]', freq='D')\n"
     ]
    }
   ],
   "source": [
    "import pandas as pd\n",
    "import numpy as np\n",
    "date = pd.date_range(\"20180101\", periods = 6)\n",
    "df = pd.DataFrame(np.random.randn(6,4), index = date, columns = list(\"ABCD\"))\n",
    "print(df.index)"
   ]
  },
  {
   "cell_type": "markdown",
   "metadata": {},
   "source": [
    "列标使用`columns`属性查看"
   ]
  },
  {
   "cell_type": "code",
   "execution_count": 28,
   "metadata": {},
   "outputs": [
    {
     "name": "stdout",
     "output_type": "stream",
     "text": [
      "Index(['A', 'B', 'C', 'D'], dtype='object')\n"
     ]
    }
   ],
   "source": [
    "import pandas as pd\n",
    "import numpy as np\n",
    "date = pd.date_range(\"20180101\", periods = 6)\n",
    "df = pd.DataFrame(np.random.randn(6,4), index = date, columns = list(\"ABCD\"))\n",
    "print(df.columns)"
   ]
  },
  {
   "cell_type": "markdown",
   "metadata": {},
   "source": [
    "数据值使用`values`查看"
   ]
  },
  {
   "cell_type": "code",
   "execution_count": 4,
   "metadata": {},
   "outputs": [
    {
     "name": "stdout",
     "output_type": "stream",
     "text": [
      "[[-0.19194566 -2.02415353 -0.27700164  0.60463379]\n",
      " [ 0.19047057  1.63989766 -0.27516612  0.37558053]\n",
      " [ 1.41666739 -0.10251771  0.48112208 -0.41954542]\n",
      " [-2.39405944 -0.13063606 -1.05751321  0.06873895]\n",
      " [ 0.47153437  0.21549055  1.65157232  2.8015633 ]\n",
      " [-2.15527436  0.02216603 -2.18354412 -0.3173829 ]]\n"
     ]
    }
   ],
   "source": [
    "import pandas as pd\n",
    "import numpy as np\n",
    "date = pd.date_range(\"20180101\", periods = 6)\n",
    "df = pd.DataFrame(np.random.randn(6,4), index = date, columns = list(\"ABCD\"))\n",
    "print(df.values)"
   ]
  },
  {
   "cell_type": "markdown",
   "metadata": {},
   "source": [
    "### 9.2.3 pandas读取数据及数据操作\n",
    "我们将以豆瓣的电影数据作为我们深入了解Pandas的一个示例。"
   ]
  },
  {
   "cell_type": "code",
   "execution_count": 6,
   "metadata": {},
   "outputs": [
    {
     "data": {
      "text/html": [
       "<div>\n",
       "<style scoped>\n",
       "    .dataframe tbody tr th:only-of-type {\n",
       "        vertical-align: middle;\n",
       "    }\n",
       "\n",
       "    .dataframe tbody tr th {\n",
       "        vertical-align: top;\n",
       "    }\n",
       "\n",
       "    .dataframe thead th {\n",
       "        text-align: right;\n",
       "    }\n",
       "</style>\n",
       "<table border=\"1\" class=\"dataframe\">\n",
       "  <thead>\n",
       "    <tr style=\"text-align: right;\">\n",
       "      <th></th>\n",
       "      <th>名字</th>\n",
       "      <th>投票人数</th>\n",
       "      <th>类型</th>\n",
       "      <th>产地</th>\n",
       "      <th>上映时间</th>\n",
       "      <th>时长</th>\n",
       "      <th>年代</th>\n",
       "      <th>评分</th>\n",
       "      <th>首映地点</th>\n",
       "    </tr>\n",
       "  </thead>\n",
       "  <tbody>\n",
       "    <tr>\n",
       "      <th>0</th>\n",
       "      <td>肖申克的救赎</td>\n",
       "      <td>692795.0</td>\n",
       "      <td>剧情/犯罪</td>\n",
       "      <td>美国</td>\n",
       "      <td>1994-09-10 00:00:00</td>\n",
       "      <td>142</td>\n",
       "      <td>1994</td>\n",
       "      <td>9.6</td>\n",
       "      <td>多伦多电影节</td>\n",
       "    </tr>\n",
       "    <tr>\n",
       "      <th>1</th>\n",
       "      <td>控方证人</td>\n",
       "      <td>42995.0</td>\n",
       "      <td>剧情/悬疑/犯罪</td>\n",
       "      <td>美国</td>\n",
       "      <td>1957-12-17 00:00:00</td>\n",
       "      <td>116</td>\n",
       "      <td>1957</td>\n",
       "      <td>9.5</td>\n",
       "      <td>美国</td>\n",
       "    </tr>\n",
       "    <tr>\n",
       "      <th>2</th>\n",
       "      <td>美丽人生</td>\n",
       "      <td>327855.0</td>\n",
       "      <td>剧情/喜剧/爱情</td>\n",
       "      <td>意大利</td>\n",
       "      <td>1997-12-20 00:00:00</td>\n",
       "      <td>116</td>\n",
       "      <td>1997</td>\n",
       "      <td>9.5</td>\n",
       "      <td>意大利</td>\n",
       "    </tr>\n",
       "    <tr>\n",
       "      <th>3</th>\n",
       "      <td>阿甘正传</td>\n",
       "      <td>580897.0</td>\n",
       "      <td>剧情/爱情</td>\n",
       "      <td>美国</td>\n",
       "      <td>1994-06-23 00:00:00</td>\n",
       "      <td>142</td>\n",
       "      <td>1994</td>\n",
       "      <td>9.4</td>\n",
       "      <td>洛杉矶首映</td>\n",
       "    </tr>\n",
       "    <tr>\n",
       "      <th>4</th>\n",
       "      <td>霸王别姬</td>\n",
       "      <td>478523.0</td>\n",
       "      <td>剧情/爱情</td>\n",
       "      <td>中国大陆</td>\n",
       "      <td>1993-01-01 00:00:00</td>\n",
       "      <td>171</td>\n",
       "      <td>1993</td>\n",
       "      <td>9.4</td>\n",
       "      <td>香港</td>\n",
       "    </tr>\n",
       "  </tbody>\n",
       "</table>\n",
       "</div>"
      ],
      "text/plain": [
       "       名字      投票人数        类型    产地                 上映时间   时长    年代   评分  \\\n",
       "0  肖申克的救赎  692795.0     剧情/犯罪    美国  1994-09-10 00:00:00  142  1994  9.6   \n",
       "1    控方证人   42995.0  剧情/悬疑/犯罪    美国  1957-12-17 00:00:00  116  1957  9.5   \n",
       "2   美丽人生   327855.0  剧情/喜剧/爱情   意大利  1997-12-20 00:00:00  116  1997  9.5   \n",
       "3    阿甘正传  580897.0     剧情/爱情    美国  1994-06-23 00:00:00  142  1994  9.4   \n",
       "4    霸王别姬  478523.0     剧情/爱情  中国大陆  1993-01-01 00:00:00  171  1993  9.4   \n",
       "\n",
       "     首映地点  \n",
       "0  多伦多电影节  \n",
       "1      美国  \n",
       "2     意大利  \n",
       "3   洛杉矶首映  \n",
       "4      香港  "
      ]
     },
     "execution_count": 6,
     "metadata": {},
     "output_type": "execute_result"
    }
   ],
   "source": [
    "import pandas as pd\n",
    "import numpy as np\n",
    "df = pd.read_excel(\"../file/豆瓣电影数据.xlsx\", index_col = 0)\n",
    "df.head()"
   ]
  },
  {
   "cell_type": "markdown",
   "metadata": {},
   "source": [
    "行操作"
   ]
  },
  {
   "cell_type": "code",
   "execution_count": 7,
   "metadata": {},
   "outputs": [
    {
     "data": {
      "text/plain": [
       "名字                   肖申克的救赎\n",
       "投票人数                 692795\n",
       "类型                    剧情/犯罪\n",
       "产地                       美国\n",
       "上映时间    1994-09-10 00:00:00\n",
       "时长                      142\n",
       "年代                     1994\n",
       "评分                      9.6\n",
       "首映地点                 多伦多电影节\n",
       "Name: 0, dtype: object"
      ]
     },
     "execution_count": 7,
     "metadata": {},
     "output_type": "execute_result"
    }
   ],
   "source": [
    "import pandas as pd\n",
    "import numpy as np\n",
    "df = pd.read_excel(\"../file/豆瓣电影数据.xlsx\", index_col = 0)\n",
    "df.iloc[0]"
   ]
  },
  {
   "cell_type": "code",
   "execution_count": 8,
   "metadata": {},
   "outputs": [
    {
     "data": {
      "text/html": [
       "<div>\n",
       "<style scoped>\n",
       "    .dataframe tbody tr th:only-of-type {\n",
       "        vertical-align: middle;\n",
       "    }\n",
       "\n",
       "    .dataframe tbody tr th {\n",
       "        vertical-align: top;\n",
       "    }\n",
       "\n",
       "    .dataframe thead th {\n",
       "        text-align: right;\n",
       "    }\n",
       "</style>\n",
       "<table border=\"1\" class=\"dataframe\">\n",
       "  <thead>\n",
       "    <tr style=\"text-align: right;\">\n",
       "      <th></th>\n",
       "      <th>名字</th>\n",
       "      <th>投票人数</th>\n",
       "      <th>类型</th>\n",
       "      <th>产地</th>\n",
       "      <th>上映时间</th>\n",
       "      <th>时长</th>\n",
       "      <th>年代</th>\n",
       "      <th>评分</th>\n",
       "      <th>首映地点</th>\n",
       "    </tr>\n",
       "  </thead>\n",
       "  <tbody>\n",
       "    <tr>\n",
       "      <th>0</th>\n",
       "      <td>肖申克的救赎</td>\n",
       "      <td>692795.0</td>\n",
       "      <td>剧情/犯罪</td>\n",
       "      <td>美国</td>\n",
       "      <td>1994-09-10 00:00:00</td>\n",
       "      <td>142</td>\n",
       "      <td>1994</td>\n",
       "      <td>9.6</td>\n",
       "      <td>多伦多电影节</td>\n",
       "    </tr>\n",
       "    <tr>\n",
       "      <th>1</th>\n",
       "      <td>控方证人</td>\n",
       "      <td>42995.0</td>\n",
       "      <td>剧情/悬疑/犯罪</td>\n",
       "      <td>美国</td>\n",
       "      <td>1957-12-17 00:00:00</td>\n",
       "      <td>116</td>\n",
       "      <td>1957</td>\n",
       "      <td>9.5</td>\n",
       "      <td>美国</td>\n",
       "    </tr>\n",
       "    <tr>\n",
       "      <th>2</th>\n",
       "      <td>美丽人生</td>\n",
       "      <td>327855.0</td>\n",
       "      <td>剧情/喜剧/爱情</td>\n",
       "      <td>意大利</td>\n",
       "      <td>1997-12-20 00:00:00</td>\n",
       "      <td>116</td>\n",
       "      <td>1997</td>\n",
       "      <td>9.5</td>\n",
       "      <td>意大利</td>\n",
       "    </tr>\n",
       "    <tr>\n",
       "      <th>3</th>\n",
       "      <td>阿甘正传</td>\n",
       "      <td>580897.0</td>\n",
       "      <td>剧情/爱情</td>\n",
       "      <td>美国</td>\n",
       "      <td>1994-06-23 00:00:00</td>\n",
       "      <td>142</td>\n",
       "      <td>1994</td>\n",
       "      <td>9.4</td>\n",
       "      <td>洛杉矶首映</td>\n",
       "    </tr>\n",
       "    <tr>\n",
       "      <th>4</th>\n",
       "      <td>霸王别姬</td>\n",
       "      <td>478523.0</td>\n",
       "      <td>剧情/爱情</td>\n",
       "      <td>中国大陆</td>\n",
       "      <td>1993-01-01 00:00:00</td>\n",
       "      <td>171</td>\n",
       "      <td>1993</td>\n",
       "      <td>9.4</td>\n",
       "      <td>香港</td>\n",
       "    </tr>\n",
       "  </tbody>\n",
       "</table>\n",
       "</div>"
      ],
      "text/plain": [
       "       名字      投票人数        类型    产地                 上映时间   时长    年代   评分  \\\n",
       "0  肖申克的救赎  692795.0     剧情/犯罪    美国  1994-09-10 00:00:00  142  1994  9.6   \n",
       "1    控方证人   42995.0  剧情/悬疑/犯罪    美国  1957-12-17 00:00:00  116  1957  9.5   \n",
       "2   美丽人生   327855.0  剧情/喜剧/爱情   意大利  1997-12-20 00:00:00  116  1997  9.5   \n",
       "3    阿甘正传  580897.0     剧情/爱情    美国  1994-06-23 00:00:00  142  1994  9.4   \n",
       "4    霸王别姬  478523.0     剧情/爱情  中国大陆  1993-01-01 00:00:00  171  1993  9.4   \n",
       "\n",
       "     首映地点  \n",
       "0  多伦多电影节  \n",
       "1      美国  \n",
       "2     意大利  \n",
       "3   洛杉矶首映  \n",
       "4      香港  "
      ]
     },
     "execution_count": 8,
     "metadata": {},
     "output_type": "execute_result"
    }
   ],
   "source": [
    "import pandas as pd\n",
    "import numpy as np\n",
    "df = pd.read_excel(\"../file/豆瓣电影数据.xlsx\", index_col = 0)\n",
    "df.iloc[0:5] #左闭右开"
   ]
  },
  {
   "cell_type": "markdown",
   "metadata": {},
   "source": [
    "也可以使用loc"
   ]
  },
  {
   "cell_type": "code",
   "execution_count": 11,
   "metadata": {},
   "outputs": [
    {
     "data": {
      "text/html": [
       "<div>\n",
       "<style scoped>\n",
       "    .dataframe tbody tr th:only-of-type {\n",
       "        vertical-align: middle;\n",
       "    }\n",
       "\n",
       "    .dataframe tbody tr th {\n",
       "        vertical-align: top;\n",
       "    }\n",
       "\n",
       "    .dataframe thead th {\n",
       "        text-align: right;\n",
       "    }\n",
       "</style>\n",
       "<table border=\"1\" class=\"dataframe\">\n",
       "  <thead>\n",
       "    <tr style=\"text-align: right;\">\n",
       "      <th></th>\n",
       "      <th>名字</th>\n",
       "      <th>投票人数</th>\n",
       "      <th>类型</th>\n",
       "      <th>产地</th>\n",
       "      <th>上映时间</th>\n",
       "      <th>时长</th>\n",
       "      <th>年代</th>\n",
       "      <th>评分</th>\n",
       "      <th>首映地点</th>\n",
       "    </tr>\n",
       "  </thead>\n",
       "  <tbody>\n",
       "    <tr>\n",
       "      <th>0</th>\n",
       "      <td>肖申克的救赎</td>\n",
       "      <td>692795.0</td>\n",
       "      <td>剧情/犯罪</td>\n",
       "      <td>美国</td>\n",
       "      <td>1994-09-10 00:00:00</td>\n",
       "      <td>142</td>\n",
       "      <td>1994</td>\n",
       "      <td>9.6</td>\n",
       "      <td>多伦多电影节</td>\n",
       "    </tr>\n",
       "    <tr>\n",
       "      <th>1</th>\n",
       "      <td>控方证人</td>\n",
       "      <td>42995.0</td>\n",
       "      <td>剧情/悬疑/犯罪</td>\n",
       "      <td>美国</td>\n",
       "      <td>1957-12-17 00:00:00</td>\n",
       "      <td>116</td>\n",
       "      <td>1957</td>\n",
       "      <td>9.5</td>\n",
       "      <td>美国</td>\n",
       "    </tr>\n",
       "    <tr>\n",
       "      <th>2</th>\n",
       "      <td>美丽人生</td>\n",
       "      <td>327855.0</td>\n",
       "      <td>剧情/喜剧/爱情</td>\n",
       "      <td>意大利</td>\n",
       "      <td>1997-12-20 00:00:00</td>\n",
       "      <td>116</td>\n",
       "      <td>1997</td>\n",
       "      <td>9.5</td>\n",
       "      <td>意大利</td>\n",
       "    </tr>\n",
       "    <tr>\n",
       "      <th>3</th>\n",
       "      <td>阿甘正传</td>\n",
       "      <td>580897.0</td>\n",
       "      <td>剧情/爱情</td>\n",
       "      <td>美国</td>\n",
       "      <td>1994-06-23 00:00:00</td>\n",
       "      <td>142</td>\n",
       "      <td>1994</td>\n",
       "      <td>9.4</td>\n",
       "      <td>洛杉矶首映</td>\n",
       "    </tr>\n",
       "    <tr>\n",
       "      <th>4</th>\n",
       "      <td>霸王别姬</td>\n",
       "      <td>478523.0</td>\n",
       "      <td>剧情/爱情</td>\n",
       "      <td>中国大陆</td>\n",
       "      <td>1993-01-01 00:00:00</td>\n",
       "      <td>171</td>\n",
       "      <td>1993</td>\n",
       "      <td>9.4</td>\n",
       "      <td>香港</td>\n",
       "    </tr>\n",
       "    <tr>\n",
       "      <th>5</th>\n",
       "      <td>泰坦尼克号</td>\n",
       "      <td>157074.0</td>\n",
       "      <td>剧情/爱情/灾难</td>\n",
       "      <td>美国</td>\n",
       "      <td>2012-04-10 00:00:00</td>\n",
       "      <td>194</td>\n",
       "      <td>2012</td>\n",
       "      <td>9.4</td>\n",
       "      <td>中国大陆</td>\n",
       "    </tr>\n",
       "  </tbody>\n",
       "</table>\n",
       "</div>"
      ],
      "text/plain": [
       "       名字      投票人数        类型    产地                 上映时间   时长    年代   评分  \\\n",
       "0  肖申克的救赎  692795.0     剧情/犯罪    美国  1994-09-10 00:00:00  142  1994  9.6   \n",
       "1    控方证人   42995.0  剧情/悬疑/犯罪    美国  1957-12-17 00:00:00  116  1957  9.5   \n",
       "2   美丽人生   327855.0  剧情/喜剧/爱情   意大利  1997-12-20 00:00:00  116  1997  9.5   \n",
       "3    阿甘正传  580897.0     剧情/爱情    美国  1994-06-23 00:00:00  142  1994  9.4   \n",
       "4    霸王别姬  478523.0     剧情/爱情  中国大陆  1993-01-01 00:00:00  171  1993  9.4   \n",
       "5  泰坦尼克号   157074.0  剧情/爱情/灾难    美国  2012-04-10 00:00:00  194  2012  9.4   \n",
       "\n",
       "     首映地点  \n",
       "0  多伦多电影节  \n",
       "1      美国  \n",
       "2     意大利  \n",
       "3   洛杉矶首映  \n",
       "4      香港  \n",
       "5    中国大陆  "
      ]
     },
     "execution_count": 11,
     "metadata": {},
     "output_type": "execute_result"
    }
   ],
   "source": [
    "import pandas as pd\n",
    "import numpy as np\n",
    "df = pd.read_excel(\"../file/豆瓣电影数据.xlsx\", index_col = 0)\n",
    "df.loc[0:5] #左右皆闭"
   ]
  },
  {
   "cell_type": "markdown",
   "metadata": {},
   "source": [
    "添加一行"
   ]
  },
  {
   "cell_type": "code",
   "execution_count": 64,
   "metadata": {},
   "outputs": [
    {
     "name": "stdout",
     "output_type": "stream",
     "text": [
      "名字                   复仇者联盟3\n",
      "投票人数                 123456\n",
      "类型                    剧情/科幻\n",
      "产地                       美国\n",
      "上映时间    2018-05-04 00:00:00\n",
      "时长                      142\n",
      "年代                     2018\n",
      "评分                      NaN\n",
      "首映地点                     美国\n",
      "Name: 38738, dtype: object\n"
     ]
    },
    {
     "data": {
      "text/html": [
       "<div>\n",
       "<style scoped>\n",
       "    .dataframe tbody tr th:only-of-type {\n",
       "        vertical-align: middle;\n",
       "    }\n",
       "\n",
       "    .dataframe tbody tr th {\n",
       "        vertical-align: top;\n",
       "    }\n",
       "\n",
       "    .dataframe thead th {\n",
       "        text-align: right;\n",
       "    }\n",
       "</style>\n",
       "<table border=\"1\" class=\"dataframe\">\n",
       "  <thead>\n",
       "    <tr style=\"text-align: right;\">\n",
       "      <th></th>\n",
       "      <th>名字</th>\n",
       "      <th>投票人数</th>\n",
       "      <th>类型</th>\n",
       "      <th>产地</th>\n",
       "      <th>上映时间</th>\n",
       "      <th>时长</th>\n",
       "      <th>年代</th>\n",
       "      <th>评分</th>\n",
       "      <th>首映地点</th>\n",
       "    </tr>\n",
       "  </thead>\n",
       "  <tbody>\n",
       "    <tr>\n",
       "      <th>38734</th>\n",
       "      <td>1935年</td>\n",
       "      <td>57.0</td>\n",
       "      <td>喜剧/歌舞</td>\n",
       "      <td>美国</td>\n",
       "      <td>1935-03-15 00:00:00</td>\n",
       "      <td>98</td>\n",
       "      <td>1935</td>\n",
       "      <td>7.6</td>\n",
       "      <td>美国</td>\n",
       "    </tr>\n",
       "    <tr>\n",
       "      <th>38735</th>\n",
       "      <td>血溅画屏</td>\n",
       "      <td>95.0</td>\n",
       "      <td>剧情/悬疑/犯罪/武侠/古装</td>\n",
       "      <td>中国大陆</td>\n",
       "      <td>1905-06-08 00:00:00</td>\n",
       "      <td>91</td>\n",
       "      <td>1986</td>\n",
       "      <td>7.1</td>\n",
       "      <td>美国</td>\n",
       "    </tr>\n",
       "    <tr>\n",
       "      <th>38736</th>\n",
       "      <td>魔窟中的幻想</td>\n",
       "      <td>51.0</td>\n",
       "      <td>惊悚/恐怖/儿童</td>\n",
       "      <td>中国大陆</td>\n",
       "      <td>1905-06-08 00:00:00</td>\n",
       "      <td>78</td>\n",
       "      <td>1986</td>\n",
       "      <td>8.0</td>\n",
       "      <td>美国</td>\n",
       "    </tr>\n",
       "    <tr>\n",
       "      <th>38737</th>\n",
       "      <td>列宁格勒围困之星火战役 Блокада: Фильм 2: Ленинградский ме...</td>\n",
       "      <td>32.0</td>\n",
       "      <td>剧情/战争</td>\n",
       "      <td>苏联</td>\n",
       "      <td>1905-05-30 00:00:00</td>\n",
       "      <td>97</td>\n",
       "      <td>1977</td>\n",
       "      <td>6.6</td>\n",
       "      <td>美国</td>\n",
       "    </tr>\n",
       "    <tr>\n",
       "      <th>38738</th>\n",
       "      <td>复仇者联盟3</td>\n",
       "      <td>123456.0</td>\n",
       "      <td>剧情/科幻</td>\n",
       "      <td>美国</td>\n",
       "      <td>2018-05-04 00:00:00</td>\n",
       "      <td>142</td>\n",
       "      <td>2018</td>\n",
       "      <td>NaN</td>\n",
       "      <td>美国</td>\n",
       "    </tr>\n",
       "  </tbody>\n",
       "</table>\n",
       "</div>"
      ],
      "text/plain": [
       "                                                      名字      投票人数  \\\n",
       "38734                                              1935年      57.0   \n",
       "38735                                               血溅画屏      95.0   \n",
       "38736                                             魔窟中的幻想      51.0   \n",
       "38737  列宁格勒围困之星火战役 Блокада: Фильм 2: Ленинградский ме...      32.0   \n",
       "38738                                             复仇者联盟3  123456.0   \n",
       "\n",
       "                   类型    产地                 上映时间   时长    年代   评分 首映地点  \n",
       "38734           喜剧/歌舞    美国  1935-03-15 00:00:00   98  1935  7.6   美国  \n",
       "38735  剧情/悬疑/犯罪/武侠/古装  中国大陆  1905-06-08 00:00:00   91  1986  7.1   美国  \n",
       "38736        惊悚/恐怖/儿童  中国大陆  1905-06-08 00:00:00   78  1986  8.0   美国  \n",
       "38737           剧情/战争    苏联  1905-05-30 00:00:00   97  1977  6.6   美国  \n",
       "38738           剧情/科幻    美国  2018-05-04 00:00:00  142  2018  NaN   美国  "
      ]
     },
     "execution_count": 64,
     "metadata": {},
     "output_type": "execute_result"
    }
   ],
   "source": [
    "import pandas as pd\n",
    "import numpy as np\n",
    "df = pd.read_excel(\"../file/豆瓣电影数据.xlsx\", index_col = 0)\n",
    "dit = {\"名字\":\"复仇者联盟3\",\"投票人数\":123456,\"类型\":\"剧情/科幻\",\"产地\":\"美国\",\"上映时间\":\"2018-05-04 00:00:00\",\"时长\":142,\"年代\":2018,\"评分\":np.nan,\"首映地点\":\"美国\"}\n",
    "s = pd.Series(dit)\n",
    "s.name = 38738\n",
    "print(s)\n",
    "df = df.append(s) #覆盖掉原来的数据重新进行赋值\n",
    "df[-5:]"
   ]
  },
  {
   "cell_type": "code",
   "execution_count": 12,
   "metadata": {},
   "outputs": [
    {
     "data": {
      "text/html": [
       "<div>\n",
       "<style scoped>\n",
       "    .dataframe tbody tr th:only-of-type {\n",
       "        vertical-align: middle;\n",
       "    }\n",
       "\n",
       "    .dataframe tbody tr th {\n",
       "        vertical-align: top;\n",
       "    }\n",
       "\n",
       "    .dataframe thead th {\n",
       "        text-align: right;\n",
       "    }\n",
       "</style>\n",
       "<table border=\"1\" class=\"dataframe\">\n",
       "  <thead>\n",
       "    <tr style=\"text-align: right;\">\n",
       "      <th></th>\n",
       "      <th>名字</th>\n",
       "      <th>投票人数</th>\n",
       "      <th>类型</th>\n",
       "      <th>产地</th>\n",
       "      <th>上映时间</th>\n",
       "      <th>时长</th>\n",
       "      <th>年代</th>\n",
       "      <th>评分</th>\n",
       "      <th>首映地点</th>\n",
       "    </tr>\n",
       "  </thead>\n",
       "  <tbody>\n",
       "    <tr>\n",
       "      <th>38733</th>\n",
       "      <td>神学院 S</td>\n",
       "      <td>46.0</td>\n",
       "      <td>Adult</td>\n",
       "      <td>法国</td>\n",
       "      <td>1905-06-05 00:00:00</td>\n",
       "      <td>58</td>\n",
       "      <td>1983</td>\n",
       "      <td>8.6</td>\n",
       "      <td>美国</td>\n",
       "    </tr>\n",
       "    <tr>\n",
       "      <th>38734</th>\n",
       "      <td>1935年</td>\n",
       "      <td>57.0</td>\n",
       "      <td>喜剧/歌舞</td>\n",
       "      <td>美国</td>\n",
       "      <td>1935-03-15 00:00:00</td>\n",
       "      <td>98</td>\n",
       "      <td>1935</td>\n",
       "      <td>7.6</td>\n",
       "      <td>美国</td>\n",
       "    </tr>\n",
       "    <tr>\n",
       "      <th>38735</th>\n",
       "      <td>血溅画屏</td>\n",
       "      <td>95.0</td>\n",
       "      <td>剧情/悬疑/犯罪/武侠/古装</td>\n",
       "      <td>中国大陆</td>\n",
       "      <td>1905-06-08 00:00:00</td>\n",
       "      <td>91</td>\n",
       "      <td>1986</td>\n",
       "      <td>7.1</td>\n",
       "      <td>美国</td>\n",
       "    </tr>\n",
       "    <tr>\n",
       "      <th>38736</th>\n",
       "      <td>魔窟中的幻想</td>\n",
       "      <td>51.0</td>\n",
       "      <td>惊悚/恐怖/儿童</td>\n",
       "      <td>中国大陆</td>\n",
       "      <td>1905-06-08 00:00:00</td>\n",
       "      <td>78</td>\n",
       "      <td>1986</td>\n",
       "      <td>8.0</td>\n",
       "      <td>美国</td>\n",
       "    </tr>\n",
       "    <tr>\n",
       "      <th>38737</th>\n",
       "      <td>列宁格勒围困之星火战役 Блокада: Фильм 2: Ленинградский ме...</td>\n",
       "      <td>32.0</td>\n",
       "      <td>剧情/战争</td>\n",
       "      <td>苏联</td>\n",
       "      <td>1905-05-30 00:00:00</td>\n",
       "      <td>97</td>\n",
       "      <td>1977</td>\n",
       "      <td>6.6</td>\n",
       "      <td>美国</td>\n",
       "    </tr>\n",
       "  </tbody>\n",
       "</table>\n",
       "</div>"
      ],
      "text/plain": [
       "                                                      名字  投票人数  \\\n",
       "38733                                              神学院 S  46.0   \n",
       "38734                                              1935年  57.0   \n",
       "38735                                               血溅画屏  95.0   \n",
       "38736                                             魔窟中的幻想  51.0   \n",
       "38737  列宁格勒围困之星火战役 Блокада: Фильм 2: Ленинградский ме...  32.0   \n",
       "\n",
       "                   类型    产地                 上映时间  时长    年代   评分 首映地点  \n",
       "38733           Adult    法国  1905-06-05 00:00:00  58  1983  8.6   美国  \n",
       "38734           喜剧/歌舞    美国  1935-03-15 00:00:00  98  1935  7.6   美国  \n",
       "38735  剧情/悬疑/犯罪/武侠/古装  中国大陆  1905-06-08 00:00:00  91  1986  7.1   美国  \n",
       "38736        惊悚/恐怖/儿童  中国大陆  1905-06-08 00:00:00  78  1986  8.0   美国  \n",
       "38737           剧情/战争    苏联  1905-05-30 00:00:00  97  1977  6.6   美国  "
      ]
     },
     "execution_count": 12,
     "metadata": {},
     "output_type": "execute_result"
    }
   ],
   "source": [
    "import pandas as pd\n",
    "import numpy as np\n",
    "df = pd.read_excel(\"../file/豆瓣电影数据.xlsx\", index_col = 0)\n",
    "dit = {\"名字\":\"复仇者联盟3\",\"投票人数\":123456,\"类型\":\"剧情/科幻\",\"产地\":\"美国\",\"上映时间\":\"2018-05-04 00:00:00\",\"时长\":142,\"年代\":2018,\"评分\":np.nan,\"首映地点\":\"美国\"}\n",
    "s = pd.Series(dit)\n",
    "s.name = 38738\n",
    "df = df.append(s) #覆盖掉原来的数据重新进行赋值\n",
    "df = df.drop([38738]) #删除一行\n",
    "df[-5:]"
   ]
  },
  {
   "cell_type": "markdown",
   "metadata": {},
   "source": [
    "列操作"
   ]
  },
  {
   "cell_type": "code",
   "execution_count": 14,
   "metadata": {},
   "outputs": [
    {
     "name": "stdout",
     "output_type": "stream",
     "text": [
      "Index(['名字', '投票人数', '类型', '产地', '上映时间', '时长', '年代', '评分', '首映地点'], dtype='object')\n"
     ]
    },
    {
     "data": {
      "text/plain": [
       "0    肖申克的救赎\n",
       "1      控方证人\n",
       "2     美丽人生 \n",
       "3      阿甘正传\n",
       "4      霸王别姬\n",
       "Name: 名字, dtype: object"
      ]
     },
     "execution_count": 14,
     "metadata": {},
     "output_type": "execute_result"
    }
   ],
   "source": [
    "import pandas as pd\n",
    "import numpy as np\n",
    "df = pd.read_excel(\"../file/豆瓣电影数据.xlsx\", index_col = 0)\n",
    "print(df.columns)\n",
    "df[\"名字\"][:5] #后面中括号表示只想看到的行数，下同"
   ]
  },
  {
   "cell_type": "code",
   "execution_count": 16,
   "metadata": {},
   "outputs": [
    {
     "data": {
      "text/html": [
       "<div>\n",
       "<style scoped>\n",
       "    .dataframe tbody tr th:only-of-type {\n",
       "        vertical-align: middle;\n",
       "    }\n",
       "\n",
       "    .dataframe tbody tr th {\n",
       "        vertical-align: top;\n",
       "    }\n",
       "\n",
       "    .dataframe thead th {\n",
       "        text-align: right;\n",
       "    }\n",
       "</style>\n",
       "<table border=\"1\" class=\"dataframe\">\n",
       "  <thead>\n",
       "    <tr style=\"text-align: right;\">\n",
       "      <th></th>\n",
       "      <th>名字</th>\n",
       "      <th>类型</th>\n",
       "    </tr>\n",
       "  </thead>\n",
       "  <tbody>\n",
       "    <tr>\n",
       "      <th>0</th>\n",
       "      <td>肖申克的救赎</td>\n",
       "      <td>剧情/犯罪</td>\n",
       "    </tr>\n",
       "    <tr>\n",
       "      <th>1</th>\n",
       "      <td>控方证人</td>\n",
       "      <td>剧情/悬疑/犯罪</td>\n",
       "    </tr>\n",
       "    <tr>\n",
       "      <th>2</th>\n",
       "      <td>美丽人生</td>\n",
       "      <td>剧情/喜剧/爱情</td>\n",
       "    </tr>\n",
       "    <tr>\n",
       "      <th>3</th>\n",
       "      <td>阿甘正传</td>\n",
       "      <td>剧情/爱情</td>\n",
       "    </tr>\n",
       "    <tr>\n",
       "      <th>4</th>\n",
       "      <td>霸王别姬</td>\n",
       "      <td>剧情/爱情</td>\n",
       "    </tr>\n",
       "  </tbody>\n",
       "</table>\n",
       "</div>"
      ],
      "text/plain": [
       "       名字        类型\n",
       "0  肖申克的救赎     剧情/犯罪\n",
       "1    控方证人  剧情/悬疑/犯罪\n",
       "2   美丽人生   剧情/喜剧/爱情\n",
       "3    阿甘正传     剧情/爱情\n",
       "4    霸王别姬     剧情/爱情"
      ]
     },
     "execution_count": 16,
     "metadata": {},
     "output_type": "execute_result"
    }
   ],
   "source": [
    "import pandas as pd\n",
    "import numpy as np\n",
    "df = pd.read_excel(\"../file/豆瓣电影数据.xlsx\", index_col = 0)\n",
    "df[[\"名字\",\"类型\"]][:5]"
   ]
  },
  {
   "cell_type": "markdown",
   "metadata": {},
   "source": [
    "增加一列"
   ]
  },
  {
   "cell_type": "code",
   "execution_count": 17,
   "metadata": {},
   "outputs": [
    {
     "data": {
      "text/html": [
       "<div>\n",
       "<style scoped>\n",
       "    .dataframe tbody tr th:only-of-type {\n",
       "        vertical-align: middle;\n",
       "    }\n",
       "\n",
       "    .dataframe tbody tr th {\n",
       "        vertical-align: top;\n",
       "    }\n",
       "\n",
       "    .dataframe thead th {\n",
       "        text-align: right;\n",
       "    }\n",
       "</style>\n",
       "<table border=\"1\" class=\"dataframe\">\n",
       "  <thead>\n",
       "    <tr style=\"text-align: right;\">\n",
       "      <th></th>\n",
       "      <th>名字</th>\n",
       "      <th>投票人数</th>\n",
       "      <th>类型</th>\n",
       "      <th>产地</th>\n",
       "      <th>上映时间</th>\n",
       "      <th>时长</th>\n",
       "      <th>年代</th>\n",
       "      <th>评分</th>\n",
       "      <th>首映地点</th>\n",
       "      <th>序号</th>\n",
       "    </tr>\n",
       "  </thead>\n",
       "  <tbody>\n",
       "    <tr>\n",
       "      <th>0</th>\n",
       "      <td>肖申克的救赎</td>\n",
       "      <td>692795.0</td>\n",
       "      <td>剧情/犯罪</td>\n",
       "      <td>美国</td>\n",
       "      <td>1994-09-10 00:00:00</td>\n",
       "      <td>142</td>\n",
       "      <td>1994</td>\n",
       "      <td>9.6</td>\n",
       "      <td>多伦多电影节</td>\n",
       "      <td>1</td>\n",
       "    </tr>\n",
       "    <tr>\n",
       "      <th>1</th>\n",
       "      <td>控方证人</td>\n",
       "      <td>42995.0</td>\n",
       "      <td>剧情/悬疑/犯罪</td>\n",
       "      <td>美国</td>\n",
       "      <td>1957-12-17 00:00:00</td>\n",
       "      <td>116</td>\n",
       "      <td>1957</td>\n",
       "      <td>9.5</td>\n",
       "      <td>美国</td>\n",
       "      <td>2</td>\n",
       "    </tr>\n",
       "    <tr>\n",
       "      <th>2</th>\n",
       "      <td>美丽人生</td>\n",
       "      <td>327855.0</td>\n",
       "      <td>剧情/喜剧/爱情</td>\n",
       "      <td>意大利</td>\n",
       "      <td>1997-12-20 00:00:00</td>\n",
       "      <td>116</td>\n",
       "      <td>1997</td>\n",
       "      <td>9.5</td>\n",
       "      <td>意大利</td>\n",
       "      <td>3</td>\n",
       "    </tr>\n",
       "    <tr>\n",
       "      <th>3</th>\n",
       "      <td>阿甘正传</td>\n",
       "      <td>580897.0</td>\n",
       "      <td>剧情/爱情</td>\n",
       "      <td>美国</td>\n",
       "      <td>1994-06-23 00:00:00</td>\n",
       "      <td>142</td>\n",
       "      <td>1994</td>\n",
       "      <td>9.4</td>\n",
       "      <td>洛杉矶首映</td>\n",
       "      <td>4</td>\n",
       "    </tr>\n",
       "    <tr>\n",
       "      <th>4</th>\n",
       "      <td>霸王别姬</td>\n",
       "      <td>478523.0</td>\n",
       "      <td>剧情/爱情</td>\n",
       "      <td>中国大陆</td>\n",
       "      <td>1993-01-01 00:00:00</td>\n",
       "      <td>171</td>\n",
       "      <td>1993</td>\n",
       "      <td>9.4</td>\n",
       "      <td>香港</td>\n",
       "      <td>5</td>\n",
       "    </tr>\n",
       "  </tbody>\n",
       "</table>\n",
       "</div>"
      ],
      "text/plain": [
       "       名字      投票人数        类型    产地                 上映时间   时长    年代   评分  \\\n",
       "0  肖申克的救赎  692795.0     剧情/犯罪    美国  1994-09-10 00:00:00  142  1994  9.6   \n",
       "1    控方证人   42995.0  剧情/悬疑/犯罪    美国  1957-12-17 00:00:00  116  1957  9.5   \n",
       "2   美丽人生   327855.0  剧情/喜剧/爱情   意大利  1997-12-20 00:00:00  116  1997  9.5   \n",
       "3    阿甘正传  580897.0     剧情/爱情    美国  1994-06-23 00:00:00  142  1994  9.4   \n",
       "4    霸王别姬  478523.0     剧情/爱情  中国大陆  1993-01-01 00:00:00  171  1993  9.4   \n",
       "\n",
       "     首映地点  序号  \n",
       "0  多伦多电影节   1  \n",
       "1      美国   2  \n",
       "2     意大利   3  \n",
       "3   洛杉矶首映   4  \n",
       "4      香港   5  "
      ]
     },
     "execution_count": 17,
     "metadata": {},
     "output_type": "execute_result"
    }
   ],
   "source": [
    "import pandas as pd\n",
    "import numpy as np\n",
    "df = pd.read_excel(\"../file/豆瓣电影数据.xlsx\", index_col = 0)\n",
    "df[\"序号\"] = range(1,len(df)+1) #生成序号的基本方式\n",
    "df[:5]"
   ]
  },
  {
   "cell_type": "markdown",
   "metadata": {},
   "source": [
    "删除一列"
   ]
  },
  {
   "cell_type": "code",
   "execution_count": 18,
   "metadata": {},
   "outputs": [
    {
     "data": {
      "text/html": [
       "<div>\n",
       "<style scoped>\n",
       "    .dataframe tbody tr th:only-of-type {\n",
       "        vertical-align: middle;\n",
       "    }\n",
       "\n",
       "    .dataframe tbody tr th {\n",
       "        vertical-align: top;\n",
       "    }\n",
       "\n",
       "    .dataframe thead th {\n",
       "        text-align: right;\n",
       "    }\n",
       "</style>\n",
       "<table border=\"1\" class=\"dataframe\">\n",
       "  <thead>\n",
       "    <tr style=\"text-align: right;\">\n",
       "      <th></th>\n",
       "      <th>名字</th>\n",
       "      <th>投票人数</th>\n",
       "      <th>类型</th>\n",
       "      <th>产地</th>\n",
       "      <th>上映时间</th>\n",
       "      <th>时长</th>\n",
       "      <th>年代</th>\n",
       "      <th>评分</th>\n",
       "      <th>首映地点</th>\n",
       "    </tr>\n",
       "  </thead>\n",
       "  <tbody>\n",
       "    <tr>\n",
       "      <th>0</th>\n",
       "      <td>肖申克的救赎</td>\n",
       "      <td>692795.0</td>\n",
       "      <td>剧情/犯罪</td>\n",
       "      <td>美国</td>\n",
       "      <td>1994-09-10 00:00:00</td>\n",
       "      <td>142</td>\n",
       "      <td>1994</td>\n",
       "      <td>9.6</td>\n",
       "      <td>多伦多电影节</td>\n",
       "    </tr>\n",
       "    <tr>\n",
       "      <th>1</th>\n",
       "      <td>控方证人</td>\n",
       "      <td>42995.0</td>\n",
       "      <td>剧情/悬疑/犯罪</td>\n",
       "      <td>美国</td>\n",
       "      <td>1957-12-17 00:00:00</td>\n",
       "      <td>116</td>\n",
       "      <td>1957</td>\n",
       "      <td>9.5</td>\n",
       "      <td>美国</td>\n",
       "    </tr>\n",
       "    <tr>\n",
       "      <th>2</th>\n",
       "      <td>美丽人生</td>\n",
       "      <td>327855.0</td>\n",
       "      <td>剧情/喜剧/爱情</td>\n",
       "      <td>意大利</td>\n",
       "      <td>1997-12-20 00:00:00</td>\n",
       "      <td>116</td>\n",
       "      <td>1997</td>\n",
       "      <td>9.5</td>\n",
       "      <td>意大利</td>\n",
       "    </tr>\n",
       "    <tr>\n",
       "      <th>3</th>\n",
       "      <td>阿甘正传</td>\n",
       "      <td>580897.0</td>\n",
       "      <td>剧情/爱情</td>\n",
       "      <td>美国</td>\n",
       "      <td>1994-06-23 00:00:00</td>\n",
       "      <td>142</td>\n",
       "      <td>1994</td>\n",
       "      <td>9.4</td>\n",
       "      <td>洛杉矶首映</td>\n",
       "    </tr>\n",
       "    <tr>\n",
       "      <th>4</th>\n",
       "      <td>霸王别姬</td>\n",
       "      <td>478523.0</td>\n",
       "      <td>剧情/爱情</td>\n",
       "      <td>中国大陆</td>\n",
       "      <td>1993-01-01 00:00:00</td>\n",
       "      <td>171</td>\n",
       "      <td>1993</td>\n",
       "      <td>9.4</td>\n",
       "      <td>香港</td>\n",
       "    </tr>\n",
       "  </tbody>\n",
       "</table>\n",
       "</div>"
      ],
      "text/plain": [
       "       名字      投票人数        类型    产地                 上映时间   时长    年代   评分  \\\n",
       "0  肖申克的救赎  692795.0     剧情/犯罪    美国  1994-09-10 00:00:00  142  1994  9.6   \n",
       "1    控方证人   42995.0  剧情/悬疑/犯罪    美国  1957-12-17 00:00:00  116  1957  9.5   \n",
       "2   美丽人生   327855.0  剧情/喜剧/爱情   意大利  1997-12-20 00:00:00  116  1997  9.5   \n",
       "3    阿甘正传  580897.0     剧情/爱情    美国  1994-06-23 00:00:00  142  1994  9.4   \n",
       "4    霸王别姬  478523.0     剧情/爱情  中国大陆  1993-01-01 00:00:00  171  1993  9.4   \n",
       "\n",
       "     首映地点  \n",
       "0  多伦多电影节  \n",
       "1      美国  \n",
       "2     意大利  \n",
       "3   洛杉矶首映  \n",
       "4      香港  "
      ]
     },
     "execution_count": 18,
     "metadata": {},
     "output_type": "execute_result"
    }
   ],
   "source": [
    "import pandas as pd\n",
    "import numpy as np\n",
    "df = pd.read_excel(\"../file/豆瓣电影数据.xlsx\", index_col = 0)\n",
    "df[\"序号\"] = range(1,len(df)+1) #生成序号的基本方式\n",
    "df = df.drop(\"序号\",axis = 1) #axis指定方向，0为行1为列，默认为0\n",
    "df[:5]"
   ]
  },
  {
   "cell_type": "markdown",
   "metadata": {},
   "source": [
    "通过标签选择数据\n",
    "```python\n",
    "df.loc[[index],[colunm]]\n",
    "```"
   ]
  },
  {
   "cell_type": "code",
   "execution_count": 21,
   "metadata": {},
   "outputs": [
    {
     "name": "stdout",
     "output_type": "stream",
     "text": [
      "控方证人\n"
     ]
    }
   ],
   "source": [
    "import pandas as pd\n",
    "import numpy as np\n",
    "df = pd.read_excel(\"../file/豆瓣电影数据.xlsx\", index_col = 0)\n",
    "print(df.loc[1,\"名字\"])"
   ]
  },
  {
   "cell_type": "code",
   "execution_count": 22,
   "metadata": {},
   "outputs": [
    {
     "data": {
      "text/html": [
       "<div>\n",
       "<style scoped>\n",
       "    .dataframe tbody tr th:only-of-type {\n",
       "        vertical-align: middle;\n",
       "    }\n",
       "\n",
       "    .dataframe tbody tr th {\n",
       "        vertical-align: top;\n",
       "    }\n",
       "\n",
       "    .dataframe thead th {\n",
       "        text-align: right;\n",
       "    }\n",
       "</style>\n",
       "<table border=\"1\" class=\"dataframe\">\n",
       "  <thead>\n",
       "    <tr style=\"text-align: right;\">\n",
       "      <th></th>\n",
       "      <th>名字</th>\n",
       "      <th>评分</th>\n",
       "    </tr>\n",
       "  </thead>\n",
       "  <tbody>\n",
       "    <tr>\n",
       "      <th>1</th>\n",
       "      <td>控方证人</td>\n",
       "      <td>9.5</td>\n",
       "    </tr>\n",
       "    <tr>\n",
       "      <th>3</th>\n",
       "      <td>阿甘正传</td>\n",
       "      <td>9.4</td>\n",
       "    </tr>\n",
       "    <tr>\n",
       "      <th>5</th>\n",
       "      <td>泰坦尼克号</td>\n",
       "      <td>9.4</td>\n",
       "    </tr>\n",
       "    <tr>\n",
       "      <th>7</th>\n",
       "      <td>新世纪福音战士剧场版：Air/真心为你 新世紀エヴァンゲリオン劇場版 Ai</td>\n",
       "      <td>9.4</td>\n",
       "    </tr>\n",
       "    <tr>\n",
       "      <th>9</th>\n",
       "      <td>这个杀手不太冷</td>\n",
       "      <td>9.4</td>\n",
       "    </tr>\n",
       "  </tbody>\n",
       "</table>\n",
       "</div>"
      ],
      "text/plain": [
       "                                      名字   评分\n",
       "1                                   控方证人  9.5\n",
       "3                                   阿甘正传  9.4\n",
       "5                                 泰坦尼克号   9.4\n",
       "7  新世纪福音战士剧场版：Air/真心为你 新世紀エヴァンゲリオン劇場版 Ai  9.4\n",
       "9                               这个杀手不太冷   9.4"
      ]
     },
     "execution_count": 22,
     "metadata": {},
     "output_type": "execute_result"
    }
   ],
   "source": [
    "import pandas as pd\n",
    "import numpy as np\n",
    "df = pd.read_excel(\"../file/豆瓣电影数据.xlsx\", index_col = 0)\n",
    "df.loc[[1,3,5,7,9],[\"名字\",\"评分\"]] #多行跳行多列跳列选择"
   ]
  },
  {
   "cell_type": "markdown",
   "metadata": {},
   "source": [
    "条件选择\n",
    "\n",
    "选取产地为美国的所有电影"
   ]
  },
  {
   "cell_type": "code",
   "execution_count": 25,
   "metadata": {},
   "outputs": [
    {
     "data": {
      "text/html": [
       "<div>\n",
       "<style scoped>\n",
       "    .dataframe tbody tr th:only-of-type {\n",
       "        vertical-align: middle;\n",
       "    }\n",
       "\n",
       "    .dataframe tbody tr th {\n",
       "        vertical-align: top;\n",
       "    }\n",
       "\n",
       "    .dataframe thead th {\n",
       "        text-align: right;\n",
       "    }\n",
       "</style>\n",
       "<table border=\"1\" class=\"dataframe\">\n",
       "  <thead>\n",
       "    <tr style=\"text-align: right;\">\n",
       "      <th></th>\n",
       "      <th>名字</th>\n",
       "      <th>投票人数</th>\n",
       "      <th>类型</th>\n",
       "      <th>产地</th>\n",
       "      <th>上映时间</th>\n",
       "      <th>时长</th>\n",
       "      <th>年代</th>\n",
       "      <th>评分</th>\n",
       "      <th>首映地点</th>\n",
       "    </tr>\n",
       "  </thead>\n",
       "  <tbody>\n",
       "    <tr>\n",
       "      <th>0</th>\n",
       "      <td>肖申克的救赎</td>\n",
       "      <td>692795.0</td>\n",
       "      <td>剧情/犯罪</td>\n",
       "      <td>美国</td>\n",
       "      <td>1994-09-10 00:00:00</td>\n",
       "      <td>142</td>\n",
       "      <td>1994</td>\n",
       "      <td>9.6</td>\n",
       "      <td>多伦多电影节</td>\n",
       "    </tr>\n",
       "    <tr>\n",
       "      <th>1</th>\n",
       "      <td>控方证人</td>\n",
       "      <td>42995.0</td>\n",
       "      <td>剧情/悬疑/犯罪</td>\n",
       "      <td>美国</td>\n",
       "      <td>1957-12-17 00:00:00</td>\n",
       "      <td>116</td>\n",
       "      <td>1957</td>\n",
       "      <td>9.5</td>\n",
       "      <td>美国</td>\n",
       "    </tr>\n",
       "    <tr>\n",
       "      <th>3</th>\n",
       "      <td>阿甘正传</td>\n",
       "      <td>580897.0</td>\n",
       "      <td>剧情/爱情</td>\n",
       "      <td>美国</td>\n",
       "      <td>1994-06-23 00:00:00</td>\n",
       "      <td>142</td>\n",
       "      <td>1994</td>\n",
       "      <td>9.4</td>\n",
       "      <td>洛杉矶首映</td>\n",
       "    </tr>\n",
       "    <tr>\n",
       "      <th>5</th>\n",
       "      <td>泰坦尼克号</td>\n",
       "      <td>157074.0</td>\n",
       "      <td>剧情/爱情/灾难</td>\n",
       "      <td>美国</td>\n",
       "      <td>2012-04-10 00:00:00</td>\n",
       "      <td>194</td>\n",
       "      <td>2012</td>\n",
       "      <td>9.4</td>\n",
       "      <td>中国大陆</td>\n",
       "    </tr>\n",
       "    <tr>\n",
       "      <th>6</th>\n",
       "      <td>辛德勒的名单</td>\n",
       "      <td>306904.0</td>\n",
       "      <td>剧情/历史/战争</td>\n",
       "      <td>美国</td>\n",
       "      <td>1993-11-30 00:00:00</td>\n",
       "      <td>195</td>\n",
       "      <td>1993</td>\n",
       "      <td>9.4</td>\n",
       "      <td>华盛顿首映</td>\n",
       "    </tr>\n",
       "  </tbody>\n",
       "</table>\n",
       "</div>"
      ],
      "text/plain": [
       "       名字      投票人数        类型  产地                 上映时间   时长    年代   评分    首映地点\n",
       "0  肖申克的救赎  692795.0     剧情/犯罪  美国  1994-09-10 00:00:00  142  1994  9.6  多伦多电影节\n",
       "1    控方证人   42995.0  剧情/悬疑/犯罪  美国  1957-12-17 00:00:00  116  1957  9.5      美国\n",
       "3    阿甘正传  580897.0     剧情/爱情  美国  1994-06-23 00:00:00  142  1994  9.4   洛杉矶首映\n",
       "5  泰坦尼克号   157074.0  剧情/爱情/灾难  美国  2012-04-10 00:00:00  194  2012  9.4    中国大陆\n",
       "6  辛德勒的名单  306904.0  剧情/历史/战争  美国  1993-11-30 00:00:00  195  1993  9.4   华盛顿首映"
      ]
     },
     "execution_count": 25,
     "metadata": {},
     "output_type": "execute_result"
    }
   ],
   "source": [
    "import pandas as pd\n",
    "import numpy as np\n",
    "df = pd.read_excel(\"../file/豆瓣电影数据.xlsx\", index_col = 0)\n",
    "#print(df[\"产地\"] == \"美国\")\n",
    "df[df[\"产地\"] == \"美国\"][:5]"
   ]
  },
  {
   "cell_type": "markdown",
   "metadata": {},
   "source": [
    "选取产地为美国的所有电影，并且评分大于9分的电影。"
   ]
  },
  {
   "cell_type": "code",
   "execution_count": 77,
   "metadata": {},
   "outputs": [
    {
     "data": {
      "text/html": [
       "<div>\n",
       "<style scoped>\n",
       "    .dataframe tbody tr th:only-of-type {\n",
       "        vertical-align: middle;\n",
       "    }\n",
       "\n",
       "    .dataframe tbody tr th {\n",
       "        vertical-align: top;\n",
       "    }\n",
       "\n",
       "    .dataframe thead th {\n",
       "        text-align: right;\n",
       "    }\n",
       "</style>\n",
       "<table border=\"1\" class=\"dataframe\">\n",
       "  <thead>\n",
       "    <tr style=\"text-align: right;\">\n",
       "      <th></th>\n",
       "      <th>名字</th>\n",
       "      <th>投票人数</th>\n",
       "      <th>类型</th>\n",
       "      <th>产地</th>\n",
       "      <th>上映时间</th>\n",
       "      <th>时长</th>\n",
       "      <th>年代</th>\n",
       "      <th>评分</th>\n",
       "      <th>首映地点</th>\n",
       "    </tr>\n",
       "  </thead>\n",
       "  <tbody>\n",
       "    <tr>\n",
       "      <th>0</th>\n",
       "      <td>肖申克的救赎</td>\n",
       "      <td>692795.0</td>\n",
       "      <td>剧情/犯罪</td>\n",
       "      <td>美国</td>\n",
       "      <td>1994-09-10 00:00:00</td>\n",
       "      <td>142</td>\n",
       "      <td>1994</td>\n",
       "      <td>9.6</td>\n",
       "      <td>多伦多电影节</td>\n",
       "    </tr>\n",
       "    <tr>\n",
       "      <th>1</th>\n",
       "      <td>控方证人</td>\n",
       "      <td>42995.0</td>\n",
       "      <td>剧情/悬疑/犯罪</td>\n",
       "      <td>美国</td>\n",
       "      <td>1957-12-17 00:00:00</td>\n",
       "      <td>116</td>\n",
       "      <td>1957</td>\n",
       "      <td>9.5</td>\n",
       "      <td>美国</td>\n",
       "    </tr>\n",
       "    <tr>\n",
       "      <th>3</th>\n",
       "      <td>阿甘正传</td>\n",
       "      <td>580897.0</td>\n",
       "      <td>剧情/爱情</td>\n",
       "      <td>美国</td>\n",
       "      <td>1994-06-23 00:00:00</td>\n",
       "      <td>142</td>\n",
       "      <td>1994</td>\n",
       "      <td>9.4</td>\n",
       "      <td>洛杉矶首映</td>\n",
       "    </tr>\n",
       "    <tr>\n",
       "      <th>5</th>\n",
       "      <td>泰坦尼克号</td>\n",
       "      <td>157074.0</td>\n",
       "      <td>剧情/爱情/灾难</td>\n",
       "      <td>美国</td>\n",
       "      <td>2012-04-10 00:00:00</td>\n",
       "      <td>194</td>\n",
       "      <td>2012</td>\n",
       "      <td>9.4</td>\n",
       "      <td>中国大陆</td>\n",
       "    </tr>\n",
       "    <tr>\n",
       "      <th>6</th>\n",
       "      <td>辛德勒的名单</td>\n",
       "      <td>306904.0</td>\n",
       "      <td>剧情/历史/战争</td>\n",
       "      <td>美国</td>\n",
       "      <td>1993-11-30 00:00:00</td>\n",
       "      <td>195</td>\n",
       "      <td>1993</td>\n",
       "      <td>9.4</td>\n",
       "      <td>华盛顿首映</td>\n",
       "    </tr>\n",
       "  </tbody>\n",
       "</table>\n",
       "</div>"
      ],
      "text/plain": [
       "       名字      投票人数        类型  产地                 上映时间   时长    年代   评分    首映地点\n",
       "0  肖申克的救赎  692795.0     剧情/犯罪  美国  1994-09-10 00:00:00  142  1994  9.6  多伦多电影节\n",
       "1    控方证人   42995.0  剧情/悬疑/犯罪  美国  1957-12-17 00:00:00  116  1957  9.5      美国\n",
       "3    阿甘正传  580897.0     剧情/爱情  美国  1994-06-23 00:00:00  142  1994  9.4   洛杉矶首映\n",
       "5  泰坦尼克号   157074.0  剧情/爱情/灾难  美国  2012-04-10 00:00:00  194  2012  9.4    中国大陆\n",
       "6  辛德勒的名单  306904.0  剧情/历史/战争  美国  1993-11-30 00:00:00  195  1993  9.4   华盛顿首映"
      ]
     },
     "execution_count": 77,
     "metadata": {},
     "output_type": "execute_result"
    }
   ],
   "source": [
    "import pandas as pd\n",
    "import numpy as np\n",
    "df = pd.read_excel(\"../file/豆瓣电影数据.xlsx\", index_col = 0)\n",
    "df[(df.产地 == \"美国\") & (df.评分 > 9)][:5] #df.标签:更简洁的写法"
   ]
  },
  {
   "cell_type": "markdown",
   "metadata": {},
   "source": [
    "选取产地为美国或中国大陆的所有电影，并且评分大于9分。"
   ]
  },
  {
   "cell_type": "code",
   "execution_count": 26,
   "metadata": {},
   "outputs": [
    {
     "data": {
      "text/html": [
       "<div>\n",
       "<style scoped>\n",
       "    .dataframe tbody tr th:only-of-type {\n",
       "        vertical-align: middle;\n",
       "    }\n",
       "\n",
       "    .dataframe tbody tr th {\n",
       "        vertical-align: top;\n",
       "    }\n",
       "\n",
       "    .dataframe thead th {\n",
       "        text-align: right;\n",
       "    }\n",
       "</style>\n",
       "<table border=\"1\" class=\"dataframe\">\n",
       "  <thead>\n",
       "    <tr style=\"text-align: right;\">\n",
       "      <th></th>\n",
       "      <th>名字</th>\n",
       "      <th>投票人数</th>\n",
       "      <th>类型</th>\n",
       "      <th>产地</th>\n",
       "      <th>上映时间</th>\n",
       "      <th>时长</th>\n",
       "      <th>年代</th>\n",
       "      <th>评分</th>\n",
       "      <th>首映地点</th>\n",
       "    </tr>\n",
       "  </thead>\n",
       "  <tbody>\n",
       "    <tr>\n",
       "      <th>0</th>\n",
       "      <td>肖申克的救赎</td>\n",
       "      <td>692795.0</td>\n",
       "      <td>剧情/犯罪</td>\n",
       "      <td>美国</td>\n",
       "      <td>1994-09-10 00:00:00</td>\n",
       "      <td>142</td>\n",
       "      <td>1994</td>\n",
       "      <td>9.6</td>\n",
       "      <td>多伦多电影节</td>\n",
       "    </tr>\n",
       "    <tr>\n",
       "      <th>1</th>\n",
       "      <td>控方证人</td>\n",
       "      <td>42995.0</td>\n",
       "      <td>剧情/悬疑/犯罪</td>\n",
       "      <td>美国</td>\n",
       "      <td>1957-12-17 00:00:00</td>\n",
       "      <td>116</td>\n",
       "      <td>1957</td>\n",
       "      <td>9.5</td>\n",
       "      <td>美国</td>\n",
       "    </tr>\n",
       "    <tr>\n",
       "      <th>3</th>\n",
       "      <td>阿甘正传</td>\n",
       "      <td>580897.0</td>\n",
       "      <td>剧情/爱情</td>\n",
       "      <td>美国</td>\n",
       "      <td>1994-06-23 00:00:00</td>\n",
       "      <td>142</td>\n",
       "      <td>1994</td>\n",
       "      <td>9.4</td>\n",
       "      <td>洛杉矶首映</td>\n",
       "    </tr>\n",
       "    <tr>\n",
       "      <th>4</th>\n",
       "      <td>霸王别姬</td>\n",
       "      <td>478523.0</td>\n",
       "      <td>剧情/爱情</td>\n",
       "      <td>中国大陆</td>\n",
       "      <td>1993-01-01 00:00:00</td>\n",
       "      <td>171</td>\n",
       "      <td>1993</td>\n",
       "      <td>9.4</td>\n",
       "      <td>香港</td>\n",
       "    </tr>\n",
       "    <tr>\n",
       "      <th>5</th>\n",
       "      <td>泰坦尼克号</td>\n",
       "      <td>157074.0</td>\n",
       "      <td>剧情/爱情/灾难</td>\n",
       "      <td>美国</td>\n",
       "      <td>2012-04-10 00:00:00</td>\n",
       "      <td>194</td>\n",
       "      <td>2012</td>\n",
       "      <td>9.4</td>\n",
       "      <td>中国大陆</td>\n",
       "    </tr>\n",
       "  </tbody>\n",
       "</table>\n",
       "</div>"
      ],
      "text/plain": [
       "       名字      投票人数        类型    产地                 上映时间   时长    年代   评分  \\\n",
       "0  肖申克的救赎  692795.0     剧情/犯罪    美国  1994-09-10 00:00:00  142  1994  9.6   \n",
       "1    控方证人   42995.0  剧情/悬疑/犯罪    美国  1957-12-17 00:00:00  116  1957  9.5   \n",
       "3    阿甘正传  580897.0     剧情/爱情    美国  1994-06-23 00:00:00  142  1994  9.4   \n",
       "4    霸王别姬  478523.0     剧情/爱情  中国大陆  1993-01-01 00:00:00  171  1993  9.4   \n",
       "5  泰坦尼克号   157074.0  剧情/爱情/灾难    美国  2012-04-10 00:00:00  194  2012  9.4   \n",
       "\n",
       "     首映地点  \n",
       "0  多伦多电影节  \n",
       "1      美国  \n",
       "3   洛杉矶首映  \n",
       "4      香港  \n",
       "5    中国大陆  "
      ]
     },
     "execution_count": 26,
     "metadata": {},
     "output_type": "execute_result"
    }
   ],
   "source": [
    "import pandas as pd\n",
    "import numpy as np\n",
    "df = pd.read_excel(\"../file/豆瓣电影数据.xlsx\", index_col = 0)\n",
    "df[((df.产地 == \"美国\") | (df.产地 == \"中国大陆\")) & (df.评分 > 9)][:5]"
   ]
  },
  {
   "cell_type": "markdown",
   "metadata": {},
   "source": [
    "### 9.2.4 缺失值及异常值处理\n",
    "\n",
    "* 缺失值处理方法\n",
    "\n",
    "|方法|说明|\n",
    "|:-:|:-:|\n",
    "|`dropna`|根据标签中的缺失值进行过滤，删除缺失值|\n",
    "|`fillna`|对缺失值进行填充|\n",
    "|`isnull`|返回一个布尔值对象，判断哪些值是缺失值|\n",
    "|`notnull`|`isnull`的否定式|"
   ]
  },
  {
   "cell_type": "markdown",
   "metadata": {},
   "source": [
    "判断缺失值"
   ]
  },
  {
   "cell_type": "code",
   "execution_count": 27,
   "metadata": {},
   "outputs": [
    {
     "data": {
      "text/html": [
       "<div>\n",
       "<style scoped>\n",
       "    .dataframe tbody tr th:only-of-type {\n",
       "        vertical-align: middle;\n",
       "    }\n",
       "\n",
       "    .dataframe tbody tr th {\n",
       "        vertical-align: top;\n",
       "    }\n",
       "\n",
       "    .dataframe thead th {\n",
       "        text-align: right;\n",
       "    }\n",
       "</style>\n",
       "<table border=\"1\" class=\"dataframe\">\n",
       "  <thead>\n",
       "    <tr style=\"text-align: right;\">\n",
       "      <th></th>\n",
       "      <th>名字</th>\n",
       "      <th>投票人数</th>\n",
       "      <th>类型</th>\n",
       "      <th>产地</th>\n",
       "      <th>上映时间</th>\n",
       "      <th>时长</th>\n",
       "      <th>年代</th>\n",
       "      <th>评分</th>\n",
       "      <th>首映地点</th>\n",
       "    </tr>\n",
       "  </thead>\n",
       "  <tbody>\n",
       "    <tr>\n",
       "      <th>231</th>\n",
       "      <td>NaN</td>\n",
       "      <td>144.0</td>\n",
       "      <td>纪录片/音乐</td>\n",
       "      <td>韩国</td>\n",
       "      <td>2011-02-02 00:00:00</td>\n",
       "      <td>90</td>\n",
       "      <td>2011</td>\n",
       "      <td>9.7</td>\n",
       "      <td>美国</td>\n",
       "    </tr>\n",
       "    <tr>\n",
       "      <th>361</th>\n",
       "      <td>NaN</td>\n",
       "      <td>80.0</td>\n",
       "      <td>短片</td>\n",
       "      <td>其他</td>\n",
       "      <td>1905-05-17 00:00:00</td>\n",
       "      <td>4</td>\n",
       "      <td>1964</td>\n",
       "      <td>5.7</td>\n",
       "      <td>美国</td>\n",
       "    </tr>\n",
       "    <tr>\n",
       "      <th>369</th>\n",
       "      <td>NaN</td>\n",
       "      <td>5315.0</td>\n",
       "      <td>剧情</td>\n",
       "      <td>日本</td>\n",
       "      <td>2004-07-10 00:00:00</td>\n",
       "      <td>111</td>\n",
       "      <td>2004</td>\n",
       "      <td>7.5</td>\n",
       "      <td>日本</td>\n",
       "    </tr>\n",
       "    <tr>\n",
       "      <th>372</th>\n",
       "      <td>NaN</td>\n",
       "      <td>263.0</td>\n",
       "      <td>短片/音乐</td>\n",
       "      <td>英国</td>\n",
       "      <td>1998-06-30 00:00:00</td>\n",
       "      <td>34</td>\n",
       "      <td>1998</td>\n",
       "      <td>9.2</td>\n",
       "      <td>美国</td>\n",
       "    </tr>\n",
       "    <tr>\n",
       "      <th>374</th>\n",
       "      <td>NaN</td>\n",
       "      <td>47.0</td>\n",
       "      <td>短片</td>\n",
       "      <td>其他</td>\n",
       "      <td>1905-05-17 00:00:00</td>\n",
       "      <td>3</td>\n",
       "      <td>1964</td>\n",
       "      <td>6.7</td>\n",
       "      <td>美国</td>\n",
       "    </tr>\n",
       "    <tr>\n",
       "      <th>375</th>\n",
       "      <td>NaN</td>\n",
       "      <td>1193.0</td>\n",
       "      <td>短片/音乐</td>\n",
       "      <td>法国</td>\n",
       "      <td>1905-07-01 00:00:00</td>\n",
       "      <td>10</td>\n",
       "      <td>2010</td>\n",
       "      <td>7.7</td>\n",
       "      <td>美国</td>\n",
       "    </tr>\n",
       "    <tr>\n",
       "      <th>411</th>\n",
       "      <td>NaN</td>\n",
       "      <td>32.0</td>\n",
       "      <td>短片</td>\n",
       "      <td>其他</td>\n",
       "      <td>1905-05-17 00:00:00</td>\n",
       "      <td>3</td>\n",
       "      <td>1964</td>\n",
       "      <td>7.0</td>\n",
       "      <td>美国</td>\n",
       "    </tr>\n",
       "    <tr>\n",
       "      <th>432</th>\n",
       "      <td>NaN</td>\n",
       "      <td>1081.0</td>\n",
       "      <td>剧情/动作/惊悚/犯罪</td>\n",
       "      <td>美国</td>\n",
       "      <td>2016-02-26 00:00:00</td>\n",
       "      <td>115</td>\n",
       "      <td>2016</td>\n",
       "      <td>6.0</td>\n",
       "      <td>美国</td>\n",
       "    </tr>\n",
       "    <tr>\n",
       "      <th>441</th>\n",
       "      <td>NaN</td>\n",
       "      <td>213.0</td>\n",
       "      <td>恐怖</td>\n",
       "      <td>美国</td>\n",
       "      <td>2007-03-06 00:00:00</td>\n",
       "      <td>83</td>\n",
       "      <td>2007</td>\n",
       "      <td>3.2</td>\n",
       "      <td>美国</td>\n",
       "    </tr>\n",
       "    <tr>\n",
       "      <th>448</th>\n",
       "      <td>NaN</td>\n",
       "      <td>110.0</td>\n",
       "      <td>纪录片</td>\n",
       "      <td>荷兰</td>\n",
       "      <td>2002-04-19 00:00:00</td>\n",
       "      <td>48</td>\n",
       "      <td>2000</td>\n",
       "      <td>9.3</td>\n",
       "      <td>美国</td>\n",
       "    </tr>\n",
       "  </tbody>\n",
       "</table>\n",
       "</div>"
      ],
      "text/plain": [
       "      名字    投票人数           类型  产地                 上映时间   时长    年代   评分 首映地点\n",
       "231  NaN   144.0       纪录片/音乐  韩国  2011-02-02 00:00:00   90  2011  9.7   美国\n",
       "361  NaN    80.0           短片  其他  1905-05-17 00:00:00    4  1964  5.7   美国\n",
       "369  NaN  5315.0           剧情  日本  2004-07-10 00:00:00  111  2004  7.5   日本\n",
       "372  NaN   263.0        短片/音乐  英国  1998-06-30 00:00:00   34  1998  9.2   美国\n",
       "374  NaN    47.0           短片  其他  1905-05-17 00:00:00    3  1964  6.7   美国\n",
       "375  NaN  1193.0        短片/音乐  法国  1905-07-01 00:00:00   10  2010  7.7   美国\n",
       "411  NaN    32.0           短片  其他  1905-05-17 00:00:00    3  1964  7.0   美国\n",
       "432  NaN  1081.0  剧情/动作/惊悚/犯罪  美国  2016-02-26 00:00:00  115  2016  6.0   美国\n",
       "441  NaN   213.0           恐怖  美国  2007-03-06 00:00:00   83  2007  3.2   美国\n",
       "448  NaN   110.0          纪录片  荷兰  2002-04-19 00:00:00   48  2000  9.3   美国"
      ]
     },
     "execution_count": 27,
     "metadata": {},
     "output_type": "execute_result"
    }
   ],
   "source": [
    "import pandas as pd\n",
    "import numpy as np\n",
    "df = pd.read_excel(\"../file/豆瓣电影数据.xlsx\", index_col = 0)\n",
    "df[df[\"名字\"].isnull()][:10]"
   ]
  },
  {
   "cell_type": "code",
   "execution_count": 28,
   "metadata": {},
   "outputs": [
    {
     "data": {
      "text/html": [
       "<div>\n",
       "<style scoped>\n",
       "    .dataframe tbody tr th:only-of-type {\n",
       "        vertical-align: middle;\n",
       "    }\n",
       "\n",
       "    .dataframe tbody tr th {\n",
       "        vertical-align: top;\n",
       "    }\n",
       "\n",
       "    .dataframe thead th {\n",
       "        text-align: right;\n",
       "    }\n",
       "</style>\n",
       "<table border=\"1\" class=\"dataframe\">\n",
       "  <thead>\n",
       "    <tr style=\"text-align: right;\">\n",
       "      <th></th>\n",
       "      <th>名字</th>\n",
       "      <th>投票人数</th>\n",
       "      <th>类型</th>\n",
       "      <th>产地</th>\n",
       "      <th>上映时间</th>\n",
       "      <th>时长</th>\n",
       "      <th>年代</th>\n",
       "      <th>评分</th>\n",
       "      <th>首映地点</th>\n",
       "    </tr>\n",
       "  </thead>\n",
       "  <tbody>\n",
       "    <tr>\n",
       "      <th>0</th>\n",
       "      <td>肖申克的救赎</td>\n",
       "      <td>692795.0</td>\n",
       "      <td>剧情/犯罪</td>\n",
       "      <td>美国</td>\n",
       "      <td>1994-09-10 00:00:00</td>\n",
       "      <td>142</td>\n",
       "      <td>1994</td>\n",
       "      <td>9.6</td>\n",
       "      <td>多伦多电影节</td>\n",
       "    </tr>\n",
       "    <tr>\n",
       "      <th>1</th>\n",
       "      <td>控方证人</td>\n",
       "      <td>42995.0</td>\n",
       "      <td>剧情/悬疑/犯罪</td>\n",
       "      <td>美国</td>\n",
       "      <td>1957-12-17 00:00:00</td>\n",
       "      <td>116</td>\n",
       "      <td>1957</td>\n",
       "      <td>9.5</td>\n",
       "      <td>美国</td>\n",
       "    </tr>\n",
       "    <tr>\n",
       "      <th>2</th>\n",
       "      <td>美丽人生</td>\n",
       "      <td>327855.0</td>\n",
       "      <td>剧情/喜剧/爱情</td>\n",
       "      <td>意大利</td>\n",
       "      <td>1997-12-20 00:00:00</td>\n",
       "      <td>116</td>\n",
       "      <td>1997</td>\n",
       "      <td>9.5</td>\n",
       "      <td>意大利</td>\n",
       "    </tr>\n",
       "    <tr>\n",
       "      <th>3</th>\n",
       "      <td>阿甘正传</td>\n",
       "      <td>580897.0</td>\n",
       "      <td>剧情/爱情</td>\n",
       "      <td>美国</td>\n",
       "      <td>1994-06-23 00:00:00</td>\n",
       "      <td>142</td>\n",
       "      <td>1994</td>\n",
       "      <td>9.4</td>\n",
       "      <td>洛杉矶首映</td>\n",
       "    </tr>\n",
       "    <tr>\n",
       "      <th>4</th>\n",
       "      <td>霸王别姬</td>\n",
       "      <td>478523.0</td>\n",
       "      <td>剧情/爱情</td>\n",
       "      <td>中国大陆</td>\n",
       "      <td>1993-01-01 00:00:00</td>\n",
       "      <td>171</td>\n",
       "      <td>1993</td>\n",
       "      <td>9.4</td>\n",
       "      <td>香港</td>\n",
       "    </tr>\n",
       "  </tbody>\n",
       "</table>\n",
       "</div>"
      ],
      "text/plain": [
       "       名字      投票人数        类型    产地                 上映时间   时长    年代   评分  \\\n",
       "0  肖申克的救赎  692795.0     剧情/犯罪    美国  1994-09-10 00:00:00  142  1994  9.6   \n",
       "1    控方证人   42995.0  剧情/悬疑/犯罪    美国  1957-12-17 00:00:00  116  1957  9.5   \n",
       "2   美丽人生   327855.0  剧情/喜剧/爱情   意大利  1997-12-20 00:00:00  116  1997  9.5   \n",
       "3    阿甘正传  580897.0     剧情/爱情    美国  1994-06-23 00:00:00  142  1994  9.4   \n",
       "4    霸王别姬  478523.0     剧情/爱情  中国大陆  1993-01-01 00:00:00  171  1993  9.4   \n",
       "\n",
       "     首映地点  \n",
       "0  多伦多电影节  \n",
       "1      美国  \n",
       "2     意大利  \n",
       "3   洛杉矶首映  \n",
       "4      香港  "
      ]
     },
     "execution_count": 28,
     "metadata": {},
     "output_type": "execute_result"
    }
   ],
   "source": [
    "import pandas as pd\n",
    "import numpy as np\n",
    "df = pd.read_excel(\"../file/豆瓣电影数据.xlsx\", index_col = 0)\n",
    "df[df[\"名字\"].notnull()][:5]"
   ]
  },
  {
   "cell_type": "markdown",
   "metadata": {},
   "source": [
    "填充缺失值"
   ]
  },
  {
   "cell_type": "code",
   "execution_count": 31,
   "metadata": {},
   "outputs": [
    {
     "data": {
      "text/html": [
       "<div>\n",
       "<style scoped>\n",
       "    .dataframe tbody tr th:only-of-type {\n",
       "        vertical-align: middle;\n",
       "    }\n",
       "\n",
       "    .dataframe tbody tr th {\n",
       "        vertical-align: top;\n",
       "    }\n",
       "\n",
       "    .dataframe thead th {\n",
       "        text-align: right;\n",
       "    }\n",
       "</style>\n",
       "<table border=\"1\" class=\"dataframe\">\n",
       "  <thead>\n",
       "    <tr style=\"text-align: right;\">\n",
       "      <th></th>\n",
       "      <th>名字</th>\n",
       "      <th>投票人数</th>\n",
       "      <th>类型</th>\n",
       "      <th>产地</th>\n",
       "      <th>上映时间</th>\n",
       "      <th>时长</th>\n",
       "      <th>年代</th>\n",
       "      <th>评分</th>\n",
       "      <th>首映地点</th>\n",
       "    </tr>\n",
       "  </thead>\n",
       "  <tbody>\n",
       "    <tr>\n",
       "      <th>38738</th>\n",
       "      <td>复仇者联盟3</td>\n",
       "      <td>123456.0</td>\n",
       "      <td>剧情/科幻</td>\n",
       "      <td>美国</td>\n",
       "      <td>2018-05-04 00:00:00</td>\n",
       "      <td>142</td>\n",
       "      <td>2018</td>\n",
       "      <td>NaN</td>\n",
       "      <td>美国</td>\n",
       "    </tr>\n",
       "  </tbody>\n",
       "</table>\n",
       "</div>"
      ],
      "text/plain": [
       "           名字      投票人数     类型  产地                 上映时间   时长    年代  评分 首映地点\n",
       "38738  复仇者联盟3  123456.0  剧情/科幻  美国  2018-05-04 00:00:00  142  2018 NaN   美国"
      ]
     },
     "execution_count": 31,
     "metadata": {},
     "output_type": "execute_result"
    }
   ],
   "source": [
    "import pandas as pd\n",
    "import numpy as np\n",
    "df = pd.read_excel(\"../file/豆瓣电影数据.xlsx\", index_col = 0)\n",
    "dit = {\"名字\":\"复仇者联盟3\",\"投票人数\":123456,\"类型\":\"剧情/科幻\",\"产地\":\"美国\",\"上映时间\":\"2018-05-04 00:00:00\",\"时长\":142,\"年代\":2018,\"评分\":np.nan,\"首映地点\":\"美国\"}\n",
    "s = pd.Series(dit)\n",
    "s.name = 38738\n",
    "df = df.append(s)\n",
    "df[df[\"评分\"].isnull()][:10]"
   ]
  },
  {
   "cell_type": "code",
   "execution_count": 30,
   "metadata": {},
   "outputs": [
    {
     "data": {
      "text/html": [
       "<div>\n",
       "<style scoped>\n",
       "    .dataframe tbody tr th:only-of-type {\n",
       "        vertical-align: middle;\n",
       "    }\n",
       "\n",
       "    .dataframe tbody tr th {\n",
       "        vertical-align: top;\n",
       "    }\n",
       "\n",
       "    .dataframe thead th {\n",
       "        text-align: right;\n",
       "    }\n",
       "</style>\n",
       "<table border=\"1\" class=\"dataframe\">\n",
       "  <thead>\n",
       "    <tr style=\"text-align: right;\">\n",
       "      <th></th>\n",
       "      <th>名字</th>\n",
       "      <th>投票人数</th>\n",
       "      <th>类型</th>\n",
       "      <th>产地</th>\n",
       "      <th>上映时间</th>\n",
       "      <th>时长</th>\n",
       "      <th>年代</th>\n",
       "      <th>评分</th>\n",
       "      <th>首映地点</th>\n",
       "    </tr>\n",
       "  </thead>\n",
       "  <tbody>\n",
       "    <tr>\n",
       "      <th>38734</th>\n",
       "      <td>1935年</td>\n",
       "      <td>57.0</td>\n",
       "      <td>喜剧/歌舞</td>\n",
       "      <td>美国</td>\n",
       "      <td>1935-03-15 00:00:00</td>\n",
       "      <td>98</td>\n",
       "      <td>1935</td>\n",
       "      <td>7.600000</td>\n",
       "      <td>美国</td>\n",
       "    </tr>\n",
       "    <tr>\n",
       "      <th>38735</th>\n",
       "      <td>血溅画屏</td>\n",
       "      <td>95.0</td>\n",
       "      <td>剧情/悬疑/犯罪/武侠/古装</td>\n",
       "      <td>中国大陆</td>\n",
       "      <td>1905-06-08 00:00:00</td>\n",
       "      <td>91</td>\n",
       "      <td>1986</td>\n",
       "      <td>7.100000</td>\n",
       "      <td>美国</td>\n",
       "    </tr>\n",
       "    <tr>\n",
       "      <th>38736</th>\n",
       "      <td>魔窟中的幻想</td>\n",
       "      <td>51.0</td>\n",
       "      <td>惊悚/恐怖/儿童</td>\n",
       "      <td>中国大陆</td>\n",
       "      <td>1905-06-08 00:00:00</td>\n",
       "      <td>78</td>\n",
       "      <td>1986</td>\n",
       "      <td>8.000000</td>\n",
       "      <td>美国</td>\n",
       "    </tr>\n",
       "    <tr>\n",
       "      <th>38737</th>\n",
       "      <td>列宁格勒围困之星火战役 Блокада: Фильм 2: Ленинградский ме...</td>\n",
       "      <td>32.0</td>\n",
       "      <td>剧情/战争</td>\n",
       "      <td>苏联</td>\n",
       "      <td>1905-05-30 00:00:00</td>\n",
       "      <td>97</td>\n",
       "      <td>1977</td>\n",
       "      <td>6.600000</td>\n",
       "      <td>美国</td>\n",
       "    </tr>\n",
       "    <tr>\n",
       "      <th>38738</th>\n",
       "      <td>复仇者联盟3</td>\n",
       "      <td>123456.0</td>\n",
       "      <td>剧情/科幻</td>\n",
       "      <td>美国</td>\n",
       "      <td>2018-05-04 00:00:00</td>\n",
       "      <td>142</td>\n",
       "      <td>2018</td>\n",
       "      <td>6.935704</td>\n",
       "      <td>美国</td>\n",
       "    </tr>\n",
       "  </tbody>\n",
       "</table>\n",
       "</div>"
      ],
      "text/plain": [
       "                                                      名字      投票人数  \\\n",
       "38734                                              1935年      57.0   \n",
       "38735                                               血溅画屏      95.0   \n",
       "38736                                             魔窟中的幻想      51.0   \n",
       "38737  列宁格勒围困之星火战役 Блокада: Фильм 2: Ленинградский ме...      32.0   \n",
       "38738                                             复仇者联盟3  123456.0   \n",
       "\n",
       "                   类型    产地                 上映时间   时长    年代        评分 首映地点  \n",
       "38734           喜剧/歌舞    美国  1935-03-15 00:00:00   98  1935  7.600000   美国  \n",
       "38735  剧情/悬疑/犯罪/武侠/古装  中国大陆  1905-06-08 00:00:00   91  1986  7.100000   美国  \n",
       "38736        惊悚/恐怖/儿童  中国大陆  1905-06-08 00:00:00   78  1986  8.000000   美国  \n",
       "38737           剧情/战争    苏联  1905-05-30 00:00:00   97  1977  6.600000   美国  \n",
       "38738           剧情/科幻    美国  2018-05-04 00:00:00  142  2018  6.935704   美国  "
      ]
     },
     "execution_count": 30,
     "metadata": {},
     "output_type": "execute_result"
    }
   ],
   "source": [
    "import pandas as pd\n",
    "import numpy as np\n",
    "df = pd.read_excel(\"../file/豆瓣电影数据.xlsx\", index_col = 0)\n",
    "dit = {\"名字\":\"复仇者联盟3\",\"投票人数\":123456,\"类型\":\"剧情/科幻\",\"产地\":\"美国\",\"上映时间\":\"2018-05-04 00:00:00\",\"时长\":142,\"年代\":2018,\"评分\":np.nan,\"首映地点\":\"美国\"}\n",
    "s = pd.Series(dit)\n",
    "s.name = 38738\n",
    "df = df.append(s)\n",
    "df[\"评分\"].fillna(np.mean(df[\"评分\"]), inplace = True)\n",
    "df[-5:]"
   ]
  },
  {
   "cell_type": "markdown",
   "metadata": {},
   "source": [
    "**注意**：使用均值来替换缺失值，`inplace`表示直接在原始数据中进行修改。"
   ]
  },
  {
   "cell_type": "code",
   "execution_count": 97,
   "metadata": {},
   "outputs": [
    {
     "data": {
      "text/html": [
       "<div>\n",
       "<style scoped>\n",
       "    .dataframe tbody tr th:only-of-type {\n",
       "        vertical-align: middle;\n",
       "    }\n",
       "\n",
       "    .dataframe tbody tr th {\n",
       "        vertical-align: top;\n",
       "    }\n",
       "\n",
       "    .dataframe thead th {\n",
       "        text-align: right;\n",
       "    }\n",
       "</style>\n",
       "<table border=\"1\" class=\"dataframe\">\n",
       "  <thead>\n",
       "    <tr style=\"text-align: right;\">\n",
       "      <th></th>\n",
       "      <th>名字</th>\n",
       "      <th>投票人数</th>\n",
       "      <th>类型</th>\n",
       "      <th>产地</th>\n",
       "      <th>上映时间</th>\n",
       "      <th>时长</th>\n",
       "      <th>年代</th>\n",
       "      <th>评分</th>\n",
       "      <th>首映地点</th>\n",
       "    </tr>\n",
       "  </thead>\n",
       "  <tbody>\n",
       "    <tr>\n",
       "      <th>38738</th>\n",
       "      <td>复仇者联盟3</td>\n",
       "      <td>123456.0</td>\n",
       "      <td>剧情/科幻</td>\n",
       "      <td>美国</td>\n",
       "      <td>2018-05-04 00:00:00</td>\n",
       "      <td>142</td>\n",
       "      <td>2018</td>\n",
       "      <td>未知电影</td>\n",
       "      <td>美国</td>\n",
       "    </tr>\n",
       "  </tbody>\n",
       "</table>\n",
       "</div>"
      ],
      "text/plain": [
       "           名字      投票人数     类型  产地                 上映时间   时长    年代    评分 首映地点\n",
       "38738  复仇者联盟3  123456.0  剧情/科幻  美国  2018-05-04 00:00:00  142  2018  未知电影   美国"
      ]
     },
     "execution_count": 97,
     "metadata": {},
     "output_type": "execute_result"
    }
   ],
   "source": [
    "import pandas as pd\n",
    "import numpy as np\n",
    "df = pd.read_excel(\"../file/豆瓣电影数据.xlsx\", index_col = 0)\n",
    "dit = {\"名字\":\"复仇者联盟3\",\"投票人数\":123456,\"类型\":\"剧情/科幻\",\"产地\":\"美国\",\"上映时间\":\"2018-05-04 00:00:00\",\"时长\":142,\"年代\":2018,\"评分\":np.nan,\"首映地点\":\"美国\"}\n",
    "s = pd.Series(dit)\n",
    "s.name = 38738\n",
    "df = df.append(s)\n",
    "df1 = df.fillna(\"未知电影\")\n",
    "df1[df1[\"名字\"] == \"复仇者联盟3\"]"
   ]
  },
  {
   "cell_type": "markdown",
   "metadata": {},
   "source": [
    "**注意**：谨慎使用`df.fillna()`，除非确定所有的空值都是在一列中，否则所有的空值都会填成这个函数的参数值。"
   ]
  },
  {
   "cell_type": "markdown",
   "metadata": {},
   "source": [
    "删除缺失值\n",
    "```python\n",
    "df.dropna()\n",
    "```\n",
    "\n",
    "参数说明：\n",
    "\n",
    "* `how = 'all'`：删除全为空值的行或列。\n",
    "* `inplace = True`：覆盖之前的数据。\n",
    "* `axis = 0`：选择行或列，默认是行。"
   ]
  },
  {
   "cell_type": "code",
   "execution_count": 100,
   "metadata": {},
   "outputs": [
    {
     "name": "stdout",
     "output_type": "stream",
     "text": [
      "38738\n",
      "38175\n"
     ]
    }
   ],
   "source": [
    "import pandas as pd\n",
    "import numpy as np\n",
    "df = pd.read_excel(\"../file/豆瓣电影数据.xlsx\", index_col = 0)\n",
    "print(len(df))\n",
    "df2 = df.dropna()\n",
    "print(len(df2))"
   ]
  },
  {
   "cell_type": "code",
   "execution_count": 101,
   "metadata": {},
   "outputs": [
    {
     "name": "stdout",
     "output_type": "stream",
     "text": [
      "38175\n"
     ]
    }
   ],
   "source": [
    "import pandas as pd\n",
    "import numpy as np\n",
    "df = pd.read_excel(\"../file/豆瓣电影数据.xlsx\", index_col = 0)\n",
    "df.dropna(inplace = True)\n",
    "print(len(df))"
   ]
  },
  {
   "cell_type": "markdown",
   "metadata": {},
   "source": [
    "处理异常值\n",
    "\n",
    "异常值，即在数据集中存在不合理的值，又称离群点。比如年龄为-1，笔记本电脑重量为1吨等，都属于异常值的范围。"
   ]
  },
  {
   "cell_type": "code",
   "execution_count": 104,
   "metadata": {},
   "outputs": [
    {
     "data": {
      "text/html": [
       "<div>\n",
       "<style scoped>\n",
       "    .dataframe tbody tr th:only-of-type {\n",
       "        vertical-align: middle;\n",
       "    }\n",
       "\n",
       "    .dataframe tbody tr th {\n",
       "        vertical-align: top;\n",
       "    }\n",
       "\n",
       "    .dataframe thead th {\n",
       "        text-align: right;\n",
       "    }\n",
       "</style>\n",
       "<table border=\"1\" class=\"dataframe\">\n",
       "  <thead>\n",
       "    <tr style=\"text-align: right;\">\n",
       "      <th></th>\n",
       "      <th>名字</th>\n",
       "      <th>投票人数</th>\n",
       "      <th>类型</th>\n",
       "      <th>产地</th>\n",
       "      <th>上映时间</th>\n",
       "      <th>时长</th>\n",
       "      <th>年代</th>\n",
       "      <th>评分</th>\n",
       "      <th>首映地点</th>\n",
       "    </tr>\n",
       "  </thead>\n",
       "  <tbody>\n",
       "    <tr>\n",
       "      <th>19777</th>\n",
       "      <td>皇家大贼 皇家大</td>\n",
       "      <td>-80.0</td>\n",
       "      <td>剧情/犯罪</td>\n",
       "      <td>中国香港</td>\n",
       "      <td>1985-05-31 00:00:00</td>\n",
       "      <td>60</td>\n",
       "      <td>1985</td>\n",
       "      <td>6.3</td>\n",
       "      <td>美国</td>\n",
       "    </tr>\n",
       "    <tr>\n",
       "      <th>19786</th>\n",
       "      <td>日本的垃圾去中国大陆 にっぽんの“ゴミ” 大陆へ渡る ～中国式リサイクル錬</td>\n",
       "      <td>-80.0</td>\n",
       "      <td>纪录片</td>\n",
       "      <td>日本</td>\n",
       "      <td>1905-06-26 00:00:00</td>\n",
       "      <td>60</td>\n",
       "      <td>2004</td>\n",
       "      <td>7.9</td>\n",
       "      <td>美国</td>\n",
       "    </tr>\n",
       "    <tr>\n",
       "      <th>19797</th>\n",
       "      <td>女教徒</td>\n",
       "      <td>-118.0</td>\n",
       "      <td>剧情</td>\n",
       "      <td>法国</td>\n",
       "      <td>1966-05-06 00:00:00</td>\n",
       "      <td>135</td>\n",
       "      <td>1966</td>\n",
       "      <td>7.8</td>\n",
       "      <td>美国</td>\n",
       "    </tr>\n",
       "  </tbody>\n",
       "</table>\n",
       "</div>"
      ],
      "text/plain": [
       "                                          名字   投票人数     类型    产地  \\\n",
       "19777                               皇家大贼 皇家大  -80.0  剧情/犯罪  中国香港   \n",
       "19786  日本的垃圾去中国大陆 にっぽんの“ゴミ” 大陆へ渡る ～中国式リサイクル錬  -80.0    纪录片    日本   \n",
       "19797                                    女教徒 -118.0     剧情    法国   \n",
       "\n",
       "                      上映时间   时长    年代   评分 首映地点  \n",
       "19777  1985-05-31 00:00:00   60  1985  6.3   美国  \n",
       "19786  1905-06-26 00:00:00   60  2004  7.9   美国  \n",
       "19797  1966-05-06 00:00:00  135  1966  7.8   美国  "
      ]
     },
     "execution_count": 104,
     "metadata": {},
     "output_type": "execute_result"
    }
   ],
   "source": [
    "import pandas as pd\n",
    "import numpy as np\n",
    "df = pd.read_excel(\"../file/豆瓣电影数据.xlsx\", index_col = 0)\n",
    "df[df[\"投票人数\"] < 0] #直接删除，或者找原始数据来修正都行"
   ]
  },
  {
   "cell_type": "code",
   "execution_count": 103,
   "metadata": {},
   "outputs": [
    {
     "data": {
      "text/html": [
       "<div>\n",
       "<style scoped>\n",
       "    .dataframe tbody tr th:only-of-type {\n",
       "        vertical-align: middle;\n",
       "    }\n",
       "\n",
       "    .dataframe tbody tr th {\n",
       "        vertical-align: top;\n",
       "    }\n",
       "\n",
       "    .dataframe thead th {\n",
       "        text-align: right;\n",
       "    }\n",
       "</style>\n",
       "<table border=\"1\" class=\"dataframe\">\n",
       "  <thead>\n",
       "    <tr style=\"text-align: right;\">\n",
       "      <th></th>\n",
       "      <th>名字</th>\n",
       "      <th>投票人数</th>\n",
       "      <th>类型</th>\n",
       "      <th>产地</th>\n",
       "      <th>上映时间</th>\n",
       "      <th>时长</th>\n",
       "      <th>年代</th>\n",
       "      <th>评分</th>\n",
       "      <th>首映地点</th>\n",
       "    </tr>\n",
       "  </thead>\n",
       "  <tbody>\n",
       "    <tr>\n",
       "      <th>19791</th>\n",
       "      <td>女教师 女教</td>\n",
       "      <td>8.30</td>\n",
       "      <td>剧情/犯罪</td>\n",
       "      <td>日本</td>\n",
       "      <td>1977-10-29 00:00:00</td>\n",
       "      <td>100</td>\n",
       "      <td>1977</td>\n",
       "      <td>6.6</td>\n",
       "      <td>日本</td>\n",
       "    </tr>\n",
       "    <tr>\n",
       "      <th>19804</th>\n",
       "      <td>女郎漫游仙境 ドレミファ娘の血は騒</td>\n",
       "      <td>5.90</td>\n",
       "      <td>喜剧/歌舞</td>\n",
       "      <td>日本</td>\n",
       "      <td>1985-11-03 00:00:00</td>\n",
       "      <td>80</td>\n",
       "      <td>1985</td>\n",
       "      <td>6.7</td>\n",
       "      <td>日本</td>\n",
       "    </tr>\n",
       "    <tr>\n",
       "      <th>19820</th>\n",
       "      <td>女仆日记</td>\n",
       "      <td>12.87</td>\n",
       "      <td>剧情</td>\n",
       "      <td>法国</td>\n",
       "      <td>2015-04-01 00:00:00</td>\n",
       "      <td>96</td>\n",
       "      <td>2015</td>\n",
       "      <td>5.7</td>\n",
       "      <td>法国</td>\n",
       "    </tr>\n",
       "    <tr>\n",
       "      <th>38055</th>\n",
       "      <td>逃出亚卡拉</td>\n",
       "      <td>12.87</td>\n",
       "      <td>剧情/动作/惊悚/犯罪</td>\n",
       "      <td>美国</td>\n",
       "      <td>1979-09-20 00:00:00</td>\n",
       "      <td>112</td>\n",
       "      <td>1979</td>\n",
       "      <td>7.8</td>\n",
       "      <td>美国</td>\n",
       "    </tr>\n",
       "  </tbody>\n",
       "</table>\n",
       "</div>"
      ],
      "text/plain": [
       "                      名字   投票人数           类型  产地                 上映时间   时长  \\\n",
       "19791             女教师 女教   8.30        剧情/犯罪  日本  1977-10-29 00:00:00  100   \n",
       "19804  女郎漫游仙境 ドレミファ娘の血は騒   5.90        喜剧/歌舞  日本  1985-11-03 00:00:00   80   \n",
       "19820               女仆日记  12.87           剧情  法国  2015-04-01 00:00:00   96   \n",
       "38055              逃出亚卡拉  12.87  剧情/动作/惊悚/犯罪  美国  1979-09-20 00:00:00  112   \n",
       "\n",
       "         年代   评分 首映地点  \n",
       "19791  1977  6.6   日本  \n",
       "19804  1985  6.7   日本  \n",
       "19820  2015  5.7   法国  \n",
       "38055  1979  7.8   美国  "
      ]
     },
     "execution_count": 103,
     "metadata": {},
     "output_type": "execute_result"
    }
   ],
   "source": [
    "import pandas as pd\n",
    "import numpy as np\n",
    "df = pd.read_excel(\"../file/豆瓣电影数据.xlsx\", index_col = 0)\n",
    "df[df[\"投票人数\"] % 1 != 0] #小数异常值"
   ]
  },
  {
   "cell_type": "markdown",
   "metadata": {},
   "source": [
    "对于异常值，一般来说数量都会很少，在不影响整体数据分布的情况下，我们直接删除就可以了。\n",
    "\n",
    "其他属性的异常值处理，我们会在格式转换部分，进一步讨论。"
   ]
  },
  {
   "cell_type": "code",
   "execution_count": 106,
   "metadata": {},
   "outputs": [
    {
     "name": "stdout",
     "output_type": "stream",
     "text": [
      "Empty DataFrame\n",
      "Columns: [名字, 投票人数, 类型, 产地, 上映时间, 时长, 年代, 评分, 首映地点]\n",
      "Index: []\n",
      "Empty DataFrame\n",
      "Columns: [名字, 投票人数, 类型, 产地, 上映时间, 时长, 年代, 评分, 首映地点]\n",
      "Index: []\n"
     ]
    }
   ],
   "source": [
    "import pandas as pd\n",
    "import numpy as np\n",
    "df = pd.read_excel(\"../file/豆瓣电影数据.xlsx\", index_col = 0)\n",
    "df = df[df.投票人数 > 0]\n",
    "df = df[df[\"投票人数\"] % 1 == 0]\n",
    "print(df[df.投票人数 < 0])\n",
    "print(df[df[\"投票人数\"] % 1 != 0])"
   ]
  },
  {
   "cell_type": "markdown",
   "metadata": {},
   "source": [
    "## 9.3 Matplotlib\n",
    "* matplotlib是一个Python的2D图形包。pyplot封装了很多画图的函数。在使用之前还是需要导入相关的包：\n",
    "\n",
    "```python\n",
    "import matplotlib.pyplot as plt\n",
    "import numpy as np\n",
    "```\n",
    "\n",
    "* `matplotlib.pyplot`包含一系列类似MATLAB中绘图函数的相关函数。每个`matplotlib.pyplot`中的函数对当前的图像进行一些修改，例如：产生新的图像，在图像中产生新的绘图区域，在绘图区域中画线，给绘图加上标记，等等......。\n",
    "\n",
    "* `matplotlib.pyplot`会自动记住当前的图像和绘图区域，因此这些函数会直接作用在当前的图像上。\n",
    "\n",
    "* 在实际的使用过程中，常常以`plt`作为`matplotlib.pyplot`的省略。\n",
    "\n",
    "### 9.3.1 `plt.show()`函数\n",
    "\n",
    "* 默认情况下，``matplotlib.pyplot``不会直接显示图像，只有调用``plt.show()``函数时，图像才会显示出来。\n",
    "\n",
    "* ``plt.show()``默认是在新窗口打开一幅图像，并且提供了对图像进行操作的按钮。\n",
    "    * 使用Qt（会弹出图形界面）：`%matplotlib qt5`\n",
    "    * 图形在笔记本中显示为静态：`%matplotlib inline`\n",
    "    * 图形在笔记本中显示为动态：`%matplotlib notebook`"
   ]
  },
  {
   "cell_type": "code",
   "execution_count": 3,
   "metadata": {},
   "outputs": [],
   "source": [
    "import matplotlib.pyplot as plt\n",
    "import numpy as np\n",
    "%matplotlib qt5\n",
    "plt.figure()\n",
    "plt.show()"
   ]
  },
  {
   "cell_type": "markdown",
   "metadata": {},
   "source": [
    "### 9.3.2 plt.plot()函数\n",
    "\n",
    "`plt.plot()`函数可以用来绘线型图。"
   ]
  },
  {
   "cell_type": "code",
   "execution_count": 2,
   "metadata": {},
   "outputs": [],
   "source": [
    "import matplotlib.pyplot as plt\n",
    "import numpy as np\n",
    "%matplotlib qt5\n",
    "plt.figure()\n",
    "plt.plot([1,2,3,4]) #默认以列表的索引作为x，输入的是y\n",
    "plt.ylabel('y') # 设定y轴标签\n",
    "plt.xlabel(\"x轴\") #设定x轴标签\n",
    "plt.show()"
   ]
  },
  {
   "cell_type": "markdown",
   "metadata": {},
   "source": [
    "x轴标签的“轴”字未能正常显示，出现了中文乱码问题，需要设定中文字体。"
   ]
  },
  {
   "cell_type": "code",
   "execution_count": 3,
   "metadata": {},
   "outputs": [],
   "source": [
    "import matplotlib.pyplot as plt\n",
    "import numpy as np\n",
    "%matplotlib qt5\n",
    "# 支持中文\n",
    "plt.rcParams['font.sans-serif'] = ['SimHei']  # 用来正常显示中文标签\n",
    "plt.rcParams['axes.unicode_minus'] = False  # 用来正常显示负号\n",
    "plt.figure()\n",
    "plt.plot([1,2,3,4]) #默认以列表的索引作为x，输入的是y\n",
    "plt.ylabel('y') # 设定y轴标签\n",
    "plt.xlabel(\"x轴\") #设定x轴标签\n",
    "plt.show()"
   ]
  },
  {
   "cell_type": "markdown",
   "metadata": {},
   "source": [
    "* `plot`函数基本的用法：\n",
    "    * 指定`x`和`y`\n",
    "        * `plt.plot(x, y)`\n",
    "    * 默认参数，`x`为[0, N-1]\n",
    "        * `plt.plot(y)`\n",
    "\n",
    "**注意**：上面的例子中，我们没有给定`x`的值，所以其默认值为`[0,1,2,3]`。\n",
    "\n",
    "下面我们看一个指定`x`和`y`的例子。"
   ]
  },
  {
   "cell_type": "code",
   "execution_count": 4,
   "metadata": {},
   "outputs": [],
   "source": [
    "import matplotlib.pyplot as plt\n",
    "import numpy as np\n",
    "%matplotlib qt5\n",
    "# 支持中文\n",
    "plt.rcParams['font.sans-serif'] = ['SimHei']  # 用来正常显示中文标签\n",
    "plt.rcParams['axes.unicode_minus'] = False  # 用来正常显示负号\n",
    "plt.figure()\n",
    "plt.plot([1,2,3,4],[1,4,9,16])\n",
    "plt.ylabel('y') # 设定y轴标签\n",
    "plt.xlabel(\"x轴\") #设定x轴标签\n",
    "plt.show()"
   ]
  },
  {
   "cell_type": "markdown",
   "metadata": {},
   "source": [
    "和**MATLAB**中类似，我们还可以用字符来指定绘图的格式：\n",
    "* 表示颜色的字符参数有：\n",
    "\n",
    "|字符|颜色|\n",
    "|:-:|:-:|\n",
    "|``'b'``|蓝色，blue|\n",
    "|``'g'``|绿色，green|\n",
    "|``'r'``|红色，red|\n",
    "|``'c'``|青色，cyan|\n",
    "|``'m'``|品红，magenta|\n",
    "|``'y'``|黄色，yellow|\n",
    "|``'k'``|黑色，black|\n",
    "|``'w'``|白色，white|\n",
    "\n",
    "* 表示类型的字符参数有：\n",
    "\n",
    "|字符|类型|\n",
    "|:-:|:-:|\n",
    "|`'-'`|实线|\n",
    "|`'--'`|虚线|\n",
    "|`'-.'`|虚点线|\n",
    "|`':'`|点线|\n",
    "|`'.'`|点|\n",
    "|`','`|像素点|\n",
    "|`'o'`|圆点|\n",
    "|`'v'`|下三角点|\n",
    "|`'^'`|上三角点|\n",
    "|`'<'`|左三角点|\n",
    "|`'>'`|右三角点|\n",
    "|`'1'`|下三叉点|\n",
    "|`'2'`|上三叉点|\n",
    "|`'3'`|左三叉点|\n",
    "|`'4'`|右三叉点|\n",
    "|`'s'`|正方点|\n",
    "|`'p'`|五角点|\n",
    "|`'*'`|星形点|\n",
    "|`'h'`|六边形点1|\n",
    "|`'H'`|六边形点2|\n",
    "|`'+'`|加号点|\n",
    "|`'x'`|乘号点|\n",
    "|`'D'`|实心菱形点|\n",
    "|`'d'`|瘦菱形点|\n",
    "|`'_'`|横线点|\n",
    "\n",
    "例如我们要画出红色圆点："
   ]
  },
  {
   "cell_type": "code",
   "execution_count": 6,
   "metadata": {},
   "outputs": [],
   "source": [
    "import matplotlib.pyplot as plt\n",
    "import numpy as np\n",
    "%matplotlib qt5\n",
    "# 支持中文\n",
    "plt.rcParams['font.sans-serif'] = ['SimHei']  # 用来正常显示中文标签\n",
    "plt.rcParams['axes.unicode_minus'] = False  # 用来正常显示负号\n",
    "plt.figure()\n",
    "plt.plot([1,2,3,4],[1,4,9,16],\"ro\")\n",
    "plt.ylabel('y') # 设定y轴标签\n",
    "plt.xlabel(\"x轴\") #设定x轴标签\n",
    "plt.show()"
   ]
  },
  {
   "cell_type": "markdown",
   "metadata": {},
   "source": [
    "可以看出，有两个点在图像的边缘，因此，我们需要改变轴的显示范围。\n",
    "\n",
    "* 显示范围：与MATLAB类似，这里可以使用`axis`函数指定坐标轴显示的范围：\n",
    "\n",
    "```python\n",
    "plt.axis([xmin, xmax, ymin, ymax])\n",
    "```"
   ]
  },
  {
   "cell_type": "code",
   "execution_count": 7,
   "metadata": {},
   "outputs": [],
   "source": [
    "import matplotlib.pyplot as plt\n",
    "import numpy as np\n",
    "%matplotlib qt5\n",
    "# 支持中文\n",
    "plt.rcParams['font.sans-serif'] = ['SimHei']  # 用来正常显示中文标签\n",
    "plt.rcParams['axes.unicode_minus'] = False  # 用来正常显示负号\n",
    "plt.figure()\n",
    "plt.plot([1,2,3,4],[1,4,9,16],\"ro\")\n",
    "plt.axis([0,6,0,20])\n",
    "plt.ylabel('y') # 设定y轴标签\n",
    "plt.xlabel(\"x轴\") #设定x轴标签\n",
    "plt.show()"
   ]
  },
  {
   "cell_type": "markdown",
   "metadata": {},
   "source": [
    "* 传入`Numpy`数组：之前我们传给`plot`的参数都是列表，事实上，向`plot`中传入`numpy`数组是更常用的做法。事实上，如果传入的是列表，``matplotlib``会在内部将它转化成数组再进行处理：\n",
    "\n",
    "在一个图里面画多条线"
   ]
  },
  {
   "cell_type": "code",
   "execution_count": 9,
   "metadata": {},
   "outputs": [],
   "source": [
    "import matplotlib.pyplot as plt\n",
    "import numpy as np\n",
    "%matplotlib qt5\n",
    "# 支持中文\n",
    "plt.rcParams['font.sans-serif'] = ['SimHei']  # 用来正常显示中文标签\n",
    "plt.rcParams['axes.unicode_minus'] = False  # 用来正常显示负号\n",
    "plt.figure()\n",
    "t = np.arange(0.,5.,0.2)\n",
    "plt.plot(t,t,\"r--\")\n",
    "plt.plot(t,t**2,\"bs\")\n",
    "plt.plot(t,t**3,\"g^\")\n",
    "plt.ylabel('y') # 设定y轴标签\n",
    "plt.xlabel(\"x轴\") #设定x轴标签\n",
    "plt.show()"
   ]
  },
  {
   "cell_type": "markdown",
   "metadata": {},
   "source": [
    "* 传入多组数据：\n",
    "    * 事实上，在上面的例子中，我们不仅仅向`plot`函数传入了数组，还传入了多组`(x,y,format_str)`参数，它们在同一张图上显示。\n",
    "    * 这意味着我们不需要使用多个`plot`函数来画多组数组，只需要可以将这些组合放到一个`plot`函数中去即可。\n",
    "* 线条属性：之前提到，我们可以用字符串来控制线条的属性，事实上还可以用关键词来改变线条的性质，例如`linewidth`可以改变线条的宽度，`color`可以改变线条的颜色。"
   ]
  },
  {
   "cell_type": "code",
   "execution_count": 11,
   "metadata": {},
   "outputs": [],
   "source": [
    "import matplotlib.pyplot as plt\n",
    "import numpy as np\n",
    "%matplotlib qt5\n",
    "# 支持中文\n",
    "plt.rcParams['font.sans-serif'] = ['SimHei']  # 用来正常显示中文标签\n",
    "plt.rcParams['axes.unicode_minus'] = False  # 用来正常显示负号\n",
    "plt.figure()\n",
    "x = np.linspace(-np.pi,np.pi)\n",
    "y = np.sin(x)\n",
    "plt.plot(x,y,linewidth = 4.0,color = 'r') #细节调整的两个方式\n",
    "plt.show()"
   ]
  },
  {
   "cell_type": "markdown",
   "metadata": {},
   "source": [
    "* 使用`plt.plot()`的返回值来设置线条属性：`plot`函数返回一个`Line2D`对象组成的列表，每个对象代表输入的一对组合。\n",
    "    * line1,line2 为两个 Line2D 对象\n",
    "    ```python\n",
    "    line1, line2 = plt.plot(x1, y1, x2, y2)\n",
    "    ```\n",
    "    * 返回3个 Line2D 对象组成的列表\n",
    "    ```python\n",
    "    lines = plt.plot(x1, y1, x2, y2, x3, y3)\n",
    "    ```"
   ]
  },
  {
   "cell_type": "code",
   "execution_count": 12,
   "metadata": {},
   "outputs": [],
   "source": [
    "import matplotlib.pyplot as plt\n",
    "import numpy as np\n",
    "%matplotlib qt5\n",
    "# 支持中文\n",
    "plt.rcParams['font.sans-serif'] = ['SimHei']  # 用来正常显示中文标签\n",
    "plt.rcParams['axes.unicode_minus'] = False  # 用来正常显示负号\n",
    "plt.figure()\n",
    "line1,line2 = plt.plot(x,y,\"r-\",x,y+1,\"g-\")\n",
    "line1.set_antialiased(False)  #抗锯齿\n",
    "plt.show()"
   ]
  },
  {
   "cell_type": "code",
   "execution_count": 13,
   "metadata": {},
   "outputs": [],
   "source": [
    "import matplotlib.pyplot as plt\n",
    "import numpy as np\n",
    "%matplotlib qt5\n",
    "# 支持中文\n",
    "plt.rcParams['font.sans-serif'] = ['SimHei']  # 用来正常显示中文标签\n",
    "plt.rcParams['axes.unicode_minus'] = False  # 用来正常显示负号\n",
    "plt.figure()\n",
    "line = plt.plot(x,y,\"r-\",x,y+1,\"g-\")\n",
    "line[1].set_antialiased(False) #列表\n",
    "plt.show()"
   ]
  },
  {
   "cell_type": "markdown",
   "metadata": {},
   "source": [
    "* 使用`plt.setp()`修改线条性质"
   ]
  },
  {
   "cell_type": "code",
   "execution_count": 16,
   "metadata": {},
   "outputs": [],
   "source": [
    "import matplotlib.pyplot as plt\n",
    "import numpy as np\n",
    "%matplotlib qt5\n",
    "# 支持中文\n",
    "plt.rcParams['font.sans-serif'] = ['SimHei']  # 用来正常显示中文标签\n",
    "plt.rcParams['axes.unicode_minus'] = False  # 用来正常显示负号\n",
    "plt.figure()\n",
    "line = plt.plot(x,y)\n",
    "plt.setp(line, color = 'g',linewidth = 4)\n",
    "plt.show()"
   ]
  },
  {
   "cell_type": "markdown",
   "metadata": {},
   "source": [
    "* 子图\n",
    "    * `figure()`函数会产生一个指定编号为`num`的图：\n",
    "    ```python\n",
    "    plt.figure(num)\n",
    "    ```\n",
    "    * 这里，`figure(1)`其实是可以省略的，因为默认情况下`plt`会自动产生一幅图像。\n",
    "\n",
    "    * 使用`subplot`可以在一幅图中生成多个子图，其参数为：\n",
    "    ```python\n",
    "    plt.subplot(numrows, numcols, fignum)\n",
    "    ```\n",
    "    * 当`numrows * numncols < 10`时，中间的逗号可以省略，因此`plt.subplot(211)`就相当于`plt.subplot(2,1,1)`。"
   ]
  },
  {
   "cell_type": "code",
   "execution_count": 19,
   "metadata": {},
   "outputs": [],
   "source": [
    "def f(t):\n",
    "    return np.exp(-t)*np.cos(2*np.pi*t)\n",
    "\n",
    "import matplotlib.pyplot as plt\n",
    "import numpy as np\n",
    "%matplotlib qt5\n",
    "# 支持中文\n",
    "plt.rcParams['font.sans-serif'] = ['SimHei']  # 用来正常显示中文标签\n",
    "plt.rcParams['axes.unicode_minus'] = False  # 用来正常显示负号\n",
    "\n",
    "t1 = np.arange(0.0,5.0,0.1)\n",
    "t2 = np.arange(0.0,4.0,0.02)\n",
    "\n",
    "plt.figure(figsize = (10,6))\n",
    "plt.subplot(211)\n",
    "plt.plot(t1,f(t1),\"bo\",t2,f(t2),'k') #子图1上有两条线\n",
    "\n",
    "plt.subplot(212)\n",
    "plt.plot(t2,np.cos(2*np.pi*t2),\"r--\")\n",
    "plt.show()"
   ]
  },
  {
   "cell_type": "markdown",
   "metadata": {},
   "source": [
    "### 9.3.3 电影数据绘图\n",
    "\n",
    "在了解绘图的基础知识之后，我们可以对电影数据进行可视化分析。"
   ]
  },
  {
   "cell_type": "code",
   "execution_count": null,
   "metadata": {},
   "outputs": [],
   "source": []
  }
 ],
 "metadata": {
  "kernelspec": {
   "display_name": "Python 3",
   "language": "python",
   "name": "python3"
  },
  "language_info": {
   "codemirror_mode": {
    "name": "ipython",
    "version": 3
   },
   "file_extension": ".py",
   "mimetype": "text/x-python",
   "name": "python",
   "nbconvert_exporter": "python",
   "pygments_lexer": "ipython3",
   "version": "3.7.0"
  }
 },
 "nbformat": 4,
 "nbformat_minor": 2
}
