{
 "cells": [
  {
   "cell_type": "markdown",
   "metadata": {},
   "source": [
    "# 第7章 文件和数据格式化\n",
    "## 7.1 文件的使用\n",
    "### 7.1.1 文件概述\n",
    "* 文件是数据的抽象和集合\n",
    "    * 文件是存储在辅助存储器上的数据序列\n",
    "    * 文件是数据存储的一种形式\n",
    "    * 文件展现形态：文本文件和二进制文件\n",
    "* 文件文件和二进制文件只是文件的展示方式\n",
    "    * 本质上：所有文件都是二进制形式存储\n",
    "    * 形式上：所有文件采用两种方式展示\n",
    "* 文本文件由**单一特定编码**组成的文件，如UTF-8编码\n",
    "    * 由于存在编码，也被看成是存储着的长字符串\n",
    "    * 适用于例如：.txt文件、.py文件等\n",
    "* 二进制文件直接由比特0和1组成，没有统一字符编码\n",
    "    * 一般存在二进制0和1的组织结构，即文件格式\n",
    "    * 适用于例如：.png文件、.avi文件等   "
   ]
  },
  {
   "cell_type": "code",
   "execution_count": 2,
   "metadata": {},
   "outputs": [
    {
     "name": "stdout",
     "output_type": "stream",
     "text": [
      "中国是一个伟大的国家！\n",
      "b'\\xd6\\xd0\\xb9\\xfa\\xca\\xc7\\xd2\\xbb\\xb8\\xf6\\xce\\xb0\\xb4\\xf3\\xb5\\xc4\\xb9\\xfa\\xbc\\xd2\\xa3\\xa1'\n"
     ]
    }
   ],
   "source": [
    "#t表示文本文件方式\n",
    "textFile = open(\"../file/7-1.txt \",\"rt\") \n",
    "print(textFile.readline())\n",
    "textFile.close()\n",
    "#b表示二进制文件方式\n",
    "binFile = open(\"../file/7-1.txt\",\"rb\") \n",
    "print(binFile.readline())\n",
    "binFile.close()"
   ]
  },
  {
   "cell_type": "markdown",
   "metadata": {},
   "source": [
    "* 采用文本方式读入文件，文件经过编码形成字符串，打印出有含义的字符。\n",
    "* 采用二进制方式打开文件，文件被解析为字节流，且由于存在编码，所以字符串中的一个字符由两个字节表示。\n",
    "\n",
    "### 7.1.2 文件的打开关闭\n",
    "* 文件处理的步骤: 打开->操作->关闭\n",
    "\n",
    "![](../picture/fileopenclose.png)\n",
    "\n",
    "* Python通过内置函数`open()`函数打开一个文件，并实现该文件与一个程序变量的关联，`open()`函数格式如下：\n",
    "```python\n",
    "<变量名> = open(<文件名>, <打开模式>)\n",
    "```\n",
    "* `open()`函数的两个参数：\n",
    "    * 文件名：文件名可以是文件的实际名字，也可以是包含完整路径的名字。\n",
    "    * 打开模式：用于控制使用何种方式打开文件。\n",
    "\n",
    "|打开模式|含义|\n",
    "|:-:|:-:|\n",
    "|`'r'`|只读模式，如果文件不存在，返回异常`FileNotFoundError`，默认值|\n",
    "|`'w'`|覆盖写模式，文件不存在则创建，存在则完全覆盖|\n",
    "|`'x'`|创建写模式，文件不存在则创建，存在则返回异常`FileExistsError`|\n",
    "|`'a'`|追加写模式，文件不存在则创建，存在则在文件最后追加内容|\n",
    "|`'b'`|二进制文件模式|\n",
    "|`'t'`|文本文件模式，默认值|\n",
    "|`'+'`|与r/w/x/a一同使用，在原功能基础上增加同时读写功能|"
   ]
  },
  {
   "cell_type": "markdown",
   "metadata": {},
   "source": [
    "* 上述打开模式r/w/x/b可以与b/t/+组合使用，形成既表达读写又表达文件模式的方式。 \n",
    "```python\n",
    "f = open(\"f.txt\") #文本形式、只读模式、默认值\n",
    "f = open(\"f.txt\", \"rt\") #文本形式、只读模式、同默认值\n",
    "f = open(\"f.txt\", \"w\") #文本形式、覆盖写模式\n",
    "f = open(\"f.txt\", \"a+\") #文本形式、追加写模式+读文件\n",
    "f = open(\"f.txt\", \"x\") #文本形式、创建写模式\n",
    "f = open(\"f.txt\", \"b\") #二进制形式、只读模式\n",
    "f = open(\"f.txt\", \"wb\") #二进制形式、覆盖写模式\n",
    "```\n",
    "\n",
    "### 7.1.3 文件的读写\n",
    "\n",
    "* 文件内容读取方法\n",
    "\n",
    "|操作方法|含义|\n",
    "|:-:|:-:|\n",
    "|`<file>.readall()`|读入整个文件内容，返回一个字符串或字节流|\n",
    "|`<file>.read(size=-1)`|从文件中读入整个文件内容，如果给出参数，读入前`size`长度的字符串或字节流|\n",
    "|`<file>.readline(size=-1)`|从文件中读入一行内容，如果给出参数，读入该行前`size`长度的字符串或字节流|\n",
    "|`<file>.readlines(hint=-1)`|从文件中读入所有行，以每行为元素形成一个列表，如果给出参数，读入`hint`行|\n",
    "\n",
    ">**实例**：文本文件逐行打印\n",
    "```python\n",
    "fname = input(\"请输入要打开的文件：\")\n",
    "fo = open(fname, \"r\")\n",
    "for line in fo.readlines():\n",
    "    print(line)\n",
    "fo.close()\n",
    "```\n",
    "文件的全部内容通过`fo.readlines()`方法读入到一个列表中，列表的每个元素是文件一行的内容，然后通过`for-in`方式遍历列表，处理每行内容。\n",
    "\n",
    "* 当读入文件非常大时，上面的代码一次性讲内容读取到列表中会占用很多内存，影响程序的执行速度，可以逐行读入内容到内存并逐行处理。\n",
    "```python\n",
    "fname = input(\"请输入要打开的文件：\")\n",
    "fo = open(fname, \"r\")\n",
    "for line in fo:\n",
    "    print(line)\n",
    "fo.close()\n",
    "```\n",
    "\n",
    "* Python提供3个与文件内容写入有关的方法\n",
    "\n",
    "|方法|含义|\n",
    "|:-:|:-:|\n",
    "|`<file>.write(s)`|向文件写入一个字符串或字节流|\n",
    "|`<file>.writelines(lines)`|将一个元素全为字符串的列表写入文件|\n",
    "|`<file>.seek(offset)`|改变当前文件操作指针的位置，offset的值：0-文件开头，1-当前位置，2-文件结尾|"
   ]
  },
  {
   "cell_type": "code",
   "execution_count": 1,
   "metadata": {},
   "outputs": [
    {
     "name": "stdout",
     "output_type": "stream",
     "text": [
      "请输入要写入的文件：test.txt\n"
     ]
    }
   ],
   "source": [
    "fname = input(\"请输入要写入的文件：\")\n",
    "fo = open(\"../file/\"+fname, \"w+\")\n",
    "ls = [\"唐诗\", \"宋词\", \"元曲\"]\n",
    "fo.writelines(ls)\n",
    "for line in fo:\n",
    "    print(line)\n",
    "fo.close()"
   ]
  },
  {
   "cell_type": "markdown",
   "metadata": {},
   "source": [
    "* 上面的代码我们发现并没有输出test.txt文件中的内容\n",
    "* 可以在写入文件后增加一条代码`fo.seek(0)`，将文件操作指针返回到文件开始。"
   ]
  },
  {
   "cell_type": "code",
   "execution_count": 2,
   "metadata": {},
   "outputs": [
    {
     "name": "stdout",
     "output_type": "stream",
     "text": [
      "请输入要写入的文件：test.txt\n",
      "唐诗宋词元曲\n"
     ]
    }
   ],
   "source": [
    "fname = input(\"请输入要写入的文件：\")\n",
    "fo = open(\"../file/\"+fname, \"w+\")\n",
    "ls = [\"唐诗\", \"宋词\", \"元曲\"]\n",
    "fo.writelines(ls)\n",
    "fo.seek(0)\n",
    "for line in fo:\n",
    "    print(line)\n",
    "fo.close()"
   ]
  },
  {
   "cell_type": "markdown",
   "metadata": {},
   "source": [
    "* 这里还要注意`fo.writelines()`方法并不在列表后面增加换行，只是将列表内容直接排列输出。"
   ]
  },
  {
   "cell_type": "markdown",
   "metadata": {},
   "source": [
    "### 7.2.1 PIL库概述\n",
    "* Anaconda全家桶已经装好了pillow包，因此不需要像教材中那样安装，可以直接用。\n",
    "* PIL库支持图像存储、显示和处理，几乎支持所有图片格式，可以完成对图像的缩放、剪裁、叠加以及向图像添加线条、图像和文字等操作。\n",
    "* PIL库主要可以实现图像归档和图像处理两方面功能：\n",
    "    * 图像归档：对图像进行批处理、生成图像预览、图像格式转换等。\n",
    "    * 图像处理：图像基本处理、像素处理、颜色处理等。\n",
    "* PIL库的详细参考文档链接如下：[Pillow](https://pillow.readthedocs.io/en/stable/)\n",
    "* 任何一个图像文件都可以用PIL包中的Image对象表示。\n",
    "\n",
    "### 7.2.2 PIL库Image类解析\n",
    "\n",
    "* Image类的图像读取和创建方法\n",
    "\n",
    "|方法|描述|\n",
    "|:-:|:-:|\n",
    "|Image.open(filename)|根据参数加载图像文件|\n",
    "|Image.new(mode, size, color)|根据给定参数创建一个新的图像|\n",
    "|Image.open(StringIO.StringIO(buffer))|从字符串中获取图像|\n",
    "|Image.frombytes(mode, size, data)|根据像素点`data`创建图像|\n",
    "|Image.verify()|对图像文件完整性进行检查，返回异常|\n",
    "\n"
   ]
  },
  {
   "cell_type": "code",
   "execution_count": 4,
   "metadata": {},
   "outputs": [
    {
     "name": "stdout",
     "output_type": "stream",
     "text": [
      "JPEG (641, 350) RGB\n"
     ]
    }
   ],
   "source": [
    "from PIL import Image\n",
    "im = Image.open(\"../picture/birdnest.jpg\")\n",
    "im.show()\n",
    "print(im.format, im.size, im.mode)"
   ]
  },
  {
   "cell_type": "markdown",
   "metadata": {},
   "source": [
    "* Image类有4个处理图片的常用属性\n",
    "\n",
    "|属性|描述|\n",
    "|:-:|:-:|\n",
    "|`Image.format`|标识图象格式或来源，如果图象不是从文件读取，值为None|\n",
    "|`Image.mode`|图像的色彩模式，“L”为灰度图像，“RGB”为真彩色图像，“CMYK”为出版图像|\n",
    "|`Image.size`|图像宽度和高度，单位是像素（px），返回值是二元元组（tuple）|\n",
    "|`Image.palette`|调色板属性，返回一个`ImagePalette`类型|\n",
    "\n",
    "* Image还可以读取序列类图像文件，包括GIF、FLI、FLC、TIFF等格式文件。\n",
    "    * `open()`方法打开一个图像时自动加载序列中的第一帧。\n",
    "    * 使用`seek()`和`tell()`方法可以在不同帧之间移动。\n",
    "* Image类的序列图像操作方法\n",
    "\n",
    "|方法|描述|\n",
    "|:-:|:-:|\n",
    "|`Image.seek(frame)`|跳转并返回图像中的指定帧|\n",
    "|`Image.tell()`|返回当前帧的序号|"
   ]
  },
  {
   "cell_type": "code",
   "execution_count": 5,
   "metadata": {},
   "outputs": [
    {
     "name": "stdout",
     "output_type": "stream",
     "text": [
      "处理结束\n"
     ]
    }
   ],
   "source": [
    "from PIL import Image\n",
    "im = Image.open(\"../picture/mario.gif\") # 读入GIF文件\n",
    "try:\n",
    "    im.save(\"C:/Users/yuang/Desktop/gifframes/picframe{:02d}.png\".format(im.tell()))\n",
    "    while True:\n",
    "        im.seek(im.tell()+1)\n",
    "        im.save(\"C:/Users/yuang/Desktop/gifframes/picframe{:02d}.png\".format(im.tell()))\n",
    "except:\n",
    "    print(\"处理结束\")"
   ]
  },
  {
   "cell_type": "markdown",
   "metadata": {},
   "source": [
    "* Image类的图像转换和保存方法\n",
    "\n",
    "|方法|描述|\n",
    "|:-:|:-:|\n",
    "|`Image.save(filename, format)`|将图像保存为`filename`文件名，`fromat`是图片格式|\n",
    "|`Image.convert(mode)`|使用不同的参数，转换图像为新的模式|\n",
    "|`Image.thumbnail(size)`|创建图像的缩略图，`size`是缩略图尺寸的二元元组|\n",
    "\n",
    "* 搭配采用`open()`和`save()`方法可以实现图像的格式转换"
   ]
  },
  {
   "cell_type": "code",
   "execution_count": 2,
   "metadata": {},
   "outputs": [],
   "source": [
    "from PIL import Image\n",
    "im = Image.open(\"../picture/birdnest.jpg\")\n",
    "im.save(\"../picture/birdnest.png\")"
   ]
  },
  {
   "cell_type": "markdown",
   "metadata": {},
   "source": [
    "* 生成图像的缩率图"
   ]
  },
  {
   "cell_type": "code",
   "execution_count": 5,
   "metadata": {},
   "outputs": [],
   "source": [
    "from PIL import Image\n",
    "im = Image.open(\"../picture/birdnest.jpg\")\n",
    "# thumbnail()方法按比例缩小，size参数只规定修改后size的最大值。\n",
    "im.thumbnail((128,128))\n",
    "im.save(\"../picture/birdnestTN.jpg\")"
   ]
  },
  {
   "cell_type": "markdown",
   "metadata": {},
   "source": [
    "![](../picture/birdnest.jpg)\n",
    "\n",
    "![](../picture/birdnestTN.jpg)\n",
    "\n",
    "\n",
    "* Image类的图像旋转和缩放方法"
   ]
  },
  {
   "cell_type": "markdown",
   "metadata": {},
   "source": [
    "|方法|描述|\n",
    "|:-:|:-:|\n",
    "|`Image.resize(size)`|按size大小调整图像，生成副本|\n",
    "|`Image.rotate(angle)`|按angle角度旋转图像，生成副本|"
   ]
  },
  {
   "cell_type": "markdown",
   "metadata": {},
   "source": [
    "* Image类的图像像素和通道处理方法\n",
    "\n",
    "|方法|描述|\n",
    "|:-:|:-:|\n",
    "|`Image.point(func)`|根据函数func的功能对每个元素进行运算，返回图像副本|\n",
    "|`Image.split()`|根据RGB图像的每个颜色通道，返回图像副本|\n",
    "|`Image.merge(mode, bands)`|合并通道，其中mode表示色彩，bands表示新的色彩通道|\n",
    "|`Image.blend(im1, im2, alpha)`|将两幅图片im1和im2按照公式im1 * (1.0 - alpha) + im2 * alpha插值后生成新的图像|\n"
   ]
  },
  {
   "cell_type": "markdown",
   "metadata": {},
   "source": [
    ">**实例**：图像的颜色交换。"
   ]
  },
  {
   "cell_type": "code",
   "execution_count": 2,
   "metadata": {},
   "outputs": [],
   "source": [
    "from PIL import Image\n",
    "im = Image.open(\"../picture/birdnest.jpg\")\n",
    "r, g, b = im.split()\n",
    "om = Image.merge(\"RGB\", (b, g, r))\n",
    "om.save(\"../picture/birdnestBGR.jpg\")"
   ]
  },
  {
   "cell_type": "markdown",
   "metadata": {},
   "source": [
    "![](../picture/birdnest.jpg)\n",
    "\n",
    "![birdnestBGR](../picture/birdnestBGR.jpg)\n",
    "\n",
    "* 操作图像的每个像素点需要通过函数实现，可以采用lambda函数和point()方法。"
   ]
  },
  {
   "cell_type": "code",
   "execution_count": 4,
   "metadata": {},
   "outputs": [],
   "source": [
    "from PIL import Image\n",
    "im = Image.open(\"../picture/birdnest.jpg\") # 打开图片文件\n",
    "r, g, b = im.split() # 获得RGB通道数据\n",
    "newg = g.point(lambda i:i*0.9) # 将G通道颜色值变为原来的0.9倍\n",
    "newb = b.point(lambda i:i<100) # 选择B通道值低于100的像素点\n",
    "om = Image.merge(im.mode, (r, newg, newb)) # 将3个通道合成为新图像\n",
    "om.save(\"../picture/birdnestMerge.jpg\") # 输出图片"
   ]
  },
  {
   "cell_type": "markdown",
   "metadata": {},
   "source": [
    "![](../picture/birdnest.jpg)\n",
    "\n",
    "![birdnestMerge](../picture/birdnestMerge.jpg)\n",
    "\n",
    "### 7.2.3 图像的过滤和增强\n",
    "\n",
    "* PIL库的`ImageFilter`类提供的预定义过滤方法\n",
    "\n",
    "|方法表示|描述|\n",
    "|:-:|:-:|\n",
    "|`ImageFilter.BLUR`|图像的模糊效果|\n",
    "|`ImageFilter.CONTOUR`|图像的轮廓效果|\n",
    "|`ImageFilter.DETAIL`|图像的细节效果|\n",
    "|`ImageFilter.EDGE_ENHANCE`|图像的边界加强效果|\n",
    "|`ImageFilter.EDGE_ENHANCE_MORE`|图像的阈值边界加强效果|\n",
    "|`ImageFilter.EMBOSS`|图像的浮雕效果|\n",
    "|`ImageFilter.FIND_EDGES`|图像的边界效果|\n",
    "|`ImageFilter.SMOOTH`|图像的平滑效果|\n",
    "|`ImageFilter.SMOOTH_MORE`|图像的阈值平滑效果|\n",
    "|`ImageFilter.SHARPEN`|图像的锐化效果|\n",
    "\n",
    "* 利用`Image`类的`filter()`方法可以使用`ImageFilter`类，语法格式如下：\n",
    "\n",
    "```python\n",
    "Image.filter(ImageFilter.function)\n",
    "```"
   ]
  },
  {
   "cell_type": "markdown",
   "metadata": {},
   "source": [
    ">**实例**：图像的轮廓获取"
   ]
  },
  {
   "cell_type": "code",
   "execution_count": 6,
   "metadata": {},
   "outputs": [],
   "source": [
    "from PIL import Image\n",
    "from PIL import ImageFilter\n",
    "im = Image.open(\"../picture/birdnest.jpg\")\n",
    "om = im.filter(ImageFilter.CONTOUR)\n",
    "om.save(\"../picture/birdnestContour.jpg\")"
   ]
  },
  {
   "cell_type": "markdown",
   "metadata": {},
   "source": [
    "![birdnest](../picture/birdnest.jpg)\n",
    "\n",
    "![birdnestContour](../picture/birdnestContour.jpg)"
   ]
  },
  {
   "cell_type": "markdown",
   "metadata": {},
   "source": [
    "* `ImageEnhance`类提供了更高级的图像增强功能，调整色彩度、亮度、对比度、锐化等。\n",
    "\n",
    "|方法|描述|\n",
    "|:-:|:-:|\n",
    "|`ImageEnhance.enhance(factor)`|对选择属性的数值增强`factor`倍|\n",
    "|`ImageEnhance.Color(im)`|调整图像的颜色平衡|\n",
    "|`ImageEnhance.Contrast(im)`|调整图像的对比度|\n",
    "|`ImageEnhance.Brightness(im)`|调整图像的亮度|\n",
    "|`ImageEnhance.Sharpness(im)`|调整图像的锐度|"
   ]
  },
  {
   "cell_type": "markdown",
   "metadata": {},
   "source": [
    ">**实例**：图像的对比度增强"
   ]
  },
  {
   "cell_type": "code",
   "execution_count": 8,
   "metadata": {},
   "outputs": [],
   "source": [
    "# 增强图像的对比度为初始的20倍\n",
    "from PIL import Image\n",
    "from PIL import ImageEnhance\n",
    "im = Image.open(\"../picture/birdnest.jpg\")\n",
    "om = ImageEnhance.Contrast(im)\n",
    "om.enhance(20).save(\"../picture/birdnestEnContrast.jpg\")"
   ]
  },
  {
   "cell_type": "markdown",
   "metadata": {},
   "source": [
    "![birdnest](../picture/birdnest.jpg)\n",
    "\n",
    "![birdnestEnContrast](../picture/birdnestEnContrast.jpg)\n",
    "\n",
    "## 7.3 实例：图像的字符画绘制"
   ]
  },
  {
   "cell_type": "code",
   "execution_count": 26,
   "metadata": {},
   "outputs": [],
   "source": [
    "from PIL import Image\n",
    "ascii_char = list('\"$%_&WM#*oahkbdpqwmZO0QLCJUYXzcvunxrjft/\\|()1{}[]?-/+@<>i!;:,\\^`.')\n",
    "def get_char(r, b, g, alpha=256):\n",
    "    if alpha == 0:\n",
    "        return ' '\n",
    "    gray = int(0.2126 * r + 0.7152 * g + 0.0722 * b)\n",
    "    unit = 256 / len(ascii_char)\n",
    "    return ascii_char[int(gray//unit)]\n",
    "def main():\n",
    "    im = Image.open(\"../picture/bingdundun.png\")\n",
    "    WIDTH, HEIGHT = 1000, 600\n",
    "    im = im.resize((WIDTH, HEIGHT))\n",
    "    txt = \"\"\n",
    "    for i in range(HEIGHT):\n",
    "        for j in range(WIDTH):\n",
    "            txt += get_char(*im.getpixel((j, i)))\n",
    "        txt += '\\n'\n",
    "    fo = open(\"../file/pic_char.txt\",\"w\")\n",
    "    fo.write(txt)\n",
    "    fo.close()\n",
    "main()"
   ]
  },
  {
   "cell_type": "markdown",
   "metadata": {},
   "source": [
    "## 7.4 一二维数据的格式化和处理\n",
    "### 7.4.1 数据组织的维度\n",
    "* **一维数据**：由对应关系的有序或无序数据构成，采用线性方式组织，对应于数学中的数组和集合等概念。\n",
    "\n",
    ">**实例**：国际经济合作论坛20国集团的成员，中国、美国、日本、德国、法国、英国、意大利、加拿大、俄罗斯、欧盟、澳大利亚、南非、阿根廷、巴西、印度、印度尼西亚、墨西哥、沙特阿拉伯、土耳其、韩国。\n",
    "\n",
    "* **二维数据**：也称表格数据，由关联关系数据构成，采用表格方式组织，对应于数据中的矩阵，常见的表格都属于二维数据。\n",
    "\n",
    ">**实例**：2016年7月部分大/中城市新建住宅价格指数。\n",
    "\n",
    "|城市|环比|同比|定基|\n",
    "|:-:|:-:|:-:|:-:|\n",
    "|北京|101.5|120.7|121.4|\n",
    "|上海|101.2|127.3|127.8|\n",
    "|广州|101.3|119.4|120.0|\n",
    "|深圳|102.0|140.9|145.5|\n",
    "|沈阳|100.1|101.4|101.6|\n",
    "\n",
    "* **高维数据**：由键值对类型的数据构成，采用对象方式组织，属于整合度更好的数据组织方式。常见的高维数据组织的语法格式包括，HTML、XML和JSON等。\n",
    "\n",
    ">**实例**：描述教材作者的JSON格式数据。\n",
    "\n",
    "```python\n",
    "{\n",
    "    \"本书作者\": \n",
    "        [\n",
    "            {\n",
    "                \"姓氏\": \"嵩\"，\n",
    "                \"名字\": \"天\"，\n",
    "                \"单位\": \"北京理工大学\"\n",
    "            },\n",
    "            {\n",
    "                \"姓氏\": \"礼\"，\n",
    "                \"名字\": \"欣\"，\n",
    "                \"单位\": \"北京理工大学\"\n",
    "            },\n",
    "            {\n",
    "                \"姓氏\": \"黄\"，\n",
    "                \"名字\": \"天羽\"，\n",
    "                \"单位\": \"北京理工大学\"\n",
    "            }\n",
    "        ]\n",
    "}\n",
    "```\n",
    "\n",
    "### 7.4.2 一二维数据的存储格式\n",
    "* 一维数据的存储格式：\n",
    "    * 用一个或多个空格分隔。\n",
    "    ```python\n",
    "    中国 美国 日本 德国 法国 英国 意大利\n",
    "    ```\n",
    "    * 用逗号分隔，需要注意逗号是英文输入法中的半角逗号，不是中文逗号。\n",
    "    ```python\n",
    "    中国,美国,日本,德国,法国,英国,意大利\n",
    "    ```\n",
    "    * 用其他符号或符号组合分隔，建议采用不出现在数据中的特殊符号。\n",
    "    ```python\n",
    "    中国;美国;日本;德国;法国;英国;意大利\n",
    "    ```\n",
    "* 二维数据的存储格式：\n",
    "    * 逗号分隔数值的存储格式，也称CSV格式（Comma-Separated Values）。\n",
    "        * 纯文本格式，通过单一编码表示字符。\n",
    "        * 以行为单位，开头不留空行，行之间没有空行。\n",
    "        * 每行表示一个一维数据，多行表示二维数据。\n",
    "        * 以逗号（英文，半角）分隔每列数据，列数据为空也要保留逗号。\n",
    "        * 对于表格数据，可以包含或不包含列名，包含时列名放置在文件第一行。\n",
    "    * 上面的**2016年7月部分大/中城市新建住宅价格指数**表格采用CSV格式存储后的内容如下：\n",
    "    ```python\n",
    "    城市,环比,同比,定基\n",
    "    北京,101.5,120.7,121.4\n",
    "    上海,101.2,127.3,127.8\n",
    "    广州,101.3,119.4,120.0\n",
    "    深圳,102.0,140.9,145.5\n",
    "    沈阳,100.1,101.4,101.6\n",
    "    ```\n",
    "    * CSV格式存储的文件一般采用.csv为扩展名\n",
    "        * 记事本\n",
    "        * Microsoft Office Excel\n",
    "        * Python的csv标准库：[官方文档](https://docs.python.org/zh-cn/3/library/csv.html)\n",
    "\n",
    "### 7.4.3 一二维数据的表示和读写\n",
    "* CSV文件的内容可以由一个二维列表表示。\n",
    "```python\n",
    "[\n",
    "    [\"城市\",\"环比\",\"同比\",\"定基\"],\n",
    "    [\"北京\",\"101.5\",\"120.7\",\"121.4\"],\n",
    "    [\"上海\",\"101.2\",\"127.3\",\"127.8\"],\n",
    "    [\"广州\",\"101.3\",\"119.4\",\"120.0\"],\n",
    "    [\"深圳\",\"102.0\",\"140.9\",\"145.5\"],\n",
    "    [\"沈阳\",\"100.1\",\"101.4\",\"101.6\"],\n",
    "]\n",
    "```"
   ]
  },
  {
   "cell_type": "markdown",
   "metadata": {},
   "source": [
    ">**实例**：导入CSV格式数据到列表。"
   ]
  },
  {
   "cell_type": "code",
   "execution_count": 21,
   "metadata": {},
   "outputs": [
    {
     "name": "stdout",
     "output_type": "stream",
     "text": [
      "[['城市', '环比', '同比', '定基'], ['北京', '101.5', '120.7', '121.4'], ['上海', '101.2', '127.3', '127.8'], ['广州', '101.3', '119.4', '120'], ['深圳', '102', '140.9', '145.5'], ['沈阳', '100.1', '101.4', '101.6']]\n"
     ]
    }
   ],
   "source": [
    "fo = open(\"../file/price2016.csv\", \"r\")\n",
    "ls = []\n",
    "for line in fo:\n",
    "    line = line.replace(\"\\n\",\"\")\n",
    "    ls.append(line.split(\",\"))\n",
    "print(ls)\n",
    "fo.close()"
   ]
  },
  {
   "cell_type": "markdown",
   "metadata": {},
   "source": [
    ">**实例**：逐行处理CSV格式数据。"
   ]
  },
  {
   "cell_type": "code",
   "execution_count": 22,
   "metadata": {},
   "outputs": [
    {
     "name": "stdout",
     "output_type": "stream",
     "text": [
      "城市\t环比\t同比\t定基\t\n",
      "北京\t101.5\t120.7\t121.4\t\n",
      "上海\t101.2\t127.3\t127.8\t\n",
      "广州\t101.3\t119.4\t120\t\n",
      "深圳\t102\t140.9\t145.5\t\n",
      "沈阳\t100.1\t101.4\t101.6\t\n"
     ]
    }
   ],
   "source": [
    "fo = open(\"../file/price2016.csv\", \"r\")\n",
    "ls = []\n",
    "for line in fo:\n",
    "    line = line.replace(\"\\n\",\"\")\n",
    "    ls = line.split(\",\")\n",
    "    lns = \"\"\n",
    "    for s in ls:\n",
    "        lns += \"{}\\t\".format(s)\n",
    "    print(lns)\n",
    "fo.close()"
   ]
  },
  {
   "cell_type": "markdown",
   "metadata": {},
   "source": [
    " >**实例**：一维数据写入CSV文件。"
   ]
  },
  {
   "cell_type": "code",
   "execution_count": 28,
   "metadata": {},
   "outputs": [],
   "source": [
    "fo = open(\"../file/price2016bj.csv\", \"w\")\n",
    "ls = [\"北京\", \"101.5\", \"120.7\", \"121.4\"]\n",
    "fo.write(\",\".join(ls) + \"\\n\")\n",
    "fo.close()"
   ]
  },
  {
   "cell_type": "markdown",
   "metadata": {},
   "source": [
    ">**实例**：二维数据写入CSV文件。"
   ]
  },
  {
   "cell_type": "code",
   "execution_count": 29,
   "metadata": {},
   "outputs": [
    {
     "name": "stdout",
     "output_type": "stream",
     "text": [
      "['城市', '环比', '同比', '定基']\n",
      "['北京', '1.0%', '1.2%', '1.2%']\n",
      "['上海', '1.0%', '1.3%', '1.3%']\n",
      "['广州', '1.0%', '1.2%', '1.2%']\n",
      "['深圳', '1.0%', '1.4%', '1.5%']\n",
      "['沈阳', '1.0%', '1.0%', '1.0%']\n"
     ]
    }
   ],
   "source": [
    "fr = open(\"../file/price2016.csv\", \"r\")\n",
    "fw = open(\"../file/price2016out.csv\", \"w\")\n",
    "ls = []\n",
    "for line in fr: #将CSV 文件中的二维数据读入到列表变量\n",
    "    line = line.replace(\"\\n\",\"\")\n",
    "    ls.append(line.split(\",\"))\n",
    "for i in range(len(ls)): #遍历列表变量计算百分数\n",
    "    for j in range(len(ls[i])):\n",
    "        if ls[i][j].replace(\".\",\"\").isnumeric():\n",
    "            ls[i][j] = \"{:.2}%\".format(float(ls[i][j])/100)\n",
    "for row in ls: #将列表变量中的二位数据输出到CSV 文件\n",
    "    print(row)\n",
    "    fw.write(\",\".join(row)+\"\\n\")\n",
    "fr.close()\n",
    "fw.close()"
   ]
  },
  {
   "cell_type": "markdown",
   "metadata": {},
   "source": [
    "## 7.5 实例：CSV格式的HTML展示"
   ]
  },
  {
   "cell_type": "code",
   "execution_count": 30,
   "metadata": {},
   "outputs": [],
   "source": [
    "seg1 = '''\n",
    "<!DOCTYPE HTML>\\n<html>\\n<body>\\n<meta charset=gb2312>\n",
    "<h2 align=center>2016年7月部分大中城市新建住宅价格指数</h2>\n",
    "<table border='1' align=\"center\" width=70%>\n",
    "<tr bgcolor='orange'>\\n'''\n",
    "seg2 = \"</tr>\\n\"\n",
    "seg3 = \"</table>\\n</body>\\n</html>\"\n",
    "def fill_data(locls):\n",
    "    seg = '<tr><td align=\"center\">{}</td><td align=\"center\">{}</td><td align=\"center\">{}</td><td align=\"center\">{}</td></tr>\\n'.format(*locls)\n",
    "    return seg\n",
    "fr = open(\"../file/price2016.csv\", \"r\")\n",
    "ls = []\n",
    "for line in fr:\n",
    "    line = line.replace(\"\\n\",\"\")\n",
    "    ls.append(line.split(\",\"))\n",
    "fr.close()\n",
    "fw = open(\"../file/price2016.html\", \"w\")\n",
    "fw.write(seg1)\n",
    "fw.write('<th width=\"25%\">{}</th>\\n<th width=\"25%\">{}</th>\\n<th width=\"25%\">{}</th>\\n<th width=\"25%\">{}</th>\\n'.format(*ls[0]))\n",
    "fw.write(seg2)\n",
    "for i in range(len(ls)-1):\n",
    "    fw.write(fill_data(ls[i+1]))\n",
    "fw.write(seg3)\n",
    "fw.close()"
   ]
  },
  {
   "cell_type": "markdown",
   "metadata": {},
   "source": [
    "## 7.6 高维数据的格式化\n",
    "\n",
    "* 万维网（WWW）是一个复杂的数据组织体系。\n",
    "    * 通过HTML方式链接并展示不同类型数据内容。\n",
    "    * 采用XML或JSON格式表达键值对，形成数据间复杂的结构关系。\n",
    "* JSON格式可以对高维数据进行表达和存储。\n",
    "    * JSON（JavaScript Object Notation）是一种轻量级的数据交换格式，易于阅读和理解。\n",
    "    * JSON格式表达键值对`<key, value>`的基本格式如下。\n",
    "```python\n",
    "\"key\" : \"value\"\n",
    "```\n",
    "* 当多个键值对放在一起时，JSON有如下一些约定。\n",
    "    * 数据保存在键值对中。\n",
    "    * 键值对之间由逗号分隔。\n",
    "    * 大括号用于保存键值对数据组成的对象。\n",
    "    * 方括号用于保存键值对数据组成的数组。\n",
    "\n",
    ">**实例**：本书作者——JSON\n",
    "\n",
    "```python\n",
    "{\n",
    "\t\"本书作者\": [{\n",
    "\t\t\t\"姓氏\": \"嵩\",\n",
    "\t\t\t\"名字\": \"天\",\n",
    "\t\t\t\"单位\": \"北京理工大学\"\n",
    "\t\t},\n",
    "\t\t{\n",
    "\t\t\t\"姓氏\": \"礼\",\n",
    "\t\t\t\"名字\": \"欣\",\n",
    "\t\t\t\"单位\": \"北京理工大学\"\n",
    "\t\t},\n",
    "\t\t{\n",
    "\t\t\t\"姓氏\": \"黄\",\n",
    "\t\t\t\"名字\": \"天羽\",\n",
    "\t\t\t\"单位\": \"北京理工大学\"\n",
    "\t\t}\n",
    "\t]\n",
    "}\n",
    "```\n",
    "\n",
    ">**实例**：本书作者——XML\n",
    "\n",
    "```python\n",
    "<?xml version=\"1.0\" encoding=\"UTF-8\" ?>\n",
    "\t<本书作者>\n",
    "\t\t<姓氏>嵩</姓氏>\n",
    "\t\t<名字>天</名字>\n",
    "\t\t<单位>北京理工大学</单位>\n",
    "\t</本书作者>\n",
    "\t<本书作者>\n",
    "\t\t<姓氏>礼</姓氏>\n",
    "\t\t<名字>欣</名字>\n",
    "\t\t<单位>北京理工大学</单位>\n",
    "\t</本书作者>\n",
    "\t<本书作者>\n",
    "\t\t<姓氏>黄</姓氏>\n",
    "\t\t<名字>天羽</名字>\n",
    "\t\t<单位>北京理工大学</单位>\n",
    "\t</本书作者>\n",
    "```\n",
    "\n",
    "* [JSON的在线工具](https://www.bejson.com/)：提供了格式校验、不同格式互转等功能。"
   ]
  },
  {
   "cell_type": "markdown",
   "metadata": {},
   "source": [
    "## 7.7 JSON库的使用\n",
    "### 7.7.1 JSON库概述\n",
    "* `json`库是处理JSON格式的Python标准库，使用前需要导入：\n",
    "\n",
    "```python\n",
    "import json\n",
    "```\n",
    "\n",
    "* `json`库包括两类函数：\n",
    "    * 操作类函数：完成外部JSON格式和程序内部数据类型之间的转换功能。\n",
    "    * 解析类函数：解析键值对内容。\n",
    "    \n",
    "* `json`格式包括对象和数组：\n",
    "    * 大括号`{}`：键值对的组合关系。\n",
    "    * 方括号`[]`：键值对的对等关系。\n",
    "* `json`格式与Python数据格式的对应关系：\n",
    "    * `json`格式的“对象”：Python中的“字典”。\n",
    "    * `json`格式的“数组”：Python中的“列表”。\n",
    "\n",
    "### 7.7.2 json库解析\n",
    "* `json`库包含两个过程：\n",
    "    * 编码（encoding）——序列化：将Python数据类型变换成JSON格式的过程。\n",
    "    * 解码（decoding）——反序列化：从JSON格式中解析数据对应到Python数据类型。\n",
    "\n",
    "* json库的操作类函数\n",
    "\n",
    "|函数|描述|\n",
    "|:-:|:-:|\n",
    "|`json.dumps(obj, sort_keys=False,indent=None)`|将Python的数据类型转换为JSON格式，编码过程|\n",
    "|`json.loads(string)`|将JSON格式字符串转换为Python的数据类型，解码过程|\n",
    "|`json.dump(obj,fp,sort_keys=False,indent=None)`|与`dumps()`功能一致，输出到文件`fp`|\n",
    "|`json.load(fp)`|与`loads()`功能一致，从文件fp读入|\n",
    "\n",
    "* `json.dumps()`：\n",
    "    * `obj`可以是Python的列表或字典类型。\n",
    "    * 输入字典类型时，`dumps()`函数将其变为JSON格式字符串。\n",
    "    * 默认生成的字符串是顺序存放的，`sort_keys`可以对字典元素按照`key`进行排序，控制输出结果。\n",
    "    * `indent`参数用于增加数据缩进，是的生成的JSON格式字符串更具有可读性。"
   ]
  },
  {
   "cell_type": "code",
   "execution_count": 1,
   "metadata": {},
   "outputs": [
    {
     "name": "stdout",
     "output_type": "stream",
     "text": [
      "{\"b\": 2, \"c\": 4, \"a\": 6}\n",
      "{\n",
      "    \"a\": 6,\n",
      "    \"b\": 2,\n",
      "    \"c\": 4\n",
      "}\n",
      "False\n",
      "{'a': 6, 'b': 2, 'c': 4} <class 'dict'>\n"
     ]
    }
   ],
   "source": [
    "import json\n",
    "dt = {'b':2,'c':4,'a':6}\n",
    "s1 = json.dumps(dt) # dumps返回JSON格式的字符串类型\n",
    "s2 = json.dumps(dt, sort_keys=True, indent=4)\n",
    "print(s1)\n",
    "print(s2)\n",
    "print(s1==s2)\n",
    "dt2=json.loads(s2)\n",
    "print(dt2, type(dt2))"
   ]
  },
  {
   "cell_type": "markdown",
   "metadata": {},
   "source": [
    "## 7.8 实例：CSV和JSON格式相互转换\n",
    "* 将CSV格式转换成JSON格式的代码如下："
   ]
  },
  {
   "cell_type": "code",
   "execution_count": 5,
   "metadata": {},
   "outputs": [],
   "source": [
    "import json\n",
    "fr = open(\"../file/price2016.csv\", \"r\")\n",
    "ls = []\n",
    "for line in fr:\n",
    "    line = line.replace(\"\\n\",\"\")\n",
    "    ls.append(line.split(','))\n",
    "fr.close()\n",
    "fw = open(\"../file/price2016.json\", \"w\")\n",
    "for i in range(1,len(ls)):\n",
    "    ls[i] = dict(zip(ls[0], ls[i]))\n",
    "json.dump(ls[1:],fw, sort_keys=True, indent=4)\n",
    "fw.close()"
   ]
  },
  {
   "cell_type": "markdown",
   "metadata": {},
   "source": [
    "* `zip()`是一个内置函数，能够将两个长度相同的列表组合成一个关系对，该函数非常适合于生成键值对。"
   ]
  },
  {
   "cell_type": "code",
   "execution_count": 4,
   "metadata": {},
   "outputs": [
    {
     "data": {
      "text/plain": [
       "[(1, 'a'), (2, 'b'), (3, 'c')]"
      ]
     },
     "execution_count": 4,
     "metadata": {},
     "output_type": "execute_result"
    }
   ],
   "source": [
    "x = [1, 2, 3]\n",
    "y = [\"a\", \"b\", \"c\"]\n",
    "list(zip(x, y))"
   ]
  },
  {
   "cell_type": "markdown",
   "metadata": {},
   "source": [
    "* 用VSCode打开我们生成的“price2016.json”会发现中文字符被替换成Unicode编码，`json`库默认采用Unicode编码处理非西文字符，主要避免网络传输中因编码方式不同带来的问题。\n",
    "\n",
    "![jsonzhjg](../picture/jsonzhjg.png)\n",
    "\n",
    "* 可以通过在`dumps()`函数中修改`ensure_ascii`参数默认值使`json`库输出中文字符。"
   ]
  },
  {
   "cell_type": "code",
   "execution_count": 6,
   "metadata": {},
   "outputs": [],
   "source": [
    "import json\n",
    "fr = open(\"../file/price2016.csv\", \"r\")\n",
    "ls = []\n",
    "for line in fr:\n",
    "    line = line.replace(\"\\n\",\"\")\n",
    "    ls.append(line.split(','))\n",
    "fr.close()\n",
    "fw = open(\"../file/price2016.json\", \"w\")\n",
    "for i in range(1,len(ls)):\n",
    "    ls[i] = dict(zip(ls[0], ls[i]))\n",
    "json.dump(ls[1:],fw, sort_keys=True, indent=4, ensure_ascii=False)\n",
    "fw.close()"
   ]
  },
  {
   "cell_type": "markdown",
   "metadata": {},
   "source": [
    "* 再打开“price2016.json”文件看一下，注意使用Windows自带的记事本打开，VSCode打开也会乱码。\n",
    "\n",
    "![jsonzhjgzw](../picture/jsonzhjgzw.png)"
   ]
  },
  {
   "cell_type": "markdown",
   "metadata": {},
   "source": [
    "* 将二维JSON格式数据转换成CSV格式数据的代码如下："
   ]
  },
  {
   "cell_type": "code",
   "execution_count": 7,
   "metadata": {},
   "outputs": [],
   "source": [
    "import json\n",
    "fr = open(\"../file/price2016.json\", \"r\")\n",
    "ls = json.load(fr)\n",
    "data = [ list(ls[0].keys()) ]\n",
    "for item in ls:\n",
    "    data.append(list(item.values()))\n",
    "fr.close()\n",
    "fw = open(\"../file/price2016_from_json.csv\", \"w\")\n",
    "for item in data:\n",
    "    fw.write(\",\".join(item) + \"\\n\")\n",
    "fw.close()"
   ]
  },
  {
   "attachments": {},
   "cell_type": "markdown",
   "metadata": {},
   "source": [
    "* 打开“price2016_from_json.csv”文件可以看到下面的结果。\n",
    "\n",
    "![json2csv](../picture/json2csv.png)\n",
    "\n",
    "* Python的数据类型转换函数\n",
    "\n",
    "|函数|描述|\n",
    "|:-:|:-:|\n",
    "|`int(x [,base])`|将字符串x转换为一个整数|\n",
    "|`float(x)`|将字符串x转换为一个浮点数|\n",
    "|`complex(real [,imag])`|根据real和imag创建一个浮点数|\n",
    "|`str(x)`|将对象x转换为字符串|\n",
    "|`repr(obj)`|将对象obj当作Python语句执行，返回结果的字符串形式|\n",
    "|`eval(str)`|计算字符串中的有效Python表达式，返回结果|\n",
    "|`tuple(s)`|将序列s转换为一个元组|\n",
    "|`list(s)`|将序列s转换为一个列表|\n",
    "|`chr(x)`|将一个整数转换为一个字符|\n",
    "|`unichr(x)`|将一个整数转换为Unicode字符|\n",
    "|`ord(x)`|将一个字符串转换为它的整数值|\n",
    "|`hex(x)`|将一个整数转换为一个十六进制字符串|\n",
    "|`oct(x)`|将一个整数转换为一个八进制字符串|\n"
   ]
  }
 ],
 "metadata": {
  "kernelspec": {
   "display_name": "Python 3",
   "language": "python",
   "name": "python3"
  },
  "language_info": {
   "codemirror_mode": {
    "name": "ipython",
    "version": 3
   },
   "file_extension": ".py",
   "mimetype": "text/x-python",
   "name": "python",
   "nbconvert_exporter": "python",
   "pygments_lexer": "ipython3",
   "version": "3.7.0"
  }
 },
 "nbformat": 4,
 "nbformat_minor": 2
}
