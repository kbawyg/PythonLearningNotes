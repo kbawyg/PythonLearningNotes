{
 "cells": [
  {
   "cell_type": "markdown",
   "metadata": {},
   "source": [
    "# 第8章 面向对象编程\n",
    "\n",
    "* 编程是对现实世界的模拟，如果让你来描述英雄联盟这款游戏，你会如何描述呢？\n",
    "\n",
    "![wzry](../picture/lolduiju.png)\n",
    "\n",
    "## 8.1 面向对象编程基础\n",
    "### 8.1.1 面向对象的核心概念\n",
    "* 类：模板，如游戏中的英雄和野怪。\n",
    "* 实例（对象）：用模板造出的对象。\n",
    "    * 英雄：阿卡丽、阿狸、伊芙琳、卡莎、萨勒芬妮等。\n",
    "    * 野怪：纳什男爵、巨龙、魔沼蛙、格鲁普、苍老雕文魔像等。\n",
    "* 属性：描述类的特征。\n",
    "    * 英雄：生命值、魔法值、攻击力、攻速、破甲、防御等。\n",
    "    * 野怪：生命值、刷新时间、地图位置、攻击力等。\n",
    "* 方法：描述类的行为。\n",
    "    * 英雄：移动、平A、施法、回城、召唤师技能。\n",
    "    * 野怪：移动、攻击\n",
    "\n",
    "### 8.1.2 面向过程和面向对象\n",
    "* 面向过程编程（Procedure Oriented Programming）\n",
    "    * 是一种以过程和任务为中心的编程思想。\n",
    "    * 通过一系列具体的步骤操作相关的数据，实现软件功能。\n",
    "* 面向对象编程（Object Oriented Programming）\n",
    "    * 是一种以对象为基础的编程思想。\n",
    "    * 把数据和操作封装到对象中，通过对象一系列的交互，实现软件功能。\n",
    "\n",
    ">**实例**：卡莎攻击纳什男爵"
   ]
  },
  {
   "cell_type": "code",
   "execution_count": 11,
   "metadata": {},
   "outputs": [
    {
     "name": "stdout",
     "output_type": "stream",
     "text": [
      "hero1 attacking creep1\n",
      "0.9\n",
      "creep1 attacking hero1\n",
      "0.8\n"
     ]
    }
   ],
   "source": [
    "# 英雄\n",
    "hero1_name = \"卡莎\"\n",
    "hero1_blood = 1.0\n",
    "hero1_power = 0.1\n",
    "\n",
    "# 野怪\n",
    "creep1_name = \"纳什男爵\"\n",
    "creep1_blood = 1.0\n",
    "creep1_power = 0.2\n",
    "\n",
    "# 英雄攻击野怪\n",
    "print(\"hero1 attacking creep1\")\n",
    "creep1_blood = creep1_blood - hero1_power\n",
    "print(creep1_blood)\n",
    "\n",
    "# 野怪攻击英雄\n",
    "print(\"creep1 attacking hero1\")\n",
    "hero1_blood = hero1_blood - creep1_power\n",
    "print(hero1_blood)"
   ]
  },
  {
   "cell_type": "markdown",
   "metadata": {},
   "source": [
    "### 8.1.3 最简单的类"
   ]
  },
  {
   "cell_type": "code",
   "execution_count": 12,
   "metadata": {},
   "outputs": [
    {
     "name": "stdout",
     "output_type": "stream",
     "text": [
      "卡莎\n"
     ]
    },
    {
     "ename": "AttributeError",
     "evalue": "'Hero' object has no attribute 'name'",
     "output_type": "error",
     "traceback": [
      "\u001b[1;31m---------------------------------------------------------------------------\u001b[0m",
      "\u001b[1;31mAttributeError\u001b[0m                            Traceback (most recent call last)",
      "\u001b[1;32m<ipython-input-12-75dfa47fdf3f>\u001b[0m in \u001b[0;36m<module>\u001b[1;34m()\u001b[0m\n\u001b[0;32m     14\u001b[0m \u001b[1;33m\u001b[0m\u001b[0m\n\u001b[0;32m     15\u001b[0m \u001b[0mprint\u001b[0m\u001b[1;33m(\u001b[0m\u001b[0mhero1\u001b[0m\u001b[1;33m.\u001b[0m\u001b[0mname\u001b[0m\u001b[1;33m)\u001b[0m\u001b[1;33m\u001b[0m\u001b[0m\n\u001b[1;32m---> 16\u001b[1;33m \u001b[0mprint\u001b[0m\u001b[1;33m(\u001b[0m\u001b[0mhero2\u001b[0m\u001b[1;33m.\u001b[0m\u001b[0mname\u001b[0m\u001b[1;33m)\u001b[0m\u001b[1;33m\u001b[0m\u001b[0m\n\u001b[0m",
      "\u001b[1;31mAttributeError\u001b[0m: 'Hero' object has no attribute 'name'"
     ]
    }
   ],
   "source": [
    "# 创建一个Hero类\n",
    "class Hero:\n",
    "    pass\n",
    "\n",
    "# 创建第1个英雄实例\n",
    "hero1 = Hero()\n",
    "\n",
    "# 创建第2个英雄实例\n",
    "hero2 = Hero()\n",
    "\n",
    "# 动态创建类的属性\n",
    "hero1.name = \"卡莎\"\n",
    "\n",
    "\n",
    "print(hero1.name)\n",
    "print(hero2.name)"
   ]
  },
  {
   "cell_type": "markdown",
   "metadata": {},
   "source": [
    "* 上述实例所反映的问题：\n",
    "    * Python支持动态的给对象创建类的属性，但是不推荐这种方法。\n",
    "    * 我们应该在创建类的时候定义好类的属性和方法。\n",
    "\n",
    "### 8.1.4 在init方法中添加属性"
   ]
  },
  {
   "cell_type": "code",
   "execution_count": 14,
   "metadata": {},
   "outputs": [
    {
     "name": "stdout",
     "output_type": "stream",
     "text": [
      "卡莎\n",
      "1.0\n",
      "0.1\n",
      "阿卡丽\n",
      "1.0\n",
      "0.15\n"
     ]
    }
   ],
   "source": [
    "# 创建一个Hero类\n",
    "class Hero:\n",
    "    # 构造方法\n",
    "    def __init__(self, name, blood, power):\n",
    "        self.name = name\n",
    "        self.blood = blood\n",
    "        self.power = power\n",
    "\n",
    "#创建第1个英雄实例\n",
    "hero1 = Hero(\"卡莎\", 1.0, 0.1)\n",
    "\n",
    "#创建第2个英雄实例\n",
    "hero2 = Hero(\"阿卡丽\", 1.0, 0.15)\n",
    "\n",
    "print(hero1.name)\n",
    "print(hero1.blood)\n",
    "print(hero1.power)\n",
    "print(hero2.name)\n",
    "print(hero2.blood)\n",
    "print(hero2.power)"
   ]
  },
  {
   "cell_type": "markdown",
   "metadata": {},
   "source": [
    "### 8.1.5 self和默认属性\n",
    "\n",
    "* `self`指代当前实例：\n",
    "    * 通过`self`访问当前实例的属性。\n",
    "    * 通过`self`调用当前实例的方法。\n",
    "* 默认属性：\n",
    "    * 对于`blood`这个属性，当创建一个对象时，从逻辑上将都是满血的。\n",
    "    * `blood`这个属性实际上不需要通过参数传进来，直接赋值为1即可。"
   ]
  },
  {
   "cell_type": "code",
   "execution_count": 6,
   "metadata": {},
   "outputs": [
    {
     "name": "stdout",
     "output_type": "stream",
     "text": [
      "卡莎\n",
      "1.0\n",
      "阿卡丽\n",
      "1.0\n"
     ]
    }
   ],
   "source": [
    "# 创建一个Hero类\n",
    "class Hero:\n",
    "    # 构造方法\n",
    "    def __init__(self, name, power):\n",
    "        self.name = name\n",
    "        self.blood = 1.0\n",
    "        self.power = power\n",
    "\n",
    "#创建第1个英雄实例\n",
    "hero1 = Hero(\"卡莎\", 0.1)\n",
    "\n",
    "#创建第2个英雄实例\n",
    "hero2 = Hero(\"阿卡丽\", 0.15)\n",
    "\n",
    "print(hero1.name)\n",
    "print(hero1.blood)\n",
    "print(hero2.name)\n",
    "print(hero2.blood)"
   ]
  },
  {
   "cell_type": "markdown",
   "metadata": {},
   "source": [
    "### 8.1.6 访问属性和修改属性\n",
    "* 访问属性的语法格式如下。\n",
    "```python\n",
    "<实例名>.<属性名>\n",
    "```\n",
    "* 修改属性使用赋值语句即可。"
   ]
  },
  {
   "cell_type": "code",
   "execution_count": 8,
   "metadata": {},
   "outputs": [
    {
     "name": "stdout",
     "output_type": "stream",
     "text": [
      "卡莎\n",
      "1.0\n",
      "0.1\n",
      "阿卡丽\n",
      "1.0\n",
      "0.15\n",
      "0.2\n"
     ]
    }
   ],
   "source": [
    "# 创建一个Hero类\n",
    "class Hero:\n",
    "    # 构造方法\n",
    "    def __init__(self, name, power):\n",
    "        self.name = name\n",
    "        self.blood = 1.0\n",
    "        self.power = power\n",
    "\n",
    "#创建第1个英雄实例\n",
    "hero1 = Hero(\"卡莎\", 0.1)\n",
    "\n",
    "#创建第2个英雄实例\n",
    "hero2 = Hero(\"阿卡丽\", 0.15)\n",
    "\n",
    "# 访问第1个英雄实例的属性\n",
    "print(hero1.name)\n",
    "print(hero1.blood)\n",
    "print(hero1.power)\n",
    "\n",
    "# 访问第2个英雄实例的属性\n",
    "print(hero2.name)\n",
    "print(hero2.blood)\n",
    "print(hero2.power)\n",
    "\n",
    "# 修改第1个英雄实例的属性\n",
    "hero1.power = 0.2\n",
    "print(hero1.power)"
   ]
  },
  {
   "cell_type": "markdown",
   "metadata": {},
   "source": [
    "### 8.1.7 创建实例\n",
    "* 通过构造方法来创建实例，且实例之间是相互独立的。\n",
    "* 每个实例在内存中都有自己的内存地址，在这个自己独享的内存区域内存储实例所包含的属性和方法。"
   ]
  },
  {
   "cell_type": "code",
   "execution_count": 9,
   "metadata": {},
   "outputs": [
    {
     "name": "stdout",
     "output_type": "stream",
     "text": [
      "1426459443776\n",
      "1426459443328\n"
     ]
    }
   ],
   "source": [
    "# 创建一个Hero类\n",
    "class Hero:\n",
    "    # 构造方法\n",
    "    def __init__(self, name, power):\n",
    "        self.name = name\n",
    "        self.blood = 1.0\n",
    "        self.power = power\n",
    "\n",
    "#创建第1个英雄实例\n",
    "hero1 = Hero(\"卡莎\", 0.1)\n",
    "\n",
    "#创建第2个英雄实例\n",
    "hero2 = Hero(\"阿卡丽\", 0.15)\n",
    "\n",
    "print(id(hero1))\n",
    "print(id(hero2))  "
   ]
  },
  {
   "cell_type": "markdown",
   "metadata": {},
   "source": [
    "### 8.1.8 添加和使用方法\n"
   ]
  },
  {
   "cell_type": "code",
   "execution_count": 15,
   "metadata": {},
   "outputs": [
    {
     "name": "stdout",
     "output_type": "stream",
     "text": [
      "卡莎的状态：\n",
      "我是卡莎，血量1.0，攻击力0.1。\n",
      "阿卡丽的状态：\n",
      "我是阿卡丽，血量1.0，攻击力0.15。\n",
      "阿卡丽的状态：\n",
      "我是阿卡丽，血量0.9，攻击力0.15。\n"
     ]
    }
   ],
   "source": [
    "# 创建一个Hero类\n",
    "class Hero:\n",
    "    # 构造方法\n",
    "    def __init__(self, name, power):\n",
    "        self.name = name\n",
    "        self.blood = 1.0\n",
    "        self.power = power\n",
    "    \n",
    "    # 查看英雄当前状态\n",
    "    def status(self):\n",
    "        print(\"我是{}，血量{}，攻击力{}。\".format(self.name, self.blood, self.power))\n",
    "        # print(f'我是{self.name}，血量{self.blood}，攻击力{self.power}。')\n",
    "\n",
    "    # 攻击：被攻击的英雄减少实施攻击英雄对应攻击力的血量\n",
    "    def attack(self, attacked_hero):\n",
    "        attacked_hero.blood = attacked_hero.blood - self.power\n",
    "        \n",
    "# 创建第1个英雄实例\n",
    "hero1 = Hero(\"卡莎\", 0.1)\n",
    "\n",
    "# 创建第2个英雄实例\n",
    "hero2 = Hero(\"阿卡丽\", 0.15)\n",
    "\n",
    "# 查看第1个英雄的状态\n",
    "print(hero1.name + \"的状态：\")\n",
    "hero1.status()\n",
    "\n",
    "# 查看第2个英雄的状态\n",
    "print(hero2.name + \"的状态：\")\n",
    "hero2.status()\n",
    "\n",
    "# 英雄1（卡莎）攻击英雄2（阿卡丽）\n",
    "hero1.attack(hero2)\n",
    "\n",
    "# 查看第2个英雄的状态\n",
    "print(hero2.name + \"的状态：\")\n",
    "hero2.status()"
   ]
  },
  {
   "cell_type": "markdown",
   "metadata": {},
   "source": [
    "### 8.1.9 通过方法改变属性"
   ]
  },
  {
   "cell_type": "code",
   "execution_count": 15,
   "metadata": {},
   "outputs": [
    {
     "name": "stdout",
     "output_type": "stream",
     "text": [
      "-11.0\n"
     ]
    }
   ],
   "source": [
    "# 创建一个Hero类\n",
    "class Hero:\n",
    "    # 构造方法\n",
    "    def __init__(self, name, power):\n",
    "        self.name = name\n",
    "        self.blood = 1.0\n",
    "        self.power = power\n",
    "    \n",
    "    # 查看英雄当前状态\n",
    "    def status(self):\n",
    "        print(\"我是{}，血量{}，攻击力{}。\".format(self.name, self.blood, self.power))\n",
    "\n",
    "    # 攻击：被攻击的英雄减少实施攻击英雄对应攻击力的血量\n",
    "    def attack(self, attacked_hero):\n",
    "        attacked_hero.blood = attacked_hero.blood - self.power\n",
    "        \n",
    "# 创建第1个英雄实例\n",
    "hero1 = Hero(\"卡莎\", 0.1)\n",
    "\n",
    "# 创建第2个英雄实例\n",
    "hero2 = Hero(\"阿卡丽\", 0.15)\n",
    "\n",
    "hero1.blood = hero1.blood - 4\n",
    "hero1.blood = hero1.blood - 4\n",
    "hero1.blood = hero1.blood - 4\n",
    "\n",
    "print(hero1.blood)"
   ]
  },
  {
   "cell_type": "markdown",
   "metadata": {},
   "source": [
    "* 上述代码的问题：\n",
    "    * 英雄的血量被类外面的代码修改成了负数，这显然是不合理的。\n",
    "    * 属性是类的一部分，那么对属性值的修改最好还是应在用类的方法来实现。\n",
    "    * 在修改类属性的方法中，要更具需求合理添加对属性的约束条件。"
   ]
  },
  {
   "cell_type": "code",
   "execution_count": 17,
   "metadata": {},
   "outputs": [
    {
     "name": "stdout",
     "output_type": "stream",
     "text": [
      "0\n"
     ]
    }
   ],
   "source": [
    "# 创建一个Hero类\n",
    "class Hero:\n",
    "    # 构造方法\n",
    "    def __init__(self, name, power):\n",
    "        self.name = name\n",
    "        self.blood = 1.0\n",
    "        self.power = power\n",
    "    \n",
    "    # 查看英雄当前状态\n",
    "    def status(self):\n",
    "        print(\"我是{}，血量{}，攻击力{}。\".format(self.name, self.blood, self.power))\n",
    "\n",
    "    # 攻击：被攻击的英雄减少实施攻击英雄对应攻击力的血量\n",
    "    def attack(self, attacked_hero):\n",
    "        attacked_hero.reduce_blood(self.power)\n",
    "    \n",
    "    # 减少血量\n",
    "    def reduce_blood(self, reduce_value):\n",
    "        if reduce_value > self.blood:\n",
    "            self.blood = 0\n",
    "        else:\n",
    "            self.blood = self.blood - reduce_value\n",
    "        \n",
    "# 创建第1个英雄实例\n",
    "hero1 = Hero(\"卡莎\", 0.1)\n",
    "\n",
    "# 创建第2个英雄实例\n",
    "hero2 = Hero(\"阿卡丽\", 0.15)\n",
    "\n",
    "hero1.reduce_blood(4)\n",
    "hero1.reduce_blood(4)\n",
    "hero1.reduce_blood(4) \n",
    "\n",
    "print(hero1.blood)"
   ]
  },
  {
   "cell_type": "markdown",
   "metadata": {},
   "source": [
    "* 上述代码体现了面向对象编程的基本思想之一：**封装**。\n",
    "    * 类的属性不要直接修改。\n",
    "    * 通过类的方法来修改类属性的值。"
   ]
  },
  {
   "cell_type": "markdown",
   "metadata": {},
   "source": [
    "## 8.2 实例：汽车\n",
    "**问题1**：\n",
    "* 创建一个名为`Car`的类，其方法`__init__()`设置两个属性，`name`（车名）和`brand`（品牌名）。\n",
    "* 定义一个名为`show()`的方法，功能是打印出汽车的名称和品牌。\n",
    "* 定义一个名为`run()`的方法，打印“汽车XXX跑起来了！”，其中XXX表示汽车的`name`。\n",
    "* 根据这个类创建一个名为`car`的实例，先通过属性直接打印其两个属性，再调用上面的两个方法。\n",
    "* 利用编写的`Car`类创建5个实例，并对每个实例调用方法`show()`。\n",
    "\n",
    "**代码实现**："
   ]
  },
  {
   "cell_type": "code",
   "execution_count": 18,
   "metadata": {},
   "outputs": [
    {
     "name": "stdout",
     "output_type": "stream",
     "text": [
      "汽车名称：高尔夫\n",
      "汽车品牌：大众\n",
      "汽车高尔夫跑起来了！\n",
      "汽车名称：Mode 3\n",
      "汽车品牌：Tesla\n",
      "汽车名称：Mode S\n",
      "汽车品牌：Tesla\n",
      "汽车名称：Mode X\n",
      "汽车品牌：Tesla\n",
      "汽车名称：Mode Y\n",
      "汽车品牌：Tesla\n",
      "汽车名称：CyberTruk\n",
      "汽车品牌：Tesla\n"
     ]
    }
   ],
   "source": [
    "class Car:\n",
    "    # 构造方法\n",
    "    def __init__(self, name, brand):\n",
    "        self.name = name\n",
    "        self.brand = brand\n",
    "    \n",
    "    # 打印汽车的名称和品牌\n",
    "    def show(self):\n",
    "        print(\"汽车名称：\" + self.name)\n",
    "        print(\"汽车品牌：\" + self.brand)\n",
    "        \n",
    "    # 输出汽车状态\n",
    "    def run(self):\n",
    "        print(\"汽车\" + self.name + \"跑起来了！\")\n",
    "\n",
    "car = Car(\"高尔夫\",\"大众\")\n",
    "car.show()\n",
    "car.run()\n",
    "\n",
    "\n",
    "car1 = Car(\"Mode 3\",\"Tesla\")\n",
    "car1.show()\n",
    "car2 = Car(\"Mode S\",\"Tesla\")\n",
    "car2.show()\n",
    "car3 = Car(\"Mode X\",\"Tesla\")\n",
    "car3.show()\n",
    "car4 = Car(\"Mode Y\",\"Tesla\")\n",
    "car4.show()\n",
    "car5 = Car(\"CyberTruk\",\"Tesla\")\n",
    "car5.show()"
   ]
  },
  {
   "cell_type": "markdown",
   "metadata": {},
   "source": [
    "**问题2**：\n",
    "* 在已完成的`Car`类中，添加一个名为`number_of_people`的属性，并将其默认值设置为0，添加一个名为`max_people`的属性，表示车上最多可以有几个人，修改相应的构造方法，传入`max_people`的值。\n",
    "* 添加一个名为`set_people()`的方法，它让你能够设置车上的人数，但是不能超过`max_people`的限制。\n",
    "* 添加一个名为`increase_people()`的方法，每次调用这个方法就会让车上的人数加1，但是不能超过`max_people()`的限制。\n",
    "* 添加一个名为`reduce_people()`的方法，每次调用这个方法就会让车上的人数减1，但是最多减少为0。\n",
    "* 根据这个类，创建一个名为`car`的实例，打印有多少人在车上，然后多次调用以上3个方法，并打印车上的人数。\n",
    "\n",
    "**代码实现**："
   ]
  },
  {
   "cell_type": "code",
   "execution_count": 21,
   "metadata": {},
   "outputs": [
    {
     "name": "stdout",
     "output_type": "stream",
     "text": [
      "汽车名称：CyberTruk\n",
      "汽车品牌：Tesla\n",
      "现在汽车上有2个人。\n"
     ]
    }
   ],
   "source": [
    "class Car:\n",
    "    # 构造方法\n",
    "    def __init__(self, name, brand, max_people):\n",
    "        self.name = name\n",
    "        self.brand = brand\n",
    "        self.max_people = max_people\n",
    "        self.number_of_people = 0\n",
    "    \n",
    "    # 打印汽车的名称和品牌\n",
    "    def show(self):\n",
    "        print(\"汽车名称：\" + self.name)\n",
    "        print(\"汽车品牌：\" + self.brand)\n",
    "        print(\"现在汽车上有\" + str(self.number_of_people) + \"个人。\")\n",
    "        \n",
    "    # 输出汽车状态\n",
    "    def run(self):\n",
    "        print(\"汽车\" + self.name + \"跑起来了！\")\n",
    "        \n",
    "    # 设置车上的人数\n",
    "    def set_people(self, number):\n",
    "        if number > self.max_people:\n",
    "            self.number_of_people = self.max_people\n",
    "        else:\n",
    "            self.number_of_people = number\n",
    "    \n",
    "    # 增加车上的人数\n",
    "    def increase_people(self):\n",
    "        if self.number_of_people + 1 > self.max_people:\n",
    "            self.number_of_people = self.max_people\n",
    "        else:\n",
    "            self.number_of_people = self.number_of_people + 1\n",
    "    \n",
    "    # 减少车上的人数\n",
    "    def reduce_people(self):\n",
    "        if self.number_of_people - 1 < 0:\n",
    "            self.number_of_people = 0\n",
    "        else:\n",
    "            self.number_of_people = self.number_of_people - 1\n",
    "    \n",
    "car = Car(\"CyberTruk\", \"Tesla\", 5)\n",
    "car.set_people(1)\n",
    "car.increase_people()\n",
    "car.show()"
   ]
  },
  {
   "cell_type": "markdown",
   "metadata": {},
   "source": [
    "## 8.3 面向对象编程进阶\n",
    "### 8.3.1 类属性"
   ]
  },
  {
   "cell_type": "code",
   "execution_count": 19,
   "metadata": {},
   "outputs": [],
   "source": [
    "# 创建一个Hero类\n",
    "class Hero:\n",
    "    # 构造方法\n",
    "    def __init__(self, name, power):\n",
    "        self.name = name\n",
    "        self.blood = 1.0\n",
    "        self.power = power\n",
    "        self.number_of_heros = 0    # 如果在这里添加属性是不合理的\n",
    "    \n",
    "    # 查看英雄当前状态\n",
    "    def status(self):\n",
    "        print(\"我是{}，血量{}，攻击力{}。\".format(self.name, self.blood, self.power))\n",
    "\n",
    "    # 攻击：被攻击的英雄减少实施攻击英雄对应攻击力的血量\n",
    "    def attack(self, attacked_hero):\n",
    "        attacked_hero.reduce_blood(self.power)\n",
    "    \n",
    "    # 减少血量\n",
    "    def reduce_blood(self, reduce_value):\n",
    "        if reduce_value > self.blood:\n",
    "            self.blood = 0\n",
    "        else:\n",
    "            self.blood = self.blood - reduce_value\n",
    "\n",
    "# 创建第1个英雄实例\n",
    "hero1 = Hero(\"卡莎\", 0.1)\n",
    "\n",
    "# 创建第2个英雄实例\n",
    "hero2 = Hero(\"阿卡丽\", 0.15)"
   ]
  },
  {
   "cell_type": "markdown",
   "metadata": {},
   "source": [
    "* 假设现在我们要给Hero类添加一个属性`number_of_heros`，表示游戏中英雄有多少个。\n",
    "* 如果在`__init__()`函数中添加属性`number_of_heros`，该属性表示的实例的属性，而不是这个类的属性。\n",
    "* 这种情况就需要使用**类属性**。"
   ]
  },
  {
   "cell_type": "code",
   "execution_count": 7,
   "metadata": {},
   "outputs": [
    {
     "name": "stdout",
     "output_type": "stream",
     "text": [
      "卡莎，欢迎来到召唤师峡谷！\n",
      "阿卡丽，欢迎来到召唤师峡谷！\n",
      "164\n",
      "164\n",
      "164\n",
      "159\n",
      "159\n",
      "10\n",
      "159\n"
     ]
    }
   ],
   "source": [
    "# 创建一个Hero类\n",
    "class Hero:\n",
    "    # 类属性\n",
    "    number_of_heros = 164  # 截止到2022年\n",
    "    \n",
    "    # 构造方法：添加实例属性，做其他的初始化工作\n",
    "    def __init__(self, name, power):\n",
    "        self.name = name\n",
    "        self.blood = 1.0\n",
    "        self.power = power\n",
    "        print(\"{}，欢迎来到召唤师峡谷！\".format(self.name))\n",
    "    \n",
    "    # 查看英雄当前状态\n",
    "    def status(self):\n",
    "        print(\"我是{}，血量{}，攻击力{}。\".format(self.name, self.blood, self.power))\n",
    "\n",
    "    # 攻击：被攻击的英雄减少实施攻击英雄对应攻击力的血量\n",
    "    def attack(self, attacked_hero):\n",
    "        attacked_hero.reduce_blood(self.power)\n",
    "    \n",
    "    # 减少血量\n",
    "    def reduce_blood(self, reduce_value):\n",
    "        if reduce_value > self.blood:\n",
    "            self.blood = 0\n",
    "        else:\n",
    "            self.blood = self.blood - reduce_value\n",
    "\n",
    "# 创建第1个英雄实例\n",
    "hero1 = Hero(\"卡莎\", 0.1)\n",
    "\n",
    "# 创建第2个英雄实例\n",
    "hero2 = Hero(\"阿卡丽\", 0.15)\n",
    "\n",
    "# 通过类名访问类属性\n",
    "print(Hero.number_of_heros)\n",
    "\n",
    "# 通过实例访问类属性\n",
    "print(hero1.number_of_heros)\n",
    "print(hero2.number_of_heros)\n",
    "\n",
    "# 通过类名修改类属性\n",
    "Hero.number_of_heros = 159\n",
    "print(Hero.number_of_heros)\n",
    "\n",
    "# 语法陷阱：通过实例修改类属性（错误）\n",
    "hero1.number_of_heros = 10\n",
    "\n",
    "print(Hero.number_of_heros)\n",
    "print(hero1.number_of_heros)\n",
    "print(hero2.number_of_heros)"
   ]
  },
  {
   "cell_type": "markdown",
   "metadata": {},
   "source": [
    "* 类属性的访问和修改：\n",
    "    * 每个类只有一份，所有的实例都共享这一份。\n",
    "    * 可以通过类名访问，也可以通过实例访问。\n",
    "    * 修改类属性需要通过类名。\n",
    "    * 通过实例名修改是错误的，这种修改实质上是创建了一个同名的实例属性。\n",
    "    * 实例属性和类属性同名时，使用实例访问优先返回的是实例属性。"
   ]
  },
  {
   "cell_type": "markdown",
   "metadata": {},
   "source": [
    "### 8.3.2 类方法\n",
    "* 上一节中关于对类属性的操作仍然是不合理的，最佳的方式是采用类方法来操作类属性。\n",
    "* 现在我们想把创建的每一个英雄都放到一个list中，这样方便后续的操作。"
   ]
  },
  {
   "cell_type": "code",
   "execution_count": 1,
   "metadata": {},
   "outputs": [
    {
     "name": "stdout",
     "output_type": "stream",
     "text": [
      "卡莎，欢迎来到召唤师峡谷！\n",
      "阿卡丽，欢迎来到召唤师峡谷！\n",
      "2\n",
      "0.15\n",
      "2\n",
      "2\n",
      "0.15\n",
      "0.15\n"
     ]
    }
   ],
   "source": [
    "# 创建一个Hero类\n",
    "class Hero:\n",
    "    # 定义类属性，用来保存所有创建的英雄\n",
    "    heros = [] \n",
    "    \n",
    "    # 定义类方法，用来返回已创建英雄的个数\n",
    "    @classmethod\n",
    "    def number_of_heros(cls):\n",
    "        return len(cls.heros)\n",
    "    \n",
    "    @classmethod\n",
    "    def maxpower(cls):\n",
    "        mp = float(\"-inf\")\n",
    "        for m in cls.heros:\n",
    "            if m.power > mp:\n",
    "                mp = m.power\n",
    "        return mp\n",
    "    \n",
    "    # 构造方法：添加实例属性，做其他的初始化工作\n",
    "    def __init__(self, name, power):\n",
    "        self.name = name\n",
    "        self.blood = 1.0\n",
    "        self.power = power\n",
    "        Hero.heros.append(self)\n",
    "        print(\"{}，欢迎来到召唤师峡谷！\".format(self.name))\n",
    "    \n",
    "    # 查看英雄当前状态\n",
    "    def status(self):\n",
    "        print(\"我是{}，血量{}，攻击力{}。\".format(self.name, self.blood, self.power))\n",
    "\n",
    "    # 攻击：被攻击的英雄减少实施攻击英雄对应攻击力的血量\n",
    "    def attack(self, attacked_hero):\n",
    "        attacked_hero.reduce_blood(self.power)\n",
    "    \n",
    "    # 减少血量\n",
    "    def reduce_blood(self, reduce_value):\n",
    "        if reduce_value > self.blood:\n",
    "            self.blood = 0\n",
    "        else:\n",
    "            self.blood = self.blood - reduce_value\n",
    "\n",
    "# 创建第1个英雄实例\n",
    "hero1 = Hero(\"卡莎\", 0.1)\n",
    "\n",
    "# 创建第2个英雄实例\n",
    "hero2 = Hero(\"阿卡丽\", 0.15)\n",
    "\n",
    "# 通过类名访问类属性\n",
    "print(Hero.number_of_heros())\n",
    "print(Hero.maxpower())\n",
    "\n",
    "\n",
    "# 通过实例访问类属性\n",
    "print(hero1.number_of_heros())\n",
    "print(hero2.number_of_heros())\n",
    "print(hero1.maxpower())\n",
    "print(hero2.maxpower())"
   ]
  },
  {
   "cell_type": "markdown",
   "metadata": {},
   "source": [
    "* 类方法调用注意事项：\n",
    "    * 类方法可以通过类名调用，也可以通过实例名调用。\n",
    "    * 类方法不能访问实例变量，可以访问类变量。\n",
    "    * 类方法需要加上`@classmethod`，第一个参数必须是class(cls)"
   ]
  },
  {
   "cell_type": "markdown",
   "metadata": {},
   "source": [
    "### 8.3.3 静态方法\n"
   ]
  },
  {
   "cell_type": "code",
   "execution_count": 4,
   "metadata": {},
   "outputs": [
    {
     "name": "stdout",
     "output_type": "stream",
     "text": [
      "卡莎，欢迎来到召唤师峡谷！\n",
      "阿卡丽，欢迎来到召唤师峡谷！\n",
      "传奇永不灭！\n",
      "传奇永不灭！\n",
      "传奇永不灭！\n"
     ]
    }
   ],
   "source": [
    "# 创建一个Hero类\n",
    "class Hero:\n",
    "    # 定义类属性，用来保存所有创建的英雄\n",
    "    heros = [] \n",
    "    \n",
    "    # 定义类方法，用来返回已创建英雄的个数\n",
    "    @classmethod\n",
    "    def number_of_heros(cls):\n",
    "        return len(cls.heros)\n",
    "    \n",
    "    @classmethod\n",
    "    def maxpower(cls):\n",
    "        mp = float(\"-inf\")\n",
    "        for m in cls.heros:\n",
    "            if m.power > mp:\n",
    "                mp = m.power\n",
    "        return mp\n",
    "    \n",
    "    @staticmethod\n",
    "    def intro():\n",
    "        print(\"传奇永不灭！\")\n",
    "    \n",
    "    \n",
    "    # 构造方法：添加实例属性，做其他的初始化工作\n",
    "    def __init__(self, name, power):\n",
    "        self.name = name\n",
    "        self.blood = 1.0\n",
    "        self.power = power\n",
    "        Hero.heros.append(self)\n",
    "        print(\"{}，欢迎来到召唤师峡谷！\".format(self.name))\n",
    "    \n",
    "    # 查看英雄当前状态\n",
    "    def status(self):\n",
    "        print(\"我是{}，血量{}，攻击力{}。\".format(self.name, self.blood, self.power))\n",
    "\n",
    "    # 攻击：被攻击的英雄减少实施攻击英雄对应攻击力的血量\n",
    "    def attack(self, attacked_hero):\n",
    "        attacked_hero.reduce_blood(self.power)\n",
    "    \n",
    "    # 减少血量\n",
    "    def reduce_blood(self, reduce_value):\n",
    "        if reduce_value > self.blood:\n",
    "            self.blood = 0\n",
    "        else:\n",
    "            self.blood = self.blood - reduce_value\n",
    "\n",
    "# 创建第1个英雄实例\n",
    "hero1 = Hero(\"卡莎\", 0.1)\n",
    "\n",
    "# 创建第2个英雄实例\n",
    "hero2 = Hero(\"阿卡丽\", 0.15)\n",
    "\n",
    "# 通过类名访问类属性\n",
    "Hero.intro()\n",
    "\n",
    "\n",
    "# 通过实例访问类属性\n",
    "hero1.intro()\n",
    "hero2.intro()"
   ]
  },
  {
   "cell_type": "markdown",
   "metadata": {},
   "source": [
    "* 静态方法的特点：\n",
    "    * 需要使用`@staticmethod`进行标注。\n",
    "    * 不需要传入实例或者类作为第一个参数。\n",
    "    * 可以使用类名调用，也可以使用实例名调用。"
   ]
  },
  {
   "cell_type": "markdown",
   "metadata": {},
   "source": [
    "### 8.3.4 继承和Super"
   ]
  },
  {
   "cell_type": "code",
   "execution_count": 7,
   "metadata": {},
   "outputs": [
    {
     "name": "stdout",
     "output_type": "stream",
     "text": [
      "安妮\n",
      "1.0\n",
      "0.2\n",
      "提伯斯\n",
      "我是安妮，血量1.0，攻击力0.2。\n"
     ]
    }
   ],
   "source": [
    "# 创建一个Hero类\n",
    "class Hero:\n",
    "    # 构造方法：添加实例属性，做其他的初始化工作\n",
    "    def __init__(self, name, power):\n",
    "        self.name = name\n",
    "        self.blood = 1.0\n",
    "        self.power = power\n",
    "    \n",
    "    # 查看英雄当前状态\n",
    "    def status(self):\n",
    "        print(\"我是{}，血量{}，攻击力{}。\".format(self.name, self.blood, self.power))\n",
    "\n",
    "# 创建安妮英雄类\n",
    "class AnnieHero(Hero):\n",
    "    # 构造方法：调用父类方法初始化父类中的属性，然后初始化子类特有的属性。\n",
    "    def __init__(self, name, power, summon_creature):\n",
    "        # 这里的super()指代的就是父类Hero\n",
    "        super().__init__(name, power)\n",
    "        self.summon_creature = summon_creature\n",
    "        \n",
    "# 安妮\n",
    "annie = AnnieHero(\"安妮\", 0.2, \"提伯斯\")\n",
    "print(annie.name)\n",
    "print(annie.blood)\n",
    "print(annie.power)\n",
    "print(annie.summon_creature)\n",
    "annie.status()"
   ]
  },
  {
   "cell_type": "markdown",
   "metadata": {},
   "source": [
    "### 8.3.5 给子类添加方法"
   ]
  },
  {
   "cell_type": "code",
   "execution_count": 8,
   "metadata": {},
   "outputs": [
    {
     "name": "stdout",
     "output_type": "stream",
     "text": [
      "提伯斯，这边儿，别掉队呀！\n"
     ]
    }
   ],
   "source": [
    "# 创建一个Hero类\n",
    "class Hero:\n",
    "    # 构造方法：添加实例属性，做其他的初始化工作\n",
    "    def __init__(self, name, power):\n",
    "        self.name = name\n",
    "        self.blood = 1.0\n",
    "        self.power = power\n",
    "    \n",
    "    # 查看英雄当前状态\n",
    "    def status(self):\n",
    "        print(\"我是{}，血量{}，攻击力{}。\".format(self.name, self.blood, self.power))\n",
    "\n",
    "# 创建安妮英雄类\n",
    "class AnnieHero(Hero):\n",
    "    def __init__(self, name, power, summon_creature):\n",
    "        # 这里的super()指代的就是父类Hero\n",
    "        super().__init__(name, power)\n",
    "        self.summon_creature = summon_creature\n",
    "    \n",
    "    # 可以编写父类没有，子类特有的方法\n",
    "    def move_summon_creature(self):\n",
    "        print(f'{self.summon_creature}，这边儿，别掉队呀！')\n",
    "        \n",
    "# 安妮\n",
    "annie = AnnieHero(\"安妮\", 0.2, \"提伯斯\")\n",
    "annie.move_summon_creature()"
   ]
  },
  {
   "cell_type": "markdown",
   "metadata": {},
   "source": [
    "### 8.3.6 重写父类方法"
   ]
  },
  {
   "cell_type": "code",
   "execution_count": 13,
   "metadata": {},
   "outputs": [
    {
     "name": "stdout",
     "output_type": "stream",
     "text": [
      "我是安妮，血量1.0，攻击力0.2。\n",
      "那个......，你看见过我的小熊“提伯斯”吗？\n"
     ]
    }
   ],
   "source": [
    "# 创建一个Hero类\n",
    "class Hero:\n",
    "    # 构造方法：添加实例属性，做其他的初始化工作\n",
    "    def __init__(self, name, power):\n",
    "        self.name = name\n",
    "        self.blood = 1.0\n",
    "        self.power = power\n",
    "    \n",
    "    # 查看英雄当前状态\n",
    "    def status(self):\n",
    "        print(\"我是{}，血量{}，攻击力{}。\".format(self.name, self.blood, self.power))\n",
    "\n",
    "# 创建安妮英雄类\n",
    "class AnnieHero(Hero):\n",
    "    def __init__(self, name, power, summon_creature):\n",
    "        # 这里的super()指代的就是父类Hero\n",
    "        super().__init__(name, power)\n",
    "        self.summon_creature = summon_creature\n",
    "    \n",
    "    # 编写父类没有，子类特有的方法\n",
    "    def move_summon_creature(self):\n",
    "        print(f'{self.summon_creature}，这边儿，别掉队呀！')\n",
    "        \n",
    "    # 重写父类方法status\n",
    "    def status(self):\n",
    "        super().status()\n",
    "        print(f'那个......，你看见过我的小熊“{self.summon_creature}”吗？')\n",
    "        \n",
    "# 安妮\n",
    "annie = AnnieHero(\"安妮\", 0.2, \"提伯斯\")\n",
    "annie.status()"
   ]
  },
  {
   "cell_type": "markdown",
   "metadata": {},
   "source": [
    "### 8.3.7 命名规则\n",
    "* 类名：驼峰命名法。\n",
    "    * 例如：`AnnieHero`，`MissFortuneHero`。\n",
    "* 方法名、变量名、参数和文件名。\n",
    "    * 全小写，多个单词之间用下划线连接。\n",
    "    * 例如：`summon_creature`。\n",
    "* 私有属性：变量名前加一个下划线\n",
    "    * 例如：`_birth_area`，只是程序员之间的惯用约定。"
   ]
  },
  {
   "cell_type": "markdown",
   "metadata": {},
   "source": [
    "### 8.3.8 成员保护与访问机制\n",
    "* 类的私有属性和私有方法以双下划线`__`开头。\n",
    "* 私有属性或方法不能在类的外部被使用或者直接访问。"
   ]
  },
  {
   "cell_type": "code",
   "execution_count": 30,
   "metadata": {},
   "outputs": [
    {
     "name": "stdout",
     "output_type": "stream",
     "text": [
      "{'kill': 0, 'death': 0, 'assistant': 0}\n"
     ]
    }
   ],
   "source": [
    "# 创建一个Hero类\n",
    "class Hero:\n",
    "    # 构造方法：添加实例属性，做其他的初始化工作\n",
    "    def __init__(self, name, power):\n",
    "        self.name = name\n",
    "        self.blood = 1.0\n",
    "        self.power = power\n",
    "        # 私有属性\n",
    "        self.__statistics = {\"kill\" : 0, \"death\" : 0, \"assistant\" : 0}\n",
    "    \n",
    "    # 查看英雄当前状态\n",
    "    def status(self):\n",
    "        print(\"我是{}，血量{}，攻击力{}。\".format(self.name, self.blood, self.power))\n",
    "\n",
    "    # 私有方法\n",
    "    def __show_statistics(self):\n",
    "        print(self.__statistics)\n",
    "\n",
    "    def show(self):\n",
    "        self.__show_statistics()\n",
    "        \n",
    "# 创建一个英雄\n",
    "hero1 = Hero(\"安妮\", 0.2)\n",
    "\n",
    "# 无法直接访问私有变量\n",
    "# print(hero1.__statistics) \n",
    "\n",
    "# 无法直接访问私有方法\n",
    "# hero1.__show_statistics()\n",
    "\n",
    "# 通过非私有方法访问私有变量\n",
    "hero1.show()"
   ]
  },
  {
   "cell_type": "markdown",
   "metadata": {},
   "source": [
    "* Property装饰器：为类的属性创建`getter`、`setter`和`deleter`方法。"
   ]
  },
  {
   "cell_type": "code",
   "execution_count": 37,
   "metadata": {},
   "outputs": [
    {
     "name": "stdout",
     "output_type": "stream",
     "text": [
      "{'kill': 0, 'death': 0, 'assistant': 0}\n",
      "{'kill': 3, 'death': 2, 'assistant': 1}\n",
      "{}\n"
     ]
    }
   ],
   "source": [
    "# 创建一个Hero类\n",
    "class Hero:\n",
    "    # 构造方法：添加实例属性，做其他的初始化工作\n",
    "    def __init__(self, name, power):\n",
    "        self.name = name\n",
    "        self.blood = 1.0\n",
    "        self.power = power\n",
    "        # 私有属性\n",
    "        self.__statistics = {\"kill\" : 0, \"death\" : 0, \"assistant\" : 0}\n",
    "    \n",
    "    # 查看英雄当前状态\n",
    "    def status(self):\n",
    "        print(\"我是{}，血量{}，攻击力{}。\".format(self.name, self.blood, self.power))\n",
    "\n",
    "    @property\n",
    "    def statistics(self):\n",
    "        return self.__statistics\n",
    "    \n",
    "    @statistics.setter\n",
    "    def statistics(self, value):\n",
    "        self.__statistics = value\n",
    "    \n",
    "    @statistics.deleter\n",
    "    def statistics(self):\n",
    "        self.__statistics = {}\n",
    "    \n",
    "hero1 = Hero(\"安妮\", 0.2)\n",
    "print(hero1.statistics)\n",
    "hero1.statistics = {\"kill\" : 3, \"death\" : 2, \"assistant\" : 1}\n",
    "print(hero1.statistics)\n",
    "del hero1.statistics\n",
    "print(hero1.statistics)"
   ]
  },
  {
   "cell_type": "markdown",
   "metadata": {},
   "source": [
    "### 8.3.9 多态"
   ]
  },
  {
   "cell_type": "code",
   "execution_count": 41,
   "metadata": {},
   "outputs": [
    {
     "name": "stdout",
     "output_type": "stream",
     "text": [
      "我是安妮，血量1.0，攻击力0.2。\n",
      "那个......，你看见过我的小熊“提伯斯”吗？\n",
      "我是杰斯，血量1.0，攻击力0.3。\n"
     ]
    },
    {
     "ename": "AttributeError",
     "evalue": "'JayceHero' object has no attribute 'summon_creature'",
     "output_type": "error",
     "traceback": [
      "\u001b[1;31m---------------------------------------------------------------------------\u001b[0m",
      "\u001b[1;31mAttributeError\u001b[0m                            Traceback (most recent call last)",
      "\u001b[1;32m<ipython-input-41-e99ae3100916>\u001b[0m in \u001b[0;36m<module>\u001b[1;34m()\u001b[0m\n\u001b[0;32m     56\u001b[0m \u001b[0ma\u001b[0m \u001b[1;33m=\u001b[0m \u001b[1;33m[\u001b[0m\u001b[0mannie\u001b[0m\u001b[1;33m,\u001b[0m \u001b[0mjayce\u001b[0m\u001b[1;33m]\u001b[0m\u001b[1;33m\u001b[0m\u001b[0m\n\u001b[0;32m     57\u001b[0m \u001b[1;32mfor\u001b[0m \u001b[0mi\u001b[0m \u001b[1;32min\u001b[0m \u001b[0ma\u001b[0m\u001b[1;33m:\u001b[0m\u001b[1;33m\u001b[0m\u001b[0m\n\u001b[1;32m---> 58\u001b[1;33m     \u001b[0mintroduction\u001b[0m\u001b[1;33m(\u001b[0m\u001b[0mi\u001b[0m\u001b[1;33m)\u001b[0m\u001b[1;33m\u001b[0m\u001b[0m\n\u001b[0m",
      "\u001b[1;32m<ipython-input-41-e99ae3100916>\u001b[0m in \u001b[0;36mintroduction\u001b[1;34m(hero)\u001b[0m\n\u001b[0;32m     52\u001b[0m \u001b[1;33m\u001b[0m\u001b[0m\n\u001b[0;32m     53\u001b[0m \u001b[1;32mdef\u001b[0m \u001b[0mintroduction\u001b[0m\u001b[1;33m(\u001b[0m\u001b[0mhero\u001b[0m\u001b[1;33m)\u001b[0m\u001b[1;33m:\u001b[0m\u001b[1;33m\u001b[0m\u001b[0m\n\u001b[1;32m---> 54\u001b[1;33m     \u001b[0mhero\u001b[0m\u001b[1;33m.\u001b[0m\u001b[0mstatus\u001b[0m\u001b[1;33m(\u001b[0m\u001b[1;33m)\u001b[0m\u001b[1;33m\u001b[0m\u001b[0m\n\u001b[0m\u001b[0;32m     55\u001b[0m \u001b[1;33m\u001b[0m\u001b[0m\n\u001b[0;32m     56\u001b[0m \u001b[0ma\u001b[0m \u001b[1;33m=\u001b[0m \u001b[1;33m[\u001b[0m\u001b[0mannie\u001b[0m\u001b[1;33m,\u001b[0m \u001b[0mjayce\u001b[0m\u001b[1;33m]\u001b[0m\u001b[1;33m\u001b[0m\u001b[0m\n",
      "\u001b[1;32m<ipython-input-41-e99ae3100916>\u001b[0m in \u001b[0;36mstatus\u001b[1;34m(self)\u001b[0m\n\u001b[0;32m     46\u001b[0m     \u001b[1;32mdef\u001b[0m \u001b[0mstatus\u001b[0m\u001b[1;33m(\u001b[0m\u001b[0mself\u001b[0m\u001b[1;33m)\u001b[0m\u001b[1;33m:\u001b[0m\u001b[1;33m\u001b[0m\u001b[0m\n\u001b[0;32m     47\u001b[0m         \u001b[0msuper\u001b[0m\u001b[1;33m(\u001b[0m\u001b[1;33m)\u001b[0m\u001b[1;33m.\u001b[0m\u001b[0mstatus\u001b[0m\u001b[1;33m(\u001b[0m\u001b[1;33m)\u001b[0m\u001b[1;33m\u001b[0m\u001b[0m\n\u001b[1;32m---> 48\u001b[1;33m         \u001b[0mprint\u001b[0m\u001b[1;33m(\u001b[0m\u001b[1;34mf'已切换至{self.summon_creature}，为了皮尔特沃夫！'\u001b[0m\u001b[1;33m)\u001b[0m\u001b[1;33m\u001b[0m\u001b[0m\n\u001b[0m\u001b[0;32m     49\u001b[0m \u001b[1;33m\u001b[0m\u001b[0m\n\u001b[0;32m     50\u001b[0m \u001b[0mannie\u001b[0m \u001b[1;33m=\u001b[0m \u001b[0mAnnieHero\u001b[0m\u001b[1;33m(\u001b[0m\u001b[1;34m\"安妮\"\u001b[0m\u001b[1;33m,\u001b[0m \u001b[1;36m0.2\u001b[0m\u001b[1;33m,\u001b[0m \u001b[1;34m\"提伯斯\"\u001b[0m\u001b[1;33m)\u001b[0m\u001b[1;33m\u001b[0m\u001b[0m\n",
      "\u001b[1;31mAttributeError\u001b[0m: 'JayceHero' object has no attribute 'summon_creature'"
     ]
    }
   ],
   "source": [
    "# 创建一个Hero类\n",
    "class Hero:\n",
    "    # 构造方法：添加实例属性，做其他的初始化工作\n",
    "    def __init__(self, name, power):\n",
    "        self.name = name\n",
    "        self.blood = 1.0\n",
    "        self.power = power\n",
    "    \n",
    "    # 查看英雄当前状态\n",
    "    def status(self):\n",
    "        print(\"我是{}，血量{}，攻击力{}。\".format(self.name, self.blood, self.power))\n",
    "\n",
    "# 创建安妮英雄类\n",
    "class AnnieHero(Hero):\n",
    "    def __init__(self, name, power, summon_creature):\n",
    "        # 这里的super()指代的就是父类Hero\n",
    "        super().__init__(name, power)\n",
    "        self.summon_creature = summon_creature\n",
    "    \n",
    "    # 编写父类没有，子类特有的方法\n",
    "    def move_summon_creature(self):\n",
    "        print(f'{self.summon_creature}，这边儿，别掉队呀！')\n",
    "        \n",
    "    # 重写父类方法status\n",
    "    def status(self):\n",
    "        super().status()\n",
    "        print(f'那个......，你看见过我的小熊“{self.summon_creature}”吗？')\n",
    "\n",
    "# 创建杰斯英雄类\n",
    "class JayceHero(Hero):\n",
    "    def __init__(self, name, power, weapon_mode):\n",
    "        # 这里的super()指代的就是父类Hero\n",
    "        super().__init__(name, power)\n",
    "        self.weapon_mode = weapon_mode\n",
    "    \n",
    "    # 编写父类没有，子类特有的方法\n",
    "    def switch_weapon_mode(self):\n",
    "        if self.weapon_mode == \"锤形态\":\n",
    "            self.weapon_mode = \"炮形态\"\n",
    "            print(\"大炮已组装！\")\n",
    "        else:\n",
    "            self.weapon_mode = \"锤形态\"\n",
    "            print(\"战锤时间！\")\n",
    "        \n",
    "    # 重写父类方法status\n",
    "    def status(self):\n",
    "        super().status()\n",
    "        print(f'已切换至{self.weapon_mode}，为了皮尔特沃夫！')\n",
    "\n",
    "#测试代码\n",
    "annie = AnnieHero(\"安妮\", 0.2, \"提伯斯\")\n",
    "jayce = JayceHero(\"杰斯\", 0.3, \"炮形态\")\n",
    "\n",
    "def introduction(hero):\n",
    "    hero.status()\n",
    "\n",
    "a = [annie, jayce]\n",
    "for i in a:\n",
    "    introduction(i)"
   ]
  },
  {
   "cell_type": "code",
   "execution_count": null,
   "metadata": {},
   "outputs": [],
   "source": []
  }
 ],
 "metadata": {
  "kernelspec": {
   "display_name": "Python 3",
   "language": "python",
   "name": "python3"
  },
  "language_info": {
   "codemirror_mode": {
    "name": "ipython",
    "version": 3
   },
   "file_extension": ".py",
   "mimetype": "text/x-python",
   "name": "python",
   "nbconvert_exporter": "python",
   "pygments_lexer": "ipython3",
   "version": "3.7.0"
  }
 },
 "nbformat": 4,
 "nbformat_minor": 2
}
